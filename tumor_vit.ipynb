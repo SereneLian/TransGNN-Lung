{
 "cells": [
  {
   "cell_type": "code",
   "execution_count": null,
   "metadata": {
    "executionInfo": {
     "elapsed": 4699,
     "status": "ok",
     "timestamp": 1640070236527,
     "user": {
      "displayName": "Jie Lian",
      "photoUrl": "https://lh3.googleusercontent.com/a/default-user=s64",
      "userId": "05961421643868848500"
     },
     "user_tz": -480
    },
    "id": "DEc0BOAjBJ6P"
   },
   "outputs": [],
   "source": [
    "import json\n",
    "from PIL import Image\n",
    "import matplotlib. pyplot as plt\n",
    "import SimpleITK as sitk\n",
    "import numpy as np\n",
    "import scipy\n",
    "import torch\n",
    "import pandas as pd\n",
    "import scipy.ndimage\n",
    "from tqdm import tqdm"
   ]
  },
  {
   "cell_type": "code",
   "execution_count": null,
   "metadata": {
    "executionInfo": {
     "elapsed": 1086,
     "status": "ok",
     "timestamp": 1640070241644,
     "user": {
      "displayName": "Jie Lian",
      "photoUrl": "https://lh3.googleusercontent.com/a/default-user=s64",
      "userId": "05961421643868848500"
     },
     "user_tz": -480
    },
    "id": "EoLbweGmUBmI"
   },
   "outputs": [],
   "source": [
    "import os\n",
    "from pytorch_pretrained_vit.model import ViT"
   ]
  },
  {
   "cell_type": "code",
   "execution_count": null,
   "metadata": {
    "executionInfo": {
     "elapsed": 4,
     "status": "ok",
     "timestamp": 1640070243405,
     "user": {
      "displayName": "Jie Lian",
      "photoUrl": "https://lh3.googleusercontent.com/a/default-user=s64",
      "userId": "05961421643868848500"
     },
     "user_tz": -480
    },
    "id": "Cdqhf-PRx_zp"
   },
   "outputs": [],
   "source": [
    "label_path = \"data/seg_image/labels/\"\n",
    "stage1= list(np.load(label_path+\"name_stage1.npy\"))\n",
    "stage2= list(np.load(label_path+\"name_stage2.npy\"))\n",
    "stage3= list(np.load(label_path+\"name_stage3.npy\"))"
   ]
  },
  {
   "cell_type": "code",
   "execution_count": null,
   "metadata": {
    "colab": {
     "base_uri": "https://localhost:8080/"
    },
    "executionInfo": {
     "elapsed": 596,
     "status": "ok",
     "timestamp": 1640070245739,
     "user": {
      "displayName": "Jie Lian",
      "photoUrl": "https://lh3.googleusercontent.com/a/default-user=s64",
      "userId": "05961421643868848500"
     },
     "user_tz": -480
    },
    "id": "cetSeEyHyLRL",
    "outputId": "c33c9114-59ad-4473-9822-3bf95c2d57aa"
   },
   "outputs": [],
   "source": [
    "stage12 = [*stage1, *stage2]\n",
    "print(len(stage12))"
   ]
  },
  {
   "cell_type": "code",
   "execution_count": null,
   "metadata": {
    "executionInfo": {
     "elapsed": 470,
     "status": "ok",
     "timestamp": 1640070311336,
     "user": {
      "displayName": "Jie Lian",
      "photoUrl": "https://lh3.googleusercontent.com/a/default-user=s64",
      "userId": "05961421643868848500"
     },
     "user_tz": -480
    },
    "id": "p65HLi671QhD"
   },
   "outputs": [],
   "source": [
    "# step 0: Read Image and rescpacing\n",
    "def read_image(path, tar_spacing=[1.0, 1.0, 1.0]):\n",
    "    img = sitk.ReadImage(path)\n",
    "  # size in x, y,z\n",
    "    img.SetSpacing(tar_spacing)\n",
    "    array_img = sitk.GetArrayFromImage(img)\n",
    "    #array in z, y, x\n",
    "    print(\"Original Shape:\",array_img.shape)\n",
    "    return array_img\n",
    "\n",
    "# Step 1: Normilize the image\n",
    "def normlize(array_img):\n",
    "    ctoriTR = np.clip((array_img + 1000.)/(1000+1000),0,1000)\n",
    "    return ctoriTR\n",
    "\n",
    "# Step 2: Padding the image\n",
    "def padding_Zero_3D(array_img, target_shape = (64, 218, 218)):\n",
    "    img_shape= array_img.shape\n",
    "    padded_array = np.zeros((target_shape))\n",
    "    y = int((target_shape[1]-img_shape[1])/2)\n",
    "    x = int((target_shape[2]-img_shape[2])/2)\n",
    "    if img_shape[0] <= target_shape[0]:\n",
    "        z = int((target_shape[0]-img_shape[0])/2)\n",
    "        padded_array[z:img_shape[0]+z, y:img_shape[1]+y, x:img_shape[2]+x] = array_img\n",
    "    else:\n",
    "        padded_array[:, y:img_shape[1]+y, x:img_shape[2]+x] = array_img[img_shape[0]/2 -32, img_shape[0]/2 +32]\n",
    "#     print(\"Array After Padding:\", padded_array.shape)\n",
    "    return padded_array\n",
    "\n",
    "def padding_Zero_large_3D(array_img, target_shape = (64, 128, 128)):\n",
    "    tz, ty, tx = target_shape[0], target_shape[1], target_shape[2]\n",
    "    padded_array = np.zeros((target_shape))\n",
    "    oz, oy, ox = array_img.shape\n",
    "    interp = max(ox, oy)\n",
    "#     print(interp)\n",
    "    inter_pad = np.zeros((oz,interp , interp))\n",
    "    if ox>= oy:\n",
    "        inter_pad[:, int((interp-oy)/2): int((interp-oy)/2)+oy,  :]=array_img\n",
    "    else: \n",
    "        inter_pad[:,:,int((interp-ox)/2): int((interp-ox)/2)+ox]=array_img\n",
    "\n",
    "    if ty >= interp:\n",
    "        x = int((tx-interp)/2)\n",
    "        y = int((ty-interp)/2)\n",
    "        if oz <= tz:\n",
    "            z = int((tz-oz)/2)\n",
    "            padded_array[z:oz+z, y:interp+y, x:interp+x] = inter_pad\n",
    "        else:\n",
    "            padded_array[:, y:interp+y, x:interp+x] = inter_pad[int(oz/2 -tz/2): int(oz/2+tz/2)]\n",
    "    else:\n",
    "        x = int(tx/2)\n",
    "        y = int(ty/2)\n",
    "        if oz <= tz:\n",
    "            z = int((tz-oz)/2)\n",
    "            padded_array[z:oz+z, :, :] = inter_pad[:, int(interp/2-y):int(interp/2+y), int(interp/2-x):int(interp/2+x)]\n",
    "        else:\n",
    "            padded_array[:, :, :] = inter_pad[int(oz/2 -tz/2):int(oz/2+tz/2), int(interp/2-y):int(interp/2+y), int(interp/2-x):int(interp/2+x)]\n",
    "    return padded_array\n",
    "\n",
    "# step 3 : Resize the image to 36*64*64    \n",
    "def resize3D(img):\n",
    "    dims, dimx, dimy = img.shape\n",
    "    ns, nx, ny = 36,64,64\n",
    "    rs, rx, ry = dims/ns,  dimx/nx,  dimy/ny  \n",
    "    new_img = scipy.ndimage.zoom(img,(1/rs,1/rx,1/ry),order=1)\n",
    "#     print(\"After Rsizing:\", new_img.shape)\n",
    "    return new_img\n",
    "\n",
    "# Step 4: Flatten the 3D images to 2D images\n",
    "def resize2D(img):\n",
    "    new_im = np.zeros((384, 384))\n",
    "    # slices number should be 36\n",
    "    for i in range(6):\n",
    "    # 2d with shape 64*64\n",
    "        for j in range(6):\n",
    "            new_im[i*64:i*64+64, j*64:j*64+64] = img[i*6+j]\n",
    "    return new_im\n",
    "\n",
    "def stander_3dImage(img_path):\n",
    "    array_img = read_image(img_path)\n",
    "    norm_img = normlize(array_img)\n",
    "    pad_img = padding_Zero_3D(norm_img)\n",
    "    new_img_3D = resize3D(pad_img)\n",
    "    new_img_2D = resize2D(new_img_3D)\n",
    "    return new_img_2D\n",
    "\n",
    "def stander_3dImage_large_array(img_path):\n",
    "#     array_img = read_image(img_path)\n",
    "# #     print(np.mean(array_img))\n",
    "    array_img = np.load(img_path,allow_pickle= True)\n",
    "    norm_img = normlize(array_img)\n",
    "#     print(np.mean(norm_img))\n",
    "    pad_img = padding_Zero_large_3D(norm_img)\n",
    "    new_img_3D = resize3D(pad_img)\n",
    "    new_img_2D = resize2D(new_img_3D)\n",
    "    return new_img_2D\n",
    "\n",
    "def stander_3dImage_large(img_path):\n",
    "    array_img = read_image(img_path)\n",
    "#     print(np.mean(array_img))\n",
    "    norm_img = normlize(array_img)\n",
    "#     print(np.mean(norm_img))\n",
    "    pad_img = padding_Zero_large_3D(norm_img)\n",
    "    new_img_3D = resize3D(pad_img)\n",
    "    new_img_2D = resize2D(new_img_3D)\n",
    "    return new_img_2D\n",
    "\n",
    "# Target size for images: torch.Size([1, 1, 384, 384])\n",
    "def input_image(d2_image):\n",
    "    # Image shpuld have a shape of 384*384\n",
    "    # add a channel dim\n",
    "    img = np.expand_dims(d2_image, axis=0)\n",
    "    # add a batch dim\n",
    "    img = np.expand_dims(img, axis=0)\n",
    "    # To tensor\n",
    "    img = torch.Tensor(img)\n",
    "    return img"
   ]
  },
  {
   "cell_type": "code",
   "execution_count": null,
   "metadata": {
    "colab": {
     "base_uri": "https://localhost:8080/"
    },
    "executionInfo": {
     "elapsed": 3879,
     "status": "ok",
     "timestamp": 1640070358137,
     "user": {
      "displayName": "Jie Lian",
      "photoUrl": "https://lh3.googleusercontent.com/a/default-user=s64",
      "userId": "05961421643868848500"
     },
     "user_tz": -480
    },
    "id": "rMYJJip9BpDP",
    "outputId": "67632d34-6ca5-45a3-b877-8ce5130e1013"
   },
   "outputs": [],
   "source": [
    "model_name = 'B_16_imagenet1k'\n",
    "model = ViT(model_name, pretrained=True)"
   ]
  },
  {
   "cell_type": "code",
   "execution_count": null,
   "metadata": {},
   "outputs": [],
   "source": [
    "# for SHPH dataset\n",
    "tumors_folder = 'data/seg_image/raw_seg/tumor/'\n",
    "save_folder = 'Tumor_tranformer/trans_feature/'\n",
    "model.eval()\n",
    "\n",
    "for img_name in tqdm(stage3):\n",
    "    try:\n",
    "        img_path = tumors_folder+str(img_name)+'.nii'\n",
    "        new2d = stander_3dImage_large(img_path)\n",
    "        new2d_tensor = input_image(new2d)\n",
    "        with torch.no_grad():\n",
    "            outputs, feature = model(new2d_tensor)\n",
    "            final_feature=feature.squeeze()\n",
    "            save_name = save_folder + str(img_name) + \".npy\"\n",
    "            np.save(save_name, final_feature)\n",
    "    except Exception as e:\n",
    "        print(img_name)\n",
    "        print(e)\n",
    "    \n"
   ]
  },
  {
   "cell_type": "code",
   "execution_count": null,
   "metadata": {
    "id": "6rmT78Xy0UUg"
   },
   "outputs": [],
   "source": [
    "# for external validation\n",
    "tumors_folder = 'data/seg_image/External/tumor/raw/'\n",
    "save_folder = 'Tumor_tranformer/trans_feature_val/'\n",
    "model.eval()\n",
    "name_list = os.listdir(tumors_folder)\n",
    "\n",
    "for img_name in tqdm(name_list):\n",
    "    try:\n",
    "        img_path = tumors_folder+img_name\n",
    "        new2d = stander_3dImage_large_array(img_path)\n",
    "        new2d_tensor = input_image(new2d)\n",
    "        with torch.no_grad():\n",
    "            outputs, feature = model(new2d_tensor)\n",
    "            final_feature=feature.squeeze()\n",
    "            save_name = save_folder + img_name\n",
    "            np.save(save_name, final_feature)\n",
    "    except Exception as e:\n",
    "        print(img_name)\n",
    "        print(e)\n",
    "    "
   ]
  },
  {
   "cell_type": "code",
   "execution_count": null,
   "metadata": {},
   "outputs": [],
   "source": [
    "tumors_folder = '/home/jielian/lung-graph-project/data/seg_image/raw_seg/tumor/'\n",
    "save_folder = 'inter_figures/'\n",
    "name_list = os.listdir(tumors_folder)"
   ]
  },
  {
   "cell_type": "code",
   "execution_count": null,
   "metadata": {},
   "outputs": [],
   "source": [
    "iname = name_list[100]\n",
    "img_path = tumors_folder+iname\n",
    "print(img_path)\n",
    "img1 = read_image(img_path) # raw image\n",
    "norm_img = normlize(img1) # normolized image\n",
    "new3d = resize3D(padding_Zero_large_3D(norm_img)) # padded image\n",
    "new2d = stander_3dImage_large(img_path) # 2d image"
   ]
  },
  {
   "cell_type": "code",
   "execution_count": null,
   "metadata": {},
   "outputs": [],
   "source": [
    "fig = plt.figure(figsize=(3,3), dpi =350)\n",
    "plt.imshow(img1[80], cmap='gray')\n",
    "plt.axis('off')\n",
    "fig.savefig(save_folder+iname[:-4]+'_160106116_raw.png')"
   ]
  },
  {
   "cell_type": "code",
   "execution_count": null,
   "metadata": {},
   "outputs": [],
   "source": [
    "fig = plt.figure(figsize=(3,3), dpi =350)\n",
    "plt.imshow(norm_img[80], cmap='gray')\n",
    "plt.axis('off')\n",
    "fig.savefig(save_folder+iname[:-4]+'_norm.png')"
   ]
  },
  {
   "cell_type": "code",
   "execution_count": null,
   "metadata": {},
   "outputs": [],
   "source": [
    "fig = plt.figure(figsize=(3,3), dpi =350)\n",
    "plt.imshow(img1[:,:,50], cmap='gray')\n",
    "plt.axis('off')\n",
    "fig.savefig(save_folder+iname[:-4]+'_raw_x.png')"
   ]
  },
  {
   "cell_type": "code",
   "execution_count": null,
   "metadata": {},
   "outputs": [],
   "source": [
    "fig = plt.figure(figsize=(3,3), dpi =350)\n",
    "plt.imshow(img1[:,50,:], cmap='gray')\n",
    "plt.axis('off')\n",
    "fig.savefig(save_folder+iname[:-4]+'_raw_y.png')"
   ]
  },
  {
   "cell_type": "code",
   "execution_count": null,
   "metadata": {},
   "outputs": [],
   "source": [
    "fig = plt.figure(figsize=(3,3), dpi =350)\n",
    "plt.imshow(new3d[18], cmap='gray')\n",
    "plt.axis('off')\n",
    "fig.savefig(save_folder+iname[:-4]+'_padded.png')"
   ]
  },
  {
   "cell_type": "code",
   "execution_count": null,
   "metadata": {},
   "outputs": [],
   "source": [
    "for i in range(6):\n",
    "    # 2d with shape 64*64\n",
    "        for j in range(6):\n",
    "            pim= new2d[i*64:i*64+64, j*64:j*64+64]\n",
    "            \n",
    "            fig = plt.figure(figsize=(1,1), dpi =350)\n",
    "            plt.imshow(pim, cmap='gray')\n",
    "            plt.axis('off')\n",
    "            fig.savefig(save_folder+iname[:-4]+str(i)+str(j)+'_2d.png')"
   ]
  },
  {
   "cell_type": "code",
   "execution_count": null,
   "metadata": {},
   "outputs": [],
   "source": [
    "fig = plt.figure(figsize=(10,5), dpi =350)\n",
    "ax1 = plt.subplot(2,4,1)\n",
    "plt.axis('off')\n",
    "plt.imshow(img1[20], cmap='gray') \n",
    "\n",
    "ax2 = plt.subplot(2,4,2)\n",
    "plt.axis('off')\n",
    "plt.imshow(img1[30], cmap='gray') \n",
    "\n",
    "ax3 = plt.subplot(2,4,3)\n",
    "plt.imshow(img1[40], cmap='gray') \n",
    "plt.axis('off')\n",
    "\n",
    "ax4 = plt.subplot(2,4,4)\n",
    "plt.imshow(new2d1, cmap='gray') \n",
    "plt.axis('off')\n",
    "\n",
    "ax5 = plt.subplot(2,4,5)\n",
    "plt.axis('off')\n",
    "plt.imshow(img2[20], cmap='gray') \n",
    "\n",
    "ax6 = plt.subplot(2,4,6)\n",
    "plt.axis('off')\n",
    "plt.imshow(img2[30], cmap='gray') \n",
    "\n",
    "ax7 = plt.subplot(2,4,7)\n",
    "plt.imshow(img2[40], cmap='gray') \n",
    "plt.axis('off')\n",
    "\n",
    "ax8 = plt.subplot(2,4,8)\n",
    "plt.imshow(new2d2, cmap='gray') \n",
    "plt.axis('off')\n",
    "fig.savefig(\"Figure_1A.jpg\")"
   ]
  },
  {
   "cell_type": "code",
   "execution_count": null,
   "metadata": {},
   "outputs": [],
   "source": []
  }
 ],
 "metadata": {
  "colab": {
   "authorship_tag": "ABX9TyMQth0JTX0+N2y6lD9s9Tpd",
   "mount_file_id": "1xxU10TsaomWqZt29Xg6L5f97ilRVqW1O",
   "name": "tumor_vit.ipynb",
   "provenance": []
  },
  "kernelspec": {
   "display_name": "Python 3 (ipykernel)",
   "language": "python",
   "name": "python3"
  },
  "language_info": {
   "codemirror_mode": {
    "name": "ipython",
    "version": 3
   },
   "file_extension": ".py",
   "mimetype": "text/x-python",
   "name": "python",
   "nbconvert_exporter": "python",
   "pygments_lexer": "ipython3",
   "version": "3.8.8"
  }
 },
 "nbformat": 4,
 "nbformat_minor": 1
}
