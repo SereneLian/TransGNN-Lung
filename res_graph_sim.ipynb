{
 "cells": [
  {
   "cell_type": "code",
   "execution_count": 1,
   "id": "c9668e7e",
   "metadata": {},
   "outputs": [
    {
     "name": "stderr",
     "output_type": "stream",
     "text": [
      "Using backend: pytorch\n"
     ]
    }
   ],
   "source": [
    "import pandas as pd\n",
    "import os\n",
    "import numpy as np\n",
    "from tqdm import tqdm\n",
    "import math\n",
    "import random\n",
    "from sklearn.metrics import f1_score, roc_auc_score, confusion_matrix, roc_curve\n",
    "from statannot import add_stat_annotation\n",
    "import seaborn as sns\n",
    "import time\n",
    "\n",
    "import networkx as nx\n",
    "from tqdm import tqdm\n",
    "import sklearn\n",
    "import seaborn as sns\n",
    "import matplotlib.pyplot as plt\n",
    "\n",
    "import dgl\n",
    "import torch\n",
    "import torch.nn as nn\n",
    "import torch.nn.functional as F\n",
    "from dgl import DGLGraph\n",
    "import dgl.function as fn\n",
    "from dgl.nn.pytorch import GraphConv, SAGEConv, TAGConv, GINConv\n",
    "\n",
    "from deepsurv_utils import c_index, adjust_learning_rate\n",
    "# from loss import NegativeLogLikelihood"
   ]
  },
  {
   "cell_type": "code",
   "execution_count": 2,
   "id": "f8e8ef03",
   "metadata": {},
   "outputs": [
    {
     "name": "stderr",
     "output_type": "stream",
     "text": [
      "/tmp/ipykernel_6264/940870848.py:14: SettingWithCopyWarning: \n",
      "A value is trying to be set on a copy of a slice from a DataFrame.\n",
      "Try using .loc[row_indexer,col_indexer] = value instead\n",
      "\n",
      "See the caveats in the documentation: https://pandas.pydata.org/pandas-docs/stable/user_guide/indexing.html#returning-a-view-versus-a-copy\n",
      "  patient_info['pT_Stage']=patient_info['pT_Stage'].replace({\"T1a\":0, \"T1b\":0, \"T1c\":0, \"T2a\":1,\"T2b\":1,\"T3\":2})\n",
      "/tmp/ipykernel_6264/940870848.py:15: SettingWithCopyWarning: \n",
      "A value is trying to be set on a copy of a slice from a DataFrame.\n",
      "Try using .loc[row_indexer,col_indexer] = value instead\n",
      "\n",
      "See the caveats in the documentation: https://pandas.pydata.org/pandas-docs/stable/user_guide/indexing.html#returning-a-view-versus-a-copy\n",
      "  patient_info['pM_Stage']=patient_info['pM_Stage'].replace({\"M1a\":1})\n"
     ]
    }
   ],
   "source": [
    "device = torch.device('cuda:1' if torch.cuda.is_available() else 'cpu')\n",
    "\n",
    "# load SHPH data\n",
    "all_patient_info = pd.read_csv(\"/home/jielian/lung-graph-project/data/csv/SPH0812.csv\")\n",
    "all_patient_info = all_patient_info[['folder_name', 'Sex_1_male_2_female', 'Age',\n",
    "       'Location_1_LUL_2_LLL_3_RUL_4_RML_5_RLL','Histology_1_Adenocarcinoma_2_SquamousCellCarcinoma_3_Others',\n",
    "        'pT_Stage', 'pN_Stage', 'pM_Stage', 'pTNM', 'RFS_Status', 'RFS_Month',\n",
    "       'OS_Status', 'OS_Month']]\n",
    "stage1 = list(np.load(\"/home/jielian/lung-graph-project/data/seg_image/labels/name_stage1.npy\"))\n",
    "stage2 = list(np.load(\"/home/jielian/lung-graph-project/data/seg_image/labels/name_stage2.npy\"))\n",
    "patint_list = [*stage1, *stage2]\n",
    "patient_info = all_patient_info[all_patient_info['folder_name'].isin(patint_list)]\n",
    "\n",
    "patient_info['pT_Stage']=patient_info['pT_Stage'].replace({\"T1a\":0, \"T1b\":0, \"T1c\":0, \"T2a\":1,\"T2b\":1,\"T3\":2})\n",
    "patient_info['pM_Stage']=patient_info['pM_Stage'].replace({\"M1a\":1})\n",
    "\n",
    "feature_files = os.listdir(\"trans_feature\")"
   ]
  },
  {
   "cell_type": "code",
   "execution_count": 3,
   "id": "782cd24b",
   "metadata": {},
   "outputs": [
    {
     "name": "stdout",
     "output_type": "stream",
     "text": [
      "1705\n"
     ]
    }
   ],
   "source": [
    "trans_feature = \"/home/jielian/lung-graph-project/data/seg_image/medicalnet/tumor_medical/\"\n",
    "\n",
    "data = []\n",
    "name = []\n",
    "for feature_name in feature_files:\n",
    "#     print(feature_name)\n",
    "    path = trans_feature +feature_name[:-4] + \"_d64.npy\"\n",
    "    name.append(int(feature_name[:-4]))\n",
    "    feature = np.load(path, allow_pickle=True)\n",
    "    af = feature.reshape((-1, 8, 8, 8))\n",
    "    af_mean = af.mean(axis=(1, 2, 3))\n",
    "    data.append(af_mean)\n",
    "feature_data = pd.DataFrame(data)\n",
    "feature_data = (feature_data-feature_data.min())/(feature_data.max()-feature_data.min())\n",
    "feature_data['folder_name']=name\n",
    "all_data = patient_info.merge(feature_data, how='left', on='folder_name')\n",
    "print(len(all_data))"
   ]
  },
  {
   "cell_type": "code",
   "execution_count": 4,
   "id": "0a94f2e3",
   "metadata": {},
   "outputs": [],
   "source": [
    "all_data['Location_1_LUL_2_LLL_3_RUL_4_RML_5_RLL'] = all_data['Location_1_LUL_2_LLL_3_RUL_4_RML_5_RLL'].replace({4:3})"
   ]
  },
  {
   "cell_type": "code",
   "execution_count": 5,
   "id": "80aa6bdb",
   "metadata": {},
   "outputs": [],
   "source": [
    "# load external information\n",
    "external_info = pd.read_csv(\"/home/jielian/lung-graph-project/Tumor_tranformer/data_ind/External_label.csv\")\n",
    "external_patint_list = external_info['Patient']\n",
    "external_info=external_info.rename(columns={\"Patient\":\"folder_name\"})\n",
    "external_info=external_info.rename(columns={\"Histology\":\"Histology_1_Adenocarcinoma_2_SquamousCellCarcinoma_3_Others\"})\n",
    "external_info['pT_Stage']=external_info['pT_Stage'].replace({\"Tis\":0,\"T1a\":0, \"T1b\":0, \"T1c\":0, \"T2a\":1,\"T2b\":1,\"T3\":2,\"T4\":3 })\n"
   ]
  },
  {
   "cell_type": "code",
   "execution_count": 6,
   "id": "b6f3c43d",
   "metadata": {},
   "outputs": [
    {
     "name": "stdout",
     "output_type": "stream",
     "text": [
      "159\n"
     ]
    }
   ],
   "source": [
    "external_feature_files = os.listdir(\"trans_feature_val\")\n",
    "external_info['Location_1_LUL_2_LLL_3_RUL_4_RML_5_RLL'] = external_info['Location_1_LUL_2_LLL_3_RUL_4_RML_5_RLL'].replace({4:3})\n",
    "external_data = []\n",
    "for feature_name in external_patint_list:\n",
    "    path = \"/home/jielian/lung-graph-project/data/seg_image/External_medicalnet/tumor/\"+feature_name+\"_d64.npy\"\n",
    "    feature = np.load(path, allow_pickle=True)\n",
    "    af = feature.reshape((-1, 8, 8, 8))\n",
    "    af_mean = af.mean(axis=(1, 2, 3))\n",
    "    external_data.append(af_mean)\n",
    "external_feature_data = pd.DataFrame(external_data)\n",
    "external_feature_data = (external_feature_data-external_feature_data.min())/(external_feature_data.max()-external_feature_data.min())\n",
    "external_feature_data['folder_name']=external_patint_list\n",
    "external_all_data = external_info.merge(external_feature_data, how='left', on='folder_name')\n",
    "print(len(external_all_data))"
   ]
  },
  {
   "cell_type": "code",
   "execution_count": 7,
   "id": "186cfc70",
   "metadata": {},
   "outputs": [],
   "source": [
    "# # #merge the dataset\n",
    "frames = [all_data, external_all_data]\n",
    "final_data = pd.concat(frames)"
   ]
  },
  {
   "cell_type": "code",
   "execution_count": 8,
   "id": "6eae9c75",
   "metadata": {},
   "outputs": [
    {
     "name": "stdout",
     "output_type": "stream",
     "text": [
      "training OS distribution:\n",
      "0    991\n",
      "1    287\n",
      "Name: OS_Status, dtype: int64\n",
      "validation OS distribution:\n",
      "0    173\n",
      "1     41\n",
      "Name: OS_Status, dtype: int64\n",
      "test OS distribution:\n",
      "0    169\n",
      "1     44\n",
      "Name: OS_Status, dtype: int64\n",
      "External OS distribution:\n",
      "0    102\n",
      "1     57\n",
      "Name: OS_Status, dtype: int64\n",
      "training RFS_Status distribution:\n",
      "0    931\n",
      "1    347\n",
      "Name: RFS_Status, dtype: int64\n",
      "validation RFS_Status distribution:\n",
      "0    158\n",
      "1     56\n",
      "Name: RFS_Status, dtype: int64\n",
      "test RFS_Status distribution:\n",
      "0    154\n",
      "1     59\n",
      "Name: RFS_Status, dtype: int64\n",
      "External RFS_Status distribution:\n",
      "0    113\n",
      "1     46\n",
      "Name: RFS_Status, dtype: int64\n"
     ]
    }
   ],
   "source": [
    "train_id = np.load(\"data_ind/train_index.npy\",allow_pickle=True)\n",
    "val_id = np.load(\"data_ind/val_index.npy\", allow_pickle=True)\n",
    "test_id = np.load(\"data_ind/test_index.npy\",allow_pickle=True)\n",
    "external_id = np.array(range(len(all_data),len(final_data)))\n",
    "idx_train = torch.LongTensor(train_id)\n",
    "idx_val = torch.LongTensor(val_id)\n",
    "idx_test = torch.LongTensor(test_id)\n",
    "idx_external_val = torch.LongTensor(external_id)\n",
    "\n",
    "print(\"training OS distribution:\")\n",
    "print(all_data.iloc[train_id,:]['OS_Status'].value_counts())\n",
    "print(\"validation OS distribution:\")\n",
    "print(all_data.iloc[val_id,:]['OS_Status'].value_counts())\n",
    "print(\"test OS distribution:\")\n",
    "print(all_data.iloc[test_id,:]['OS_Status'].value_counts())\n",
    "print(\"External OS distribution:\")\n",
    "print(final_data.iloc[external_id,:]['OS_Status'].value_counts())\n",
    "\n",
    "\n",
    "print(\"training RFS_Status distribution:\")\n",
    "print(all_data.iloc[train_id,:]['RFS_Status'].value_counts())\n",
    "print(\"validation RFS_Status distribution:\")\n",
    "print(all_data.iloc[val_id,:]['RFS_Status'].value_counts())\n",
    "print(\"test RFS_Status distribution:\")\n",
    "print(all_data.iloc[test_id,:]['RFS_Status'].value_counts())\n",
    "print(\"External RFS_Status distribution:\")\n",
    "print(final_data.iloc[external_id,:]['RFS_Status'].value_counts())"
   ]
  },
  {
   "cell_type": "markdown",
   "id": "e657d71f",
   "metadata": {},
   "source": [
    "# Start Graph Building!!"
   ]
  },
  {
   "cell_type": "code",
   "execution_count": 9,
   "id": "b6e35452",
   "metadata": {},
   "outputs": [],
   "source": [
    "# define similarity of two patient\n",
    "def SimScore(a1,a2,s1,s2,l1,l2,h1,h2,t1,t2,n1,n2,m1,m2,tnm1,tnm2): \n",
    "    c_score = 0\n",
    "    h_score = 0\n",
    "    t_score = 0\n",
    "    l_score = 0\n",
    "    # sex and age\n",
    "    if s1 == s2:\n",
    "        c_score +=1\n",
    "    if abs(a1-a2) <= 5:\n",
    "        c_score +=1\n",
    "    \n",
    "    if l1 == l2:\n",
    "        l_score +=1\n",
    "        \n",
    "    if h1 == h2:\n",
    "        h_score +=1\n",
    "    \n",
    "#     if (t1 == t2) and (n1 == n2) and (m1 == m2):\n",
    "#         t_score +=1\n",
    "    \n",
    "    if t1 == t2:\n",
    "        t_score +=1\n",
    "    if n1 == n2:\n",
    "        t_score +=1\n",
    "    if m1 == m2:\n",
    "        t_score +=1\n",
    "\n",
    "\n",
    "\n",
    "    return c_score*t_score*h_score*l_score\n",
    "\n",
    "\n",
    "def adj_matrix(patient_info):\n",
    "    age = patient_info['Age'].to_list()\n",
    "    sex = patient_info['Sex_1_male_2_female'].to_list()\n",
    "    loc = patient_info['Location_1_LUL_2_LLL_3_RUL_4_RML_5_RLL'].to_list()\n",
    "    his = patient_info['Histology_1_Adenocarcinoma_2_SquamousCellCarcinoma_3_Others'].to_list()\n",
    "    pts = patient_info['pT_Stage'].to_list()\n",
    "    pns = patient_info['pN_Stage'].to_list()\n",
    "    pms = patient_info['pM_Stage'].to_list()\n",
    "    tnm = patient_info['pTNM'].to_list()\n",
    "\n",
    "    edge_list=[]\n",
    "    edge_wight=[]\n",
    "    n_sample = len(age)\n",
    "    adj = np.zeros((n_sample, n_sample))\n",
    "    for i in range(n_sample):\n",
    "        for j in range(n_sample):\n",
    "            adj[i,j] = SimScore(age[i],age[j],sex[i],sex[j],loc[i],loc[j],his[i],his[j],\n",
    "                                pts[i],pts[j],pns[i],pns[j], pms[i],pms[j],tnm[i],tnm[j])\n",
    "            if adj[i,j] != 0:\n",
    "                edge_list.append([i,j])\n",
    "                edge_wight.append(adj[i,j])\n",
    "    return adj, edge_list,edge_wight"
   ]
  },
  {
   "cell_type": "code",
   "execution_count": 10,
   "id": "3c77c681",
   "metadata": {},
   "outputs": [],
   "source": [
    "\n",
    "def graph_bulider(all_data, start_cloumn = 13, event = \"OS_Status\", label = \"OS_Month\"):\n",
    "\n",
    "    # save the labels\n",
    "    norm_label_sh = all_data[label]\n",
    "    # norm_label = (final_data['OS_Month']-np.min(final_data['OS_Month']))/(np.max(final_data['OS_Month'])-np.min(final_data['OS_Month']))\n",
    "    labels_sh = torch.from_numpy(norm_label_sh.to_numpy())\n",
    "    \n",
    "    events_sh = torch.from_numpy(all_data[event].to_numpy())\n",
    "    \n",
    "    adj_sh, edge_list_sh, edge_wight_sh = adj_matrix(all_data)\n",
    "    print(\"the number of nodes in this graph:\",len(norm_label_sh))\n",
    "    print(\"the number of edges in this graph:\",len(edge_list_sh))\n",
    "    print(\"Number of average degree: \",len(edge_list_sh)/len(norm_label_sh) )\n",
    "    \n",
    "    # build graph struture data\n",
    "    g_sh = dgl.DGLGraph()\n",
    "    g_sh.add_nodes(len(labels_sh))\n",
    "    # add nodes\n",
    "    # node_feature = (all_data.iloc[:, 15:]-all_data.iloc[:, 15:].min())/(all_data.iloc[:, 15:].max()- all_data.iloc[:, 15:].min())\n",
    "    node_feature_sh = all_data.iloc[:, start_cloumn:]\n",
    "    # print(node_feature)\n",
    "    node_feature_norm_sh = node_feature_sh.to_numpy()\n",
    "    g_sh.ndata['h'] = torch.from_numpy(node_feature_norm_sh).float()\n",
    "    g_sh.ndata['event'] = events_sh\n",
    "    g_sh.ndata['label'] = labels_sh\n",
    "    g_sh.ndata\n",
    "    # g.adj = adj\n",
    "    # add edges\n",
    "    src, dst = tuple(zip(*edge_list_sh))\n",
    "    g_sh.add_edges(src, dst)\n",
    "    # add edge weight\n",
    "    edge_wight_sh = np.array(edge_wight_sh)\n",
    "    g_sh.edata['w'] = torch.from_numpy(edge_wight_sh).float()\n",
    "    return adj_sh, g_sh"
   ]
  },
  {
   "cell_type": "markdown",
   "id": "7758f5f8",
   "metadata": {},
   "source": [
    "# Network and Loss"
   ]
  },
  {
   "cell_type": "code",
   "execution_count": 11,
   "id": "3ede423a",
   "metadata": {},
   "outputs": [],
   "source": [
    "class SAGE(nn.Module):\n",
    "    def __init__(self, in_feats, hid_feats, out_feats, dropout=0, activation = None,aggregator_type='mean'):\n",
    "        super().__init__()\n",
    "        self.fc1 = nn.Linear(in_feats, hid_feats) \n",
    "        self.conv1 = SAGEConv(in_feats=hid_feats, out_feats=hid_feats, aggregator_type=aggregator_type, activation=activation, feat_drop=dropout)\n",
    "        self.conv2 = SAGEConv(in_feats=hid_feats, out_feats= out_feats, aggregator_type=aggregator_type, activation=activation, feat_drop=dropout)\n",
    "        self.fc2 = nn.Linear(out_feats, 1) \n",
    "    def forward(self, graph, inputs, w_input):\n",
    "        # inputs are features of nodes\n",
    "        h = self.fc1(inputs)\n",
    "        h = self.conv1(graph, h, w_input)\n",
    "        h = self.conv2(graph,h)\n",
    "#         print(h.size())\n",
    "#         output=F.relu(self.fc2(h))\n",
    "        output= self.fc2(h)\n",
    "\n",
    "        return output\n",
    "    \n",
    "class TAG(nn.Module):\n",
    "    def __init__(self, in_feats, hid_feats, out_feats, activation = F.softmax):\n",
    "        super().__init__()\n",
    "        self.fc1 = nn.Linear(in_feats, hid_feats) \n",
    "        self.conv1 = TAGConv(in_feats=hid_feats, out_feats= hid_feats, activation=activation)\n",
    "        self.conv2 = TAGConv(in_feats=hid_feats, out_feats= out_feats,  activation=activation)\n",
    "        self.fc2 = nn.Linear(out_feats, 1) \n",
    "        \n",
    "    def forward(self, graph, inputs, w_input):\n",
    "        # inputs are features of nodes\n",
    "        h= self.fc1(inputs)\n",
    "        h = self.conv1(graph, h)\n",
    "        h = self.conv2(graph,h)\n",
    "#         output=F.relu(self.fc2(h))\n",
    "        h=self.fc2(h)\n",
    "        \n",
    "        return h\n",
    "\n",
    "\n",
    "\n",
    "    \n",
    "class GCN(nn.Module):\n",
    "    def __init__(self, in_feats, hid_feats, out_feats, activation = F.softmax, norm =\"both\"):\n",
    "        super().__init__()\n",
    "        self.fc1 = nn.Linear(in_feats, hid_feats) \n",
    "        self.conv1 = GraphConv(in_feats=hid_feats, out_feats= 32, activation=activation, norm=norm)\n",
    "        self.conv2 = GraphConv(in_feats=32, out_feats= out_feats,  activation=activation, norm=norm)\n",
    "        self.fc2 = nn.Linear(out_feats, 1) \n",
    "        \n",
    "    def forward(self, graph, inputs, w_input):\n",
    "        # inputs are features of nodes\n",
    "        h= self.fc1(inputs)\n",
    "        h = self.conv1(graph, h)\n",
    "        h = self.conv2(graph,h)\n",
    "#         output=F.relu(self.fc2(h))\n",
    "        h=self.fc2(h)\n",
    "        \n",
    "        return h\n",
    "    \n",
    "    \n",
    "class SAGE1L(nn.Module):\n",
    "    def __init__(self, in_feats, hid_feats, out_feats, dropout=0, activation = None,aggregator_type='mean'):\n",
    "        super().__init__()\n",
    "        self.fc1 = nn.Linear(in_feats, hid_feats) \n",
    "        self.conv1 = SAGEConv(in_feats=hid_feats, out_feats=out_feats, aggregator_type=aggregator_type, activation=activation, feat_drop=dropout)\n",
    "        self.fc2 = nn.Linear(out_feats, 1) \n",
    "    def forward(self, graph, inputs, w_input):\n",
    "        # inputs are features of nodes\n",
    "        h = self.fc1(inputs)\n",
    "        h = self.conv1(graph, h, w_input)\n",
    "\n",
    "        output= self.fc2(h)\n",
    "\n",
    "        return output\n",
    "    \n"
   ]
  },
  {
   "cell_type": "code",
   "execution_count": 12,
   "id": "d18751f0",
   "metadata": {},
   "outputs": [],
   "source": [
    "class Regularization(object):\n",
    "    def __init__(self, order, weight_decay):\n",
    "        ''' The initialization of Regularization class\n",
    "        :param order: (int) norm order number\n",
    "        :param weight_decay: (float) weight decay rate\n",
    "        '''\n",
    "        super(Regularization, self).__init__()\n",
    "        self.order = order\n",
    "        self.weight_decay = weight_decay\n",
    "\n",
    "    def __call__(self, model):\n",
    "        ''' Performs calculates regularization(self.order) loss for model.\n",
    "        :param model: (torch.nn.Module object)\n",
    "        :return reg_loss: (torch.Tensor) the regularization(self.order) loss\n",
    "        '''\n",
    "        reg_loss = 0\n",
    "        for name, w in model.named_parameters():\n",
    "            if 'weight' in name:\n",
    "                reg_loss = reg_loss + torch.norm(w, p=self.order)\n",
    "        reg_loss = self.weight_decay * reg_loss\n",
    "        return reg_loss\n",
    "\n",
    "    \n",
    "class NegativeLogLikelihood(nn.Module):\n",
    "    def __init__(self, l2_reg, device):\n",
    "        super(NegativeLogLikelihood, self).__init__()\n",
    "        self.L2_reg = l2_reg\n",
    "        self.device = device\n",
    "        self.reg = Regularization(order=2, weight_decay=self.L2_reg)\n",
    "\n",
    "    def forward(self, risk_pred, y, e, model):\n",
    "        mask = torch.ones(y.shape[0], y.shape[0]).to(self.device)\n",
    "        mask[(y.T - y) > 0] = 0\n",
    "        log_loss = torch.exp(risk_pred) * mask\n",
    "        log_loss = torch.sum(log_loss, dim=0) / torch.sum(mask, dim=0)\n",
    "        log_loss = torch.log(log_loss).reshape(-1, 1)\n",
    "        neg_log_loss = -torch.sum((risk_pred-log_loss) * e) / torch.sum(e)\n",
    "        l2_loss = self.reg(model)\n",
    "        return neg_log_loss + l2_loss"
   ]
  },
  {
   "cell_type": "code",
   "execution_count": 13,
   "id": "80ebd2bd",
   "metadata": {},
   "outputs": [
    {
     "name": "stdout",
     "output_type": "stream",
     "text": [
      "the number of nodes in this graph: 1864\n",
      "the number of edges in this graph: 387396\n",
      "Number of average degree:  207.8304721030043\n"
     ]
    },
    {
     "name": "stderr",
     "output_type": "stream",
     "text": [
      "/home/jielian/anaconda3/envs/gnn/lib/python3.8/site-packages/dgl/base.py:45: DGLWarning: Recommend creating graphs by `dgl.graph(data)` instead of `dgl.DGLGraph(data)`.\n",
      "  return warnings.warn(message, category=category, stacklevel=1)\n"
     ]
    },
    {
     "name": "stdout",
     "output_type": "stream",
     "text": [
      "the number of nodes in this graph: 1705\n",
      "the number of edges in this graph: 330049\n",
      "Number of average degree:  193.57712609970673\n"
     ]
    }
   ],
   "source": [
    "adj_all, g_all = graph_bulider(final_data)\n",
    "adj_sh, g_sh = graph_bulider(all_data)\n",
    "# g_sh = dgl.node_subgraph(g_all, list(range(len(all_data))))\n",
    "g_external = dgl.node_subgraph(g_all, list(range(len(all_data),len(final_data))))\n",
    "# g_val = graph_bulider(all_data)"
   ]
  },
  {
   "cell_type": "markdown",
   "id": "06d4e1cf",
   "metadata": {},
   "source": [
    "# Training"
   ]
  },
  {
   "cell_type": "code",
   "execution_count": 20,
   "id": "25a4aad3",
   "metadata": {},
   "outputs": [],
   "source": [
    "def train(g, g_all, model,device, save_dic, idx_train,idx_val, idx_test, total_epoch=100, patience=5, lr=0.001, reg_l2=0, weight_decay=0.0001):\n",
    "    model_name = save_dic['model']+str(save_dic['hid_feats'])+str(save_dic['out_feats'])+str(save_dic['reg_l2'])+save_dic[\"aggregator_type\"]\n",
    "    optimizer = torch.optim.Adam(model.parameters(),lr=lr, weight_decay=weight_decay)\n",
    "    best_cindex = 0\n",
    "    scheduler = torch.optim.lr_scheduler.ReduceLROnPlateau(optimizer, mode='min',factor=0.5, patience=patience, min_lr = 0.0001, verbose=True)\n",
    "    criterion = NegativeLogLikelihood(reg_l2, device).to(device) \n",
    "    model = model.to(device) \n",
    "    features = g.ndata['h'].to(device) \n",
    "    e_feature = g.edata['w'].to(device) \n",
    "    labels = g.ndata['label'].to(device) \n",
    "    events = g.ndata['event'].to(device) \n",
    "    g_all= g_all.to(device)  \n",
    "    g = g.to(device) \n",
    "    t_total = time.time()\n",
    "    with tqdm(range(total_epoch)) as t:\n",
    "        for epoch in t:\n",
    "            t.set_description('Epoch %d' % epoch)\n",
    "            start = time.time()\n",
    "            model.train()\n",
    "            optimizer.zero_grad()\n",
    "            output = model(g, features,e_feature)\n",
    "            # Compute loss\n",
    "            # Note that you should only compute the losses of the nodes in the training set.\n",
    "            loss_train = criterion(output[idx_train], labels[idx_train],events[idx_train], model).clone()\n",
    "            auc_train = c_index(-output[idx_train], labels[idx_train],events[idx_train])\n",
    "            \n",
    "            loss_train.backward(retain_graph=True)\n",
    "            optimizer.step()\n",
    "            \n",
    "            model.eval()\n",
    "            val_output = model(g, features,e_feature)\n",
    "            loss_val = criterion(val_output[idx_val], labels[idx_val],events[idx_val], model).clone()\n",
    "            scheduler.step(loss_val)\n",
    "            \n",
    "            auc_val = c_index(-val_output[idx_val], labels[idx_val],events[idx_val])\n",
    "            auc_test = c_index(-val_output[idx_test], labels[idx_test], events[idx_test])\n",
    "            exter_val_output = model(g_all, g_all.ndata['h'],g_all.edata['w'])\n",
    "            \n",
    "            if auc_test>best_cindex:\n",
    "                print(\"Curent best Test AUC:\",auc_test)\n",
    "                best_cindex = auc_test.item()\n",
    "                print(\"Its' val AUC :\", auc_val)\n",
    "                auc_external = c_index(-exter_val_output, g_all.ndata['label'] ,g_all.ndata['event'])\n",
    "                print(\"Its external  AUC:\", auc_external) \n",
    "                \n",
    "                if best_cindex > 0.67 and auc_external>0.60:\n",
    "                    torch.save(model.state_dict(), os.path.join(save_dic['save_path'], \n",
    "                                \"{}_ep{}_val{}_test{}_exte{}.pth.gz\".format(model_name,epoch, np.around(auc_val,3),np.around(auc_test,3),np.around(auc_external,3))))\n",
    "                    result_path = os.path.join(save_dic['save_path'], \"{}_ep{}_val{}_test{}_exte{}.npy\".format(model_name,epoch, np.around(auc_val,3),np.around(auc_test,3),np.around(auc_external,3)))\n",
    "                    output_cpu = val_output.cpu().detach().numpy()\n",
    "                    val_cpu = exter_val_output.cpu().detach().numpy()\n",
    "                    np.save(result_path, [output_cpu, val_cpu])\n",
    "                    \n",
    "\n",
    "            t.set_postfix(\n",
    "                  {\"train_loss\":loss_train.item(), \"val_loss\":loss_val.item(),\n",
    "                  \"train_cindex\":auc_train.item(), \"val_auc\":auc_val.item(),\n",
    "                \"lr\":optimizer.param_groups[0]['lr']}) "
   ]
  },
  {
   "cell_type": "code",
   "execution_count": 18,
   "id": "6d1bff8c",
   "metadata": {},
   "outputs": [
    {
     "name": "stderr",
     "output_type": "stream",
     "text": [
      "Epoch 6:  10%| | 5/50 [00:00<00:01, 25.05it/s, train_loss=4.08, val_loss=0.421, "
     ]
    },
    {
     "name": "stdout",
     "output_type": "stream",
     "text": [
      "Curent best Test AUC: 0.5323731997495303\n",
      "Its' val AUC : 0.5608264238140547\n",
      "Its external  AUC: 0.4246100519930676\n",
      "Curent best Test AUC: 0.5849718221665623\n",
      "Its' val AUC : 0.6344977572380046\n",
      "Its external  AUC: 0.4755002363321254\n"
     ]
    },
    {
     "name": "stderr",
     "output_type": "stream",
     "text": [
      "Epoch 17:  34%|▎| 17/50 [00:00<00:00, 33.90it/s, train_loss=1.21, val_loss=0.101"
     ]
    },
    {
     "name": "stdout",
     "output_type": "stream",
     "text": [
      "Curent best Test AUC: 0.5912335629304947\n",
      "Its' val AUC : 0.6085360880793802\n",
      "Its external  AUC: 0.465574287064755\n",
      "Curent best Test AUC: 0.6006261740763932\n",
      "Its' val AUC : 0.627157808889493\n",
      "Its external  AUC: 0.48259020009453285\n"
     ]
    },
    {
     "name": "stderr",
     "output_type": "stream",
     "text": [
      "Epoch 43:  78%|▊| 39/50 [00:01<00:00, 38.98it/s, train_loss=0.036, val_loss=0.01"
     ]
    },
    {
     "name": "stdout",
     "output_type": "stream",
     "text": [
      "Epoch    35: reducing learning rate of group 0 to 5.0000e-04.\n",
      "Curent best Test AUC: 0.6033813400125235\n",
      "Its' val AUC : 0.623759684654071\n",
      "Its external  AUC: 0.5085867338900267\n"
     ]
    },
    {
     "name": "stderr",
     "output_type": "stream",
     "text": [
      "Epoch 49: 100%|█| 50/50 [00:01<00:00, 36.38it/s, train_loss=0.0472, val_loss=0.0"
     ]
    },
    {
     "name": "stdout",
     "output_type": "stream",
     "text": [
      "Epoch    44: reducing learning rate of group 0 to 2.5000e-04.\n",
      "Curent best Test AUC: 0.6170319348778961\n",
      "Its' val AUC : 0.582302568981922\n",
      "Its external  AUC: 0.5161493619032614\n"
     ]
    },
    {
     "name": "stderr",
     "output_type": "stream",
     "text": [
      "\n"
     ]
    }
   ],
   "source": [
    " save_dic = {\"model\":\"SAGE\", \n",
    "                \"hid_feats\":256, \n",
    "                'out_feats':12, \n",
    "                'reg_l2':0,\n",
    "                \"aggregator_type\":'mean',\n",
    "                \"save_path\":\"/home/jielian/lung-graph-project/Tumor_tranformer/logs/resnet/\"}\n",
    "\n",
    "model = SAGE(g_sh.ndata['h'].shape[1],hid_feats=save_dic[\"hid_feats\"],out_feats=save_dic['out_feats'], \n",
    "                       activation = F.leaky_relu, aggregator_type=save_dic['aggregator_type'])\n",
    "train(g_sh, g_external, model, device, save_dic, idx_train, idx_val, idx_test, 50, patience=5, reg_l2=save_dic[\"reg_l2\"])"
   ]
  },
  {
   "cell_type": "code",
   "execution_count": 23,
   "id": "45648863",
   "metadata": {},
   "outputs": [
    {
     "name": "stderr",
     "output_type": "stream",
     "text": [
      "Epoch 5:  10%| | 5/50 [00:00<00:01, 22.51it/s, train_loss=0.364, val_loss=0.359,"
     ]
    },
    {
     "name": "stdout",
     "output_type": "stream",
     "text": [
      "Curent best Test AUC: 0.5278647463994991\n",
      "Its' val AUC : 0.6180508359385619\n",
      "Its external  AUC: 0.5796439262643769\n",
      "Curent best Test AUC: 0.5343769567939888\n",
      "Its' val AUC : 0.5012912872094604\n",
      "Its external  AUC: 0.4224042854892075\n",
      "Curent best Test AUC: 0.5624295554164057\n",
      "Its' val AUC : 0.6506728285986135\n",
      "Its external  AUC: 0.5838979045218213\n"
     ]
    },
    {
     "name": "stderr",
     "output_type": "stream",
     "text": [
      "Epoch 12:  24%|▏| 12/50 [00:00<00:01, 27.95it/s, train_loss=0.243, val_loss=0.03"
     ]
    },
    {
     "name": "stdout",
     "output_type": "stream",
     "text": [
      "Curent best Test AUC: 0.5884783969943644\n",
      "Its' val AUC : 0.5938561913823569\n",
      "Its external  AUC: 0.5764928312588624\n"
     ]
    },
    {
     "name": "stderr",
     "output_type": "stream",
     "text": [
      "Epoch 33:  64%|▋| 32/50 [00:01<00:00, 32.69it/s, train_loss=0.0413, val_loss=0.0"
     ]
    },
    {
     "name": "stdout",
     "output_type": "stream",
     "text": [
      "Curent best Test AUC: 0.6494677520350658\n",
      "Its' val AUC : 0.6455076797607721\n",
      "Its external  AUC: 0.5104773908933354\n"
     ]
    },
    {
     "name": "stderr",
     "output_type": "stream",
     "text": [
      "Epoch 45:  88%|▉| 44/50 [00:01<00:00, 30.37it/s, train_loss=0.056, val_loss=0.01"
     ]
    },
    {
     "name": "stdout",
     "output_type": "stream",
     "text": [
      "Curent best Test AUC: 0.6497182216656231\n",
      "Its' val AUC : 0.6169634361832269\n",
      "Its external  AUC: 0.519773121159603\n"
     ]
    },
    {
     "name": "stderr",
     "output_type": "stream",
     "text": [
      "Epoch 49: 100%|█| 50/50 [00:01<00:00, 30.33it/s, train_loss=0.099, val_loss=0.00\n",
      "Epoch 5:   8%| | 4/50 [00:00<00:01, 35.49it/s, train_loss=0.664, val_loss=0.409,"
     ]
    },
    {
     "name": "stdout",
     "output_type": "stream",
     "text": [
      "Epoch    49: reducing learning rate of group 0 to 5.0000e-04.\n",
      "Curent best Test AUC: 0.5165936130244208\n",
      "Its' val AUC : 0.5631371482941416\n",
      "Its external  AUC: 0.5786985977627226\n",
      "Curent best Test AUC: 0.5739511584220414\n",
      "Its' val AUC : 0.6717411988582302\n",
      "Its external  AUC: 0.48952260910666456\n"
     ]
    },
    {
     "name": "stderr",
     "output_type": "stream",
     "text": [
      "Epoch 13:  24%|▏| 12/50 [00:00<00:01, 36.10it/s, train_loss=0.506, val_loss=0.03"
     ]
    },
    {
     "name": "stdout",
     "output_type": "stream",
     "text": [
      "Curent best Test AUC: 0.6117720726361928\n",
      "Its' val AUC : 0.6089438629876308\n",
      "Its external  AUC: 0.4328028990074051\n"
     ]
    },
    {
     "name": "stderr",
     "output_type": "stream",
     "text": [
      "Epoch 35:  64%|▋| 32/50 [00:00<00:00, 35.97it/s, train_loss=0.0612, val_loss=0.0"
     ]
    },
    {
     "name": "stdout",
     "output_type": "stream",
     "text": [
      "Curent best Test AUC: 0.6400751408891672\n",
      "Its' val AUC : 0.6427891803724344\n",
      "Its external  AUC: 0.45753899480069327\n"
     ]
    },
    {
     "name": "stderr",
     "output_type": "stream",
     "text": [
      "Epoch 49: 100%|█| 50/50 [00:01<00:00, 35.74it/s, train_loss=0.0255, val_loss=0.0\n",
      "Epoch 7:   8%| | 4/50 [00:00<00:01, 30.58it/s, train_loss=0.116, val_loss=0.0092"
     ]
    },
    {
     "name": "stdout",
     "output_type": "stream",
     "text": [
      "Curent best Test AUC: 0.5590482154038823\n",
      "Its' val AUC : 0.5778170449911649\n",
      "Its external  AUC: 0.48778950685363165\n",
      "Curent best Test AUC: 0.589355040701315\n",
      "Its' val AUC : 0.6107108875900503\n",
      "Its external  AUC: 0.5027572081298252\n",
      "Curent best Test AUC: 0.6201628052598622\n",
      "Its' val AUC : 0.632866657605002\n",
      "Its external  AUC: 0.569402867496455\n"
     ]
    },
    {
     "name": "stderr",
     "output_type": "stream",
     "text": [
      "Epoch 22:  40%|▍| 20/50 [00:00<00:00, 34.15it/s, train_loss=0.0149, val_loss=0.0"
     ]
    },
    {
     "name": "stdout",
     "output_type": "stream",
     "text": [
      "Curent best Test AUC: 0.6408265497808391\n",
      "Its' val AUC : 0.6296044583389969\n",
      "Its external  AUC: 0.5317472821805578\n"
     ]
    },
    {
     "name": "stderr",
     "output_type": "stream",
     "text": [
      "Epoch 49: 100%|█| 50/50 [00:01<00:00, 34.20it/s, train_loss=0.00366, val_loss=0.\n",
      "Epoch 8:  16%|▏| 8/50 [00:00<00:01, 35.79it/s, train_loss=0.864, val_loss=0.122,"
     ]
    },
    {
     "name": "stdout",
     "output_type": "stream",
     "text": [
      "Curent best Test AUC: 0.6300563556668753\n",
      "Its' val AUC : 0.6085360880793802\n",
      "Its external  AUC: 0.5070111863872696\n"
     ]
    },
    {
     "name": "stderr",
     "output_type": "stream",
     "text": [
      "Epoch 47:  88%|▉| 44/50 [00:01<00:00, 34.65it/s, train_loss=0.0176, val_loss=0.0"
     ]
    },
    {
     "name": "stdout",
     "output_type": "stream",
     "text": [
      "Curent best Test AUC: 0.6552285535378836\n",
      "Its' val AUC : 0.6062253635992932\n",
      "Its external  AUC: 0.44162596502284546\n"
     ]
    },
    {
     "name": "stderr",
     "output_type": "stream",
     "text": [
      "Epoch 49: 100%|█| 50/50 [00:01<00:00, 34.50it/s, train_loss=0.0122, val_loss=0.0\n",
      "Epoch 7:   8%| | 4/50 [00:00<00:01, 34.05it/s, train_loss=0.484, val_loss=0.0078"
     ]
    },
    {
     "name": "stdout",
     "output_type": "stream",
     "text": [
      "Curent best Test AUC: 0.43105823418910455\n",
      "Its' val AUC : 0.49218431425852927\n",
      "Its external  AUC: 0.5917756420356074\n",
      "Curent best Test AUC: 0.6194113963681903\n",
      "Its' val AUC : 0.5859725431561777\n",
      "Its external  AUC: 0.5520718449661257\n"
     ]
    },
    {
     "name": "stderr",
     "output_type": "stream",
     "text": [
      "Epoch 25:  48%|▍| 24/50 [00:00<00:00, 36.59it/s, train_loss=0.0168, val_loss=0.0"
     ]
    },
    {
     "name": "stdout",
     "output_type": "stream",
     "text": [
      "Epoch    18: reducing learning rate of group 0 to 5.0000e-04.\n",
      "Curent best Test AUC: 0.6336881653099562\n",
      "Its' val AUC : 0.6251189343482397\n",
      "Its external  AUC: 0.41988340948479597\n"
     ]
    },
    {
     "name": "stderr",
     "output_type": "stream",
     "text": [
      "Epoch 49: 100%|█| 50/50 [00:01<00:00, 35.90it/s, train_loss=0.0081, val_loss=0.0\n",
      "Epoch 3:   0%| | 0/50 [00:00<?, ?it/s, train_loss=37, val_loss=1.54, train_cinde"
     ]
    },
    {
     "name": "stdout",
     "output_type": "stream",
     "text": [
      "Epoch    48: reducing learning rate of group 0 to 2.5000e-04.\n",
      "Curent best Test AUC: 0.536756418284283\n",
      "Its' val AUC : 0.4734266684789996\n",
      "Its external  AUC: 0.3603277138805735\n",
      "Curent best Test AUC: 0.5904821540388228\n",
      "Its' val AUC : 0.666168275112138\n",
      "Its external  AUC: 0.4777060028359855\n"
     ]
    },
    {
     "name": "stderr",
     "output_type": "stream",
     "text": [
      "Epoch 29:  56%|▌| 28/50 [00:00<00:00, 34.46it/s, train_loss=0.225, val_loss=0.07"
     ]
    },
    {
     "name": "stdout",
     "output_type": "stream",
     "text": [
      "Curent best Test AUC: 0.6239198497182217\n",
      "Its' val AUC : 0.5723800462144896\n",
      "Its external  AUC: 0.4331180085079565\n"
     ]
    },
    {
     "name": "stderr",
     "output_type": "stream",
     "text": [
      "Epoch 36:  72%|▋| 36/50 [00:01<00:00, 34.37it/s, train_loss=0.176, val_loss=0.06"
     ]
    },
    {
     "name": "stdout",
     "output_type": "stream",
     "text": [
      "Curent best Test AUC: 0.6459611772072636\n",
      "Its' val AUC : 0.5952154410765258\n",
      "Its external  AUC: 0.39782574444619506\n"
     ]
    },
    {
     "name": "stderr",
     "output_type": "stream",
     "text": [
      "Epoch 49: 100%|█| 50/50 [00:01<00:00, 34.17it/s, train_loss=0.0544, val_loss=0.0\n",
      "Epoch 7:   8%| | 4/50 [00:00<00:01, 33.74it/s, train_loss=1.16, val_loss=1.14, t"
     ]
    },
    {
     "name": "stdout",
     "output_type": "stream",
     "text": [
      "Curent best Test AUC: 0.4111458985597996\n",
      "Its' val AUC : 0.3676770422726655\n",
      "Its external  AUC: 0.5065385221364425\n",
      "Curent best Test AUC: 0.598246712586099\n",
      "Its' val AUC : 0.6484980290879434\n",
      "Its external  AUC: 0.4685678273199937\n"
     ]
    },
    {
     "name": "stderr",
     "output_type": "stream",
     "text": [
      "Epoch 25:  48%|▍| 24/50 [00:00<00:00, 34.53it/s, train_loss=0.173, val_loss=0.19"
     ]
    },
    {
     "name": "stdout",
     "output_type": "stream",
     "text": [
      "Curent best Test AUC: 0.6211646837820914\n",
      "Its' val AUC : 0.6576050020388745\n",
      "Its external  AUC: 0.46525917756420354\n"
     ]
    },
    {
     "name": "stderr",
     "output_type": "stream",
     "text": [
      "Epoch 35:  64%|▋| 32/50 [00:01<00:00, 34.68it/s, train_loss=0.148, val_loss=0.03"
     ]
    },
    {
     "name": "stdout",
     "output_type": "stream",
     "text": [
      "Epoch    29: reducing learning rate of group 0 to 5.0000e-04.\n"
     ]
    },
    {
     "name": "stderr",
     "output_type": "stream",
     "text": [
      "Epoch 49: 100%|█| 50/50 [00:01<00:00, 34.67it/s, train_loss=0.0598, val_loss=0.0\n",
      "Epoch 5:   8%| | 4/50 [00:00<00:01, 34.66it/s, train_loss=0.0585, val_loss=0.003"
     ]
    },
    {
     "name": "stdout",
     "output_type": "stream",
     "text": [
      "Epoch    49: reducing learning rate of group 0 to 2.5000e-04.\n",
      "Curent best Test AUC: 0.5867251095804634\n",
      "Its' val AUC : 0.6014679896697023\n",
      "Its external  AUC: 0.4671498345675122\n"
     ]
    },
    {
     "name": "stderr",
     "output_type": "stream",
     "text": [
      "Epoch 32:  64%|▋| 32/50 [00:00<00:00, 36.39it/s, train_loss=0.000532, val_loss=0"
     ]
    },
    {
     "name": "stdout",
     "output_type": "stream",
     "text": [
      "Epoch    25: reducing learning rate of group 0 to 5.0000e-04.\n"
     ]
    },
    {
     "name": "stderr",
     "output_type": "stream",
     "text": [
      "Epoch 49: 100%|█| 50/50 [00:01<00:00, 35.56it/s, train_loss=0.000226, val_loss=4\n",
      "Epoch 7:   8%| | 4/50 [00:00<00:01, 33.08it/s, train_loss=0.0911, val_loss=0.028"
     ]
    },
    {
     "name": "stdout",
     "output_type": "stream",
     "text": [
      "Curent best Test AUC: 0.4533500313087038\n",
      "Its' val AUC : 0.4005708848715509\n",
      "Its external  AUC: 0.3875846856782732\n",
      "Curent best Test AUC: 0.4944270507201002\n",
      "Its' val AUC : 0.5200489329889901\n",
      "Its external  AUC: 0.6113124310697967\n",
      "Curent best Test AUC: 0.5629304946775203\n",
      "Its' val AUC : 0.6325948076661683\n",
      "Its external  AUC: 0.4531274617929731\n",
      "Curent best Test AUC: 0.5906073888541015\n",
      "Its' val AUC : 0.6270218839200761\n",
      "Its external  AUC: 0.4569087757995904\n"
     ]
    },
    {
     "name": "stderr",
     "output_type": "stream",
     "text": [
      "Epoch 14:  24%|▏| 12/50 [00:00<00:01, 33.45it/s, train_loss=0.165, val_loss=0.04"
     ]
    },
    {
     "name": "stdout",
     "output_type": "stream",
     "text": [
      "Curent best Test AUC: 0.5909830932999374\n",
      "Its' val AUC : 0.6190023107244801\n",
      "Its external  AUC: 0.4531274617929731\n",
      "Curent best Test AUC: 0.5931120851596744\n",
      "Its' val AUC : 0.6170993611526437\n",
      "Its external  AUC: 0.4524972427918702\n",
      "Curent best Test AUC: 0.6065122103944897\n",
      "Its' val AUC : 0.6173712110914775\n",
      "Its external  AUC: 0.45155191429021585\n",
      "Curent best Test AUC: 0.6186599874765185\n",
      "Its' val AUC : 0.6056816637216257\n",
      "Its external  AUC: 0.46525917756420354\n",
      "Epoch    14: reducing learning rate of group 0 to 5.0000e-04.\n"
     ]
    },
    {
     "name": "stderr",
     "output_type": "stream",
     "text": [
      "Epoch 31:  56%|▌| 28/50 [00:00<00:00, 34.30it/s, train_loss=0.103, val_loss=0.02"
     ]
    },
    {
     "name": "stdout",
     "output_type": "stream",
     "text": [
      "Epoch    25: reducing learning rate of group 0 to 2.5000e-04.\n"
     ]
    },
    {
     "name": "stderr",
     "output_type": "stream",
     "text": [
      "Epoch 42:  80%|▊| 40/50 [00:01<00:00, 34.39it/s, train_loss=0.0655, val_loss=0.0"
     ]
    },
    {
     "name": "stdout",
     "output_type": "stream",
     "text": [
      "Epoch    36: reducing learning rate of group 0 to 1.2500e-04.\n"
     ]
    },
    {
     "name": "stderr",
     "output_type": "stream",
     "text": [
      "Epoch 49: 100%|█| 50/50 [00:01<00:00, 34.21it/s, train_loss=0.0516, val_loss=0.0\n",
      "Epoch 3:   0%| | 0/50 [00:00<?, ?it/s, train_loss=5.85, val_loss=0.994, train_ci"
     ]
    },
    {
     "name": "stdout",
     "output_type": "stream",
     "text": [
      "Epoch    47: reducing learning rate of group 0 to 1.0000e-04.\n",
      "Curent best Test AUC: 0.5739511584220414\n",
      "Its' val AUC : 0.6385755063205111\n",
      "Its external  AUC: 0.4638411848117221\n"
     ]
    },
    {
     "name": "stderr",
     "output_type": "stream",
     "text": [
      "Epoch 11:  16%|▏| 8/50 [00:00<00:01, 33.24it/s, train_loss=1.04, val_loss=0.0371"
     ]
    },
    {
     "name": "stdout",
     "output_type": "stream",
     "text": [
      "Curent best Test AUC: 0.6445835942391985\n",
      "Its' val AUC : 0.5963028408318608\n",
      "Its external  AUC: 0.4490310382858043\n"
     ]
    },
    {
     "name": "stderr",
     "output_type": "stream",
     "text": [
      "Epoch 49: 100%|█| 50/50 [00:01<00:00, 34.11it/s, train_loss=0.0141, val_loss=0.0\n",
      "Epoch 7:   8%| | 4/50 [00:00<00:01, 31.15it/s, train_loss=0.0321, val_loss=0.013"
     ]
    },
    {
     "name": "stdout",
     "output_type": "stream",
     "text": [
      "Curent best Test AUC: 0.4419536631183469\n",
      "Its' val AUC : 0.3562593448416474\n",
      "Its external  AUC: 0.4944068063652119\n",
      "Curent best Test AUC: 0.6459611772072636\n",
      "Its' val AUC : 0.6124779121924697\n",
      "Its external  AUC: 0.49613990861824486\n"
     ]
    },
    {
     "name": "stderr",
     "output_type": "stream",
     "text": [
      "Epoch 34:  64%|▋| 32/50 [00:01<00:00, 31.91it/s, train_loss=0.0011, val_loss=0.0"
     ]
    },
    {
     "name": "stdout",
     "output_type": "stream",
     "text": [
      "Epoch    28: reducing learning rate of group 0 to 5.0000e-04.\n"
     ]
    },
    {
     "name": "stderr",
     "output_type": "stream",
     "text": [
      "Epoch 49: 100%|█| 50/50 [00:01<00:00, 32.16it/s, train_loss=0.000501, val_loss=0\n",
      "Epoch 7:   8%| | 4/50 [00:00<00:01, 31.93it/s, train_loss=0.00908, val_loss=0.00"
     ]
    },
    {
     "name": "stdout",
     "output_type": "stream",
     "text": [
      "Curent best Test AUC: 0.6617407639323732\n",
      "Its' val AUC : 0.6309637080331657\n",
      "Its external  AUC: 0.4676224988183394\n"
     ]
    },
    {
     "name": "stderr",
     "output_type": "stream",
     "text": [
      "Epoch 49: 100%|█| 50/50 [00:01<00:00, 34.03it/s, train_loss=0.000176, val_loss=2\n",
      "Epoch 7:   8%| | 4/50 [00:00<00:01, 32.29it/s, train_loss=2.78, val_loss=0.23, t"
     ]
    },
    {
     "name": "stdout",
     "output_type": "stream",
     "text": [
      "Curent best Test AUC: 0.39574201628052597\n",
      "Its' val AUC : 0.4538534728829686\n",
      "Its external  AUC: 0.5916180872853316\n",
      "Curent best Test AUC: 0.636568566061365\n",
      "Its' val AUC : 0.6302840831860813\n",
      "Its external  AUC: 0.4513943595399401\n"
     ]
    },
    {
     "name": "stderr",
     "output_type": "stream",
     "text": [
      "Epoch 32:  64%|▋| 32/50 [00:00<00:00, 34.26it/s, train_loss=0.112, val_loss=0.01"
     ]
    },
    {
     "name": "stdout",
     "output_type": "stream",
     "text": [
      "Epoch    26: reducing learning rate of group 0 to 5.0000e-04.\n"
     ]
    },
    {
     "name": "stderr",
     "output_type": "stream",
     "text": [
      "Epoch 49: 100%|█| 50/50 [00:01<00:00, 34.23it/s, train_loss=0.02, val_loss=0.004\n",
      "Epoch 7:   8%| | 4/50 [00:00<00:01, 32.22it/s, train_loss=0.744, val_loss=0.134,"
     ]
    },
    {
     "name": "stdout",
     "output_type": "stream",
     "text": [
      "Curent best Test AUC: 0.38058860363180963\n",
      "Its' val AUC : 0.3720266412940057\n",
      "Its external  AUC: 0.5256026469198046\n",
      "Curent best Test AUC: 0.42053850970569817\n",
      "Its' val AUC : 0.34769607176838385\n",
      "Its external  AUC: 0.5278084134236647\n",
      "Curent best Test AUC: 0.48703819661866\n",
      "Its' val AUC : 0.4058719586788093\n",
      "Its external  AUC: 0.5282810776744918\n",
      "Curent best Test AUC: 0.5705698184095178\n",
      "Its' val AUC : 0.6395269811064292\n",
      "Its external  AUC: 0.5872065542776115\n",
      "Curent best Test AUC: 0.5899812147777082\n",
      "Its' val AUC : 0.6599157265189616\n",
      "Its external  AUC: 0.538364581692138\n",
      "Curent best Test AUC: 0.591484032561052\n",
      "Its' val AUC : 0.6667119749898056\n",
      "Its external  AUC: 0.5202457854104301\n",
      "Curent best Test AUC: 0.598246712586099\n",
      "Its' val AUC : 0.6677993747451407\n",
      "Its external  AUC: 0.5117378288955412\n"
     ]
    },
    {
     "name": "stderr",
     "output_type": "stream",
     "text": [
      "Epoch 14:  24%|▏| 12/50 [00:00<00:01, 33.07it/s, train_loss=0.278, val_loss=0.07"
     ]
    },
    {
     "name": "stdout",
     "output_type": "stream",
     "text": [
      "Curent best Test AUC: 0.6008766437069505\n",
      "Its' val AUC : 0.6624983009378823\n",
      "Its external  AUC: 0.49771545612100204\n",
      "Curent best Test AUC: 0.6155291170945523\n",
      "Its' val AUC : 0.6563816773141226\n",
      "Its external  AUC: 0.48337797384591147\n"
     ]
    },
    {
     "name": "stderr",
     "output_type": "stream",
     "text": [
      "Epoch 27:  48%|▍| 24/50 [00:00<00:00, 34.23it/s, train_loss=0.194, val_loss=0.05"
     ]
    },
    {
     "name": "stdout",
     "output_type": "stream",
     "text": [
      "Epoch    21: reducing learning rate of group 0 to 5.0000e-04.\n"
     ]
    },
    {
     "name": "stderr",
     "output_type": "stream",
     "text": [
      "Epoch 36:  72%|▋| 36/50 [00:01<00:00, 33.76it/s, train_loss=0.137, val_loss=0.03"
     ]
    },
    {
     "name": "stdout",
     "output_type": "stream",
     "text": [
      "Curent best Test AUC: 0.62128991859737\n",
      "Its' val AUC : 0.634089982329754\n",
      "Its external  AUC: 0.4395777532692611\n",
      "Curent best Test AUC: 0.6345648090169067\n",
      "Its' val AUC : 0.6190023107244801\n",
      "Its external  AUC: 0.4461950527808413\n"
     ]
    },
    {
     "name": "stderr",
     "output_type": "stream",
     "text": [
      "Epoch 49: 100%|█| 50/50 [00:01<00:00, 33.43it/s, train_loss=0.0669, val_loss=0.0\n",
      "Epoch 7:   8%| | 4/50 [00:00<00:01, 31.92it/s, train_loss=0.292, val_loss=0.0481"
     ]
    },
    {
     "name": "stdout",
     "output_type": "stream",
     "text": [
      "Curent best Test AUC: 0.45109580463368815\n",
      "Its' val AUC : 0.36658964251733045\n",
      "Its external  AUC: 0.4677800535686151\n",
      "Curent best Test AUC: 0.5653099561678147\n",
      "Its' val AUC : 0.6690226994698926\n",
      "Its external  AUC: 0.5448243264534426\n"
     ]
    },
    {
     "name": "stderr",
     "output_type": "stream",
     "text": [
      "Epoch 45:  88%|▉| 44/50 [00:01<00:00, 29.99it/s, train_loss=0.00178, val_loss=0."
     ]
    },
    {
     "name": "stdout",
     "output_type": "stream",
     "text": [
      "Curent best Test AUC: 0.5735754539762054\n",
      "Its' val AUC : 0.5506320511077885\n",
      "Its external  AUC: 0.5720812982511423\n",
      "Curent best Test AUC: 0.5802128991859737\n",
      "Its' val AUC : 0.55579719994563\n",
      "Its external  AUC: 0.5727115172522451\n",
      "Curent best Test AUC: 0.5860989355040701\n",
      "Its' val AUC : 0.5586516243033846\n",
      "Its external  AUC: 0.5686150937450765\n",
      "Curent best Test AUC: 0.589355040701315\n",
      "Its' val AUC : 0.5582438493951339\n",
      "Its external  AUC: 0.5653064439892863\n",
      "Curent best Test AUC: 0.5918597370068879\n",
      "Its' val AUC : 0.5579719994563002\n",
      "Its external  AUC: 0.5634157869859776\n",
      "Curent best Test AUC: 0.5924859110832812\n",
      "Its' val AUC : 0.5585156993339676\n",
      "Its external  AUC: 0.5616826847329447\n"
     ]
    },
    {
     "name": "stderr",
     "output_type": "stream",
     "text": [
      "Epoch 49: 100%|█| 50/50 [00:01<00:00, 31.00it/s, train_loss=0.00146, val_loss=0.\n",
      "Epoch 1:   0%| | 0/50 [00:00<?, ?it/s, train_loss=1.79, val_loss=0.847, train_ci"
     ]
    },
    {
     "name": "stdout",
     "output_type": "stream",
     "text": [
      "Epoch    46: reducing learning rate of group 0 to 5.0000e-04.\n",
      "Curent best Test AUC: 0.4356919223544145\n",
      "Its' val AUC : 0.49109691450319426\n",
      "Its external  AUC: 0.6009138175515992\n"
     ]
    },
    {
     "name": "stderr",
     "output_type": "stream",
     "text": [
      "Epoch 8:  16%|▏| 8/50 [00:00<00:01, 31.46it/s, train_loss=0.23, val_loss=0.0662,"
     ]
    },
    {
     "name": "stdout",
     "output_type": "stream",
     "text": [
      "Curent best Test AUC: 0.48741390106449595\n",
      "Its' val AUC : 0.3717547913551719\n",
      "Its external  AUC: 0.3817551599180715\n",
      "Curent best Test AUC: 0.5231058234189104\n",
      "Its' val AUC : 0.43849395133886093\n",
      "Its external  AUC: 0.40018906570033086\n",
      "Curent best Test AUC: 0.5452723857232311\n",
      "Its' val AUC : 0.5986135653119478\n",
      "Its external  AUC: 0.5274933039231133\n",
      "Curent best Test AUC: 0.5465247338760175\n",
      "Its' val AUC : 0.6109827375288841\n",
      "Its external  AUC: 0.5274933039231133\n"
     ]
    },
    {
     "name": "stderr",
     "output_type": "stream",
     "text": [
      "Epoch 18:  32%|▎| 16/50 [00:00<00:01, 31.21it/s, train_loss=0.0794, val_loss=0.0"
     ]
    },
    {
     "name": "stdout",
     "output_type": "stream",
     "text": [
      "Curent best Test AUC: 0.6251721978710082\n",
      "Its' val AUC : 0.5477776267500339\n",
      "Its external  AUC: 0.5459272097053726\n",
      "Curent best Test AUC: 0.6656230432060113\n",
      "Its' val AUC : 0.6368084817180916\n",
      "Its external  AUC: 0.6009138175515992\n"
     ]
    },
    {
     "name": "stderr",
     "output_type": "stream",
     "text": [
      "Epoch 25:  48%|▍| 24/50 [00:00<00:00, 30.13it/s, train_loss=0.0307, val_loss=0.0"
     ]
    },
    {
     "name": "stdout",
     "output_type": "stream",
     "text": [
      "Curent best Test AUC: 0.6713838447088291\n",
      "Its' val AUC : 0.6107108875900503\n",
      "Its external  AUC: 0.575074838506381\n",
      "Curent best Test AUC: 0.7061991233562931\n",
      "Its' val AUC : 0.713470164469213\n",
      "Its external  AUC: 0.6040649125571136\n"
     ]
    },
    {
     "name": "stderr",
     "output_type": "stream",
     "text": [
      "Epoch 49: 100%|█| 50/50 [00:01<00:00, 31.52it/s, train_loss=0.0097, val_loss=0.0\n",
      "Epoch 7:   8%| | 4/50 [00:00<00:01, 31.97it/s, train_loss=1.07, val_loss=0.217, "
     ]
    },
    {
     "name": "stdout",
     "output_type": "stream",
     "text": [
      "Curent best Test AUC: 0.5883531621790857\n",
      "Its' val AUC : 0.536224004349599\n",
      "Its external  AUC: 0.4126358909721128\n"
     ]
    },
    {
     "name": "stderr",
     "output_type": "stream",
     "text": [
      "Epoch 49: 100%|█| 50/50 [00:01<00:00, 32.87it/s, train_loss=0.0168, val_loss=0.0\n",
      "Epoch 7:   8%| | 4/50 [00:00<00:01, 31.43it/s, train_loss=0.135, val_loss=0.0247"
     ]
    },
    {
     "name": "stdout",
     "output_type": "stream",
     "text": [
      "Curent best Test AUC: 0.42930494677520353\n",
      "Its' val AUC : 0.35095827103438904\n",
      "Its external  AUC: 0.5194580116590515\n",
      "Curent best Test AUC: 0.5665623043206012\n",
      "Its' val AUC : 0.4412124507271986\n",
      "Its external  AUC: 0.503387427130928\n"
     ]
    },
    {
     "name": "stderr",
     "output_type": "stream",
     "text": [
      "Epoch 30:  56%|▌| 28/50 [00:00<00:00, 33.09it/s, train_loss=0.011, val_loss=0.00"
     ]
    },
    {
     "name": "stdout",
     "output_type": "stream",
     "text": [
      "Curent best Test AUC: 0.6047589229805886\n",
      "Its' val AUC : 0.6005165148837841\n",
      "Its external  AUC: 0.4510792500393887\n"
     ]
    },
    {
     "name": "stderr",
     "output_type": "stream",
     "text": [
      "Epoch 49: 100%|█| 50/50 [00:01<00:00, 32.97it/s, train_loss=0.00388, val_loss=0.\n",
      "Epoch 7:   8%| | 4/50 [00:00<00:01, 31.55it/s, train_loss=2.12, val_loss=0.244, "
     ]
    },
    {
     "name": "stdout",
     "output_type": "stream",
     "text": [
      "Curent best Test AUC: 0.4841577958672511\n",
      "Its' val AUC : 0.3983960853608808\n",
      "Its external  AUC: 0.4359539940129195\n",
      "Curent best Test AUC: 0.614527238572323\n",
      "Its' val AUC : 0.6392551311675955\n",
      "Its external  AUC: 0.46809516306916654\n"
     ]
    },
    {
     "name": "stderr",
     "output_type": "stream",
     "text": [
      "Epoch 49: 100%|█| 50/50 [00:01<00:00, 33.19it/s, train_loss=0.0346, val_loss=0.0\n",
      "Epoch 7:   8%| | 4/50 [00:00<00:01, 32.93it/s, train_loss=0.428, val_loss=0.028,"
     ]
    },
    {
     "name": "stdout",
     "output_type": "stream",
     "text": [
      "Curent best Test AUC: 0.5896055103318723\n",
      "Its' val AUC : 0.6528476281092837\n",
      "Its external  AUC: 0.48936505435638883\n"
     ]
    },
    {
     "name": "stderr",
     "output_type": "stream",
     "text": [
      "Epoch 15:  24%|▏| 12/50 [00:00<00:01, 32.98it/s, train_loss=0.0626, val_loss=0.0"
     ]
    },
    {
     "name": "stdout",
     "output_type": "stream",
     "text": [
      "Curent best Test AUC: 0.5981214777708203\n",
      "Its' val AUC : 0.6040505640886231\n",
      "Its external  AUC: 0.44162596502284546\n"
     ]
    },
    {
     "name": "stderr",
     "output_type": "stream",
     "text": [
      "Epoch 25:  48%|▍| 24/50 [00:00<00:00, 32.76it/s, train_loss=0.044, val_loss=0.01"
     ]
    },
    {
     "name": "stdout",
     "output_type": "stream",
     "text": [
      "Epoch    19: reducing learning rate of group 0 to 5.0000e-04.\n"
     ]
    },
    {
     "name": "stderr",
     "output_type": "stream",
     "text": [
      "Epoch 49: 100%|█| 50/50 [00:01<00:00, 33.95it/s, train_loss=0.00515, val_loss=0.\n",
      "Epoch 8:  16%|▏| 8/50 [00:00<00:01, 34.98it/s, train_loss=0.459, val_loss=0.05, "
     ]
    },
    {
     "name": "stdout",
     "output_type": "stream",
     "text": [
      "Curent best Test AUC: 0.3709455228553538\n",
      "Its' val AUC : 0.36074486883240453\n",
      "Its external  AUC: 0.5347408224357965\n",
      "Curent best Test AUC: 0.5123356293049468\n",
      "Its' val AUC : 0.5197770830501564\n",
      "Its external  AUC: 0.4120056719710099\n",
      "Curent best Test AUC: 0.5267376330619913\n",
      "Its' val AUC : 0.5585156993339676\n",
      "Its external  AUC: 0.42602804474554906\n"
     ]
    },
    {
     "name": "stderr",
     "output_type": "stream",
     "text": [
      "Epoch 20:  40%|▍| 20/50 [00:00<00:00, 32.57it/s, train_loss=0.0254, val_loss=0.0"
     ]
    },
    {
     "name": "stdout",
     "output_type": "stream",
     "text": [
      "Curent best Test AUC: 0.5382592360676268\n",
      "Its' val AUC : 0.4734266684789996\n",
      "Its external  AUC: 0.5517567354655742\n",
      "Curent best Test AUC: 0.5479023168440826\n",
      "Its' val AUC : 0.5015631371482941\n",
      "Its external  AUC: 0.554750275720813\n",
      "Curent best Test AUC: 0.5633061991233563\n",
      "Its' val AUC : 0.5366317792578497\n",
      "Its external  AUC: 0.5608949109815661\n",
      "Curent best Test AUC: 0.5710081402629931\n",
      "Its' val AUC : 0.566127497621313\n",
      "Its external  AUC: 0.5673546557428707\n",
      "Curent best Test AUC: 0.5794614902943018\n",
      "Its' val AUC : 0.5987494902813647\n",
      "Its external  AUC: 0.5714510792500394\n",
      "Curent best Test AUC: 0.5899812147777082\n",
      "Its' val AUC : 0.6224004349599022\n",
      "Its external  AUC: 0.5769654955096896\n",
      "Curent best Test AUC: 0.6\n",
      "Its' val AUC : 0.640886230800598\n",
      "Its external  AUC: 0.5837403497715457\n"
     ]
    },
    {
     "name": "stderr",
     "output_type": "stream",
     "text": [
      "Epoch 28:  56%|▌| 28/50 [00:00<00:00, 34.37it/s, train_loss=0.00468, val_loss=0."
     ]
    },
    {
     "name": "stdout",
     "output_type": "stream",
     "text": [
      "Curent best Test AUC: 0.6005009392611146\n",
      "Its' val AUC : 0.6514883784151149\n",
      "Its external  AUC: 0.5920907515361589\n",
      "Curent best Test AUC: 0.6093926111458986\n",
      "Its' val AUC : 0.6671197498980562\n",
      "Its external  AUC: 0.6078462265637309\n",
      "Curent best Test AUC: 0.639073262366938\n",
      "Its' val AUC : 0.6498572787821123\n",
      "Its external  AUC: 0.6122577595714511\n"
     ]
    },
    {
     "name": "stderr",
     "output_type": "stream",
     "text": [
      "Epoch 49: 100%|█| 50/50 [00:01<00:00, 34.96it/s, train_loss=0.00167, val_loss=0.\n",
      "Epoch 8:  16%|▏| 8/50 [00:00<00:01, 37.84it/s, train_loss=0.136, val_loss=0.0448"
     ]
    },
    {
     "name": "stdout",
     "output_type": "stream",
     "text": [
      "Curent best Test AUC: 0.5366311834690044\n",
      "Its' val AUC : 0.44760092428979203\n",
      "Its external  AUC: 0.44257129352449975\n",
      "Curent best Test AUC: 0.5878522229179712\n",
      "Its' val AUC : 0.64210955552535\n",
      "Its external  AUC: 0.4851110760989444\n"
     ]
    },
    {
     "name": "stderr",
     "output_type": "stream",
     "text": [
      "Epoch 39:  72%|▋| 36/50 [00:01<00:00, 33.96it/s, train_loss=0.0103, val_loss=0.0"
     ]
    },
    {
     "name": "stdout",
     "output_type": "stream",
     "text": [
      "Curent best Test AUC: 0.5941139636819036\n",
      "Its' val AUC : 0.5876036427891804\n",
      "Its external  AUC: 0.4258704899952734\n"
     ]
    },
    {
     "name": "stderr",
     "output_type": "stream",
     "text": [
      "Epoch 49: 100%|█| 50/50 [00:01<00:00, 34.79it/s, train_loss=0.00411, val_loss=0.\n",
      "Epoch 6:  12%| | 6/50 [00:00<00:01, 27.50it/s, train_loss=0.028, val_loss=0.0023"
     ]
    },
    {
     "name": "stdout",
     "output_type": "stream",
     "text": [
      "Curent best Test AUC: 0.3919849718221666\n",
      "Its' val AUC : 0.3943183362783743\n",
      "Its external  AUC: 0.531589727430282\n",
      "Curent best Test AUC: 0.4207889793362555\n",
      "Its' val AUC : 0.3967649857278782\n",
      "Its external  AUC: 0.5629431227351505\n",
      "Curent best Test AUC: 0.5545397620538509\n",
      "Its' val AUC : 0.5782248198994155\n",
      "Its external  AUC: 0.6065857885615251\n",
      "Curent best Test AUC: 0.6105197244834064\n",
      "Its' val AUC : 0.6531194780481174\n",
      "Its external  AUC: 0.589727430282023\n",
      "Curent best Test AUC: 0.6265497808390733\n",
      "Its' val AUC : 0.6445562049748539\n",
      "Its external  AUC: 0.5634157869859776\n",
      "Curent best Test AUC: 0.6989355040701315\n",
      "Its' val AUC : 0.5801277694712519\n",
      "Its external  AUC: 0.5780683787616197\n"
     ]
    },
    {
     "name": "stderr",
     "output_type": "stream",
     "text": [
      "Epoch 49:  98%|▉| 49/50 [00:01<00:00, 29.89it/s, train_loss=4.79e-5, val_loss=1."
     ]
    },
    {
     "name": "stdout",
     "output_type": "stream",
     "text": [
      "Epoch    44: reducing learning rate of group 0 to 5.0000e-04.\n"
     ]
    },
    {
     "name": "stderr",
     "output_type": "stream",
     "text": [
      "Epoch 49: 100%|█| 50/50 [00:01<00:00, 29.97it/s, train_loss=-3.82e-5, val_loss=-\n",
      "Epoch 7:   8%| | 4/50 [00:00<00:01, 31.00it/s, train_loss=0.0779, val_loss=0.006"
     ]
    },
    {
     "name": "stdout",
     "output_type": "stream",
     "text": [
      "Curent best Test AUC: 0.4553537883531622\n",
      "Its' val AUC : 0.3887454125322822\n",
      "Its external  AUC: 0.4009768394517095\n",
      "Curent best Test AUC: 0.5883531621790857\n",
      "Its' val AUC : 0.6703819491640615\n",
      "Its external  AUC: 0.4851110760989444\n",
      "Curent best Test AUC: 0.6525986224170319\n",
      "Its' val AUC : 0.5589234742422183\n",
      "Its external  AUC: 0.45296990704269735\n"
     ]
    },
    {
     "name": "stderr",
     "output_type": "stream",
     "text": [
      "Epoch 49: 100%|█| 50/50 [00:01<00:00, 31.84it/s, train_loss=0.000634, val_loss=0\n",
      "Epoch 7:   8%| | 4/50 [00:00<00:01, 31.80it/s, train_loss=0.364, val_loss=0.0445"
     ]
    },
    {
     "name": "stdout",
     "output_type": "stream",
     "text": [
      "Curent best Test AUC: 0.5319348778960551\n",
      "Its' val AUC : 0.5999728150061167\n",
      "Its external  AUC: 0.6338427603592248\n",
      "Curent best Test AUC: 0.6432060112711334\n",
      "Its' val AUC : 0.6298763082778306\n",
      "Its external  AUC: 0.4610051993067591\n"
     ]
    },
    {
     "name": "stderr",
     "output_type": "stream",
     "text": [
      "Epoch 49: 100%|█| 50/50 [00:01<00:00, 34.22it/s, train_loss=0.00764, val_loss=0.\n",
      "Epoch 7:   8%| | 4/50 [00:00<00:01, 33.29it/s, train_loss=1.34, val_loss=0.693, "
     ]
    },
    {
     "name": "stdout",
     "output_type": "stream",
     "text": [
      "Curent best Test AUC: 0.5614276768941766\n",
      "Its' val AUC : 0.5340492048389289\n",
      "Its external  AUC: 0.39325665668819915\n",
      "Curent best Test AUC: 0.6018785222291797\n",
      "Its' val AUC : 0.6043224140274568\n",
      "Its external  AUC: 0.45233968804159447\n"
     ]
    },
    {
     "name": "stderr",
     "output_type": "stream",
     "text": [
      "Epoch 23:  40%|▍| 20/50 [00:00<00:00, 35.71it/s, train_loss=0.264, val_loss=0.02"
     ]
    },
    {
     "name": "stdout",
     "output_type": "stream",
     "text": [
      "Curent best Test AUC: 0.6072636192861616\n",
      "Its' val AUC : 0.5997009650672829\n",
      "Its external  AUC: 0.5229242161651174\n"
     ]
    },
    {
     "name": "stderr",
     "output_type": "stream",
     "text": [
      "Epoch 30:  56%|▌| 28/50 [00:00<00:00, 33.80it/s, train_loss=0.0935, val_loss=0.0"
     ]
    },
    {
     "name": "stdout",
     "output_type": "stream",
     "text": [
      "Curent best Test AUC: 0.6123982467125861\n",
      "Its' val AUC : 0.6077205382628789\n",
      "Its external  AUC: 0.4827477548448086\n",
      "Curent best Test AUC: 0.6336881653099562\n",
      "Its' val AUC : 0.6338181323909202\n",
      "Its external  AUC: 0.4910981566094218\n",
      "Curent best Test AUC: 0.6458359423919849\n",
      "Its' val AUC : 0.6222645099904852\n",
      "Its external  AUC: 0.5638884512368048\n"
     ]
    },
    {
     "name": "stderr",
     "output_type": "stream",
     "text": [
      "Epoch 49: 100%|█| 50/50 [00:01<00:00, 34.38it/s, train_loss=0.016, val_loss=0.00\n",
      "Epoch 3:   0%| | 0/50 [00:00<?, ?it/s, train_loss=16.4, val_loss=0.36, train_cin"
     ]
    },
    {
     "name": "stdout",
     "output_type": "stream",
     "text": [
      "Epoch    47: reducing learning rate of group 0 to 5.0000e-04.\n",
      "Curent best Test AUC: 0.5109580463368817\n",
      "Its' val AUC : 0.5983417153731141\n",
      "Its external  AUC: 0.6391996218685994\n",
      "Curent best Test AUC: 0.6062617407639324\n",
      "Its' val AUC : 0.6215848851434008\n",
      "Its external  AUC: 0.4524972427918702\n"
     ]
    },
    {
     "name": "stderr",
     "output_type": "stream",
     "text": [
      "Epoch 22:  40%|▍| 20/50 [00:00<00:00, 35.59it/s, train_loss=0.224, val_loss=0.01"
     ]
    },
    {
     "name": "stdout",
     "output_type": "stream",
     "text": [
      "Curent best Test AUC: 0.6192861615529117\n",
      "Its' val AUC : 0.6372162566263423\n",
      "Its external  AUC: 0.5471876477075783\n"
     ]
    },
    {
     "name": "stderr",
     "output_type": "stream",
     "text": [
      "Epoch 49: 100%|█| 50/50 [00:01<00:00, 35.07it/s, train_loss=0.0147, val_loss=0.0\n",
      "Epoch 3:   0%| | 0/50 [00:00<?, ?it/s, train_loss=11.7, val_loss=0.802, train_ci"
     ]
    },
    {
     "name": "stdout",
     "output_type": "stream",
     "text": [
      "Epoch    47: reducing learning rate of group 0 to 5.0000e-04.\n",
      "Curent best Test AUC: 0.5992485911083281\n",
      "Its' val AUC : 0.6301481582166644\n",
      "Its external  AUC: 0.4906254923585946\n"
     ]
    },
    {
     "name": "stderr",
     "output_type": "stream",
     "text": [
      "Epoch 23:  40%|▍| 20/50 [00:00<00:00, 33.15it/s, train_loss=0.594, val_loss=0.10"
     ]
    },
    {
     "name": "stdout",
     "output_type": "stream",
     "text": [
      "Curent best Test AUC: 0.6108954289292423\n",
      "Its' val AUC : 0.6194100856327307\n",
      "Its external  AUC: 0.4665196155664093\n"
     ]
    },
    {
     "name": "stderr",
     "output_type": "stream",
     "text": [
      "Epoch 49: 100%|█| 50/50 [00:01<00:00, 34.90it/s, train_loss=0.0308, val_loss=0.0\n",
      "Epoch 7:   8%| | 4/50 [00:00<00:01, 34.31it/s, train_loss=0.285, val_loss=0.0862"
     ]
    },
    {
     "name": "stdout",
     "output_type": "stream",
     "text": [
      "Curent best Test AUC: 0.593237319974953\n",
      "Its' val AUC : 0.6653527252956368\n",
      "Its external  AUC: 0.5025996533795494\n"
     ]
    },
    {
     "name": "stderr",
     "output_type": "stream",
     "text": [
      "Epoch 16:  32%|▎| 16/50 [00:00<00:00, 36.87it/s, train_loss=0.327, val_loss=0.01"
     ]
    },
    {
     "name": "stdout",
     "output_type": "stream",
     "text": [
      "Curent best Test AUC: 0.6096430807764559\n",
      "Its' val AUC : 0.6445562049748539\n",
      "Its external  AUC: 0.5150464786513314\n",
      "Curent best Test AUC: 0.6268002504696305\n",
      "Its' val AUC : 0.6406143808617643\n",
      "Its external  AUC: 0.4725066960768867\n"
     ]
    },
    {
     "name": "stderr",
     "output_type": "stream",
     "text": [
      "Epoch 49: 100%|█| 50/50 [00:01<00:00, 36.45it/s, train_loss=0.0127, val_loss=0.0\n",
      "Epoch 3:   6%| | 3/50 [00:00<00:01, 27.80it/s, train_loss=0.468, val_loss=0.0574"
     ]
    },
    {
     "name": "stdout",
     "output_type": "stream",
     "text": [
      "Epoch    48: reducing learning rate of group 0 to 5.0000e-04.\n",
      "Curent best Test AUC: 0.413149655604258\n",
      "Its' val AUC : 0.35136604594263965\n",
      "Its external  AUC: 0.521978887663463\n",
      "Curent best Test AUC: 0.43631809643080777\n",
      "Its' val AUC : 0.36672556748674734\n",
      "Its external  AUC: 0.5380494721915866\n",
      "Curent best Test AUC: 0.5507827175954916\n",
      "Its' val AUC : 0.565040097865978\n",
      "Its external  AUC: 0.5831101307704427\n"
     ]
    },
    {
     "name": "stderr",
     "output_type": "stream",
     "text": [
      "Epoch 10:  14%|▏| 7/50 [00:00<00:01, 30.66it/s, train_loss=0.12, val_loss=0.0213"
     ]
    },
    {
     "name": "stdout",
     "output_type": "stream",
     "text": [
      "Curent best Test AUC: 0.6334376956793989\n",
      "Its' val AUC : 0.635313307054506\n",
      "Its external  AUC: 0.616826847329447\n",
      "Curent best Test AUC: 0.6360676268002504\n",
      "Its' val AUC : 0.5265733315210004\n",
      "Its external  AUC: 0.6092642193162123\n",
      "Curent best Test AUC: 0.6604884157795867\n",
      "Its' val AUC : 0.6131575370395541\n",
      "Its external  AUC: 0.4789664408381913\n"
     ]
    },
    {
     "name": "stderr",
     "output_type": "stream",
     "text": [
      "Epoch 49: 100%|█| 50/50 [00:01<00:00, 34.44it/s, train_loss=0.0097, val_loss=0.0\n",
      "Epoch 8:  16%|▏| 8/50 [00:00<00:01, 37.11it/s, train_loss=0.195, val_loss=0.0539"
     ]
    },
    {
     "name": "stdout",
     "output_type": "stream",
     "text": [
      "Curent best Test AUC: 0.40137758296806514\n",
      "Its' val AUC : 0.3527252956368085\n",
      "Its external  AUC: 0.5262328659209076\n",
      "Curent best Test AUC: 0.5480275516593613\n",
      "Its' val AUC : 0.5507679760772054\n",
      "Its external  AUC: 0.5563258232235702\n",
      "Curent best Test AUC: 0.5610519724483406\n",
      "Its' val AUC : 0.6533913279869512\n",
      "Its external  AUC: 0.4844808570978415\n"
     ]
    },
    {
     "name": "stderr",
     "output_type": "stream",
     "text": [
      "Epoch 46:  88%|▉| 44/50 [00:01<00:00, 31.60it/s, train_loss=0.000896, val_loss=0"
     ]
    },
    {
     "name": "stdout",
     "output_type": "stream",
     "text": [
      "Epoch    41: reducing learning rate of group 0 to 5.0000e-04.\n"
     ]
    },
    {
     "name": "stderr",
     "output_type": "stream",
     "text": [
      "Epoch 49: 100%|█| 50/50 [00:01<00:00, 33.63it/s, train_loss=0.000673, val_loss=0\n",
      "Epoch 6:  12%| | 6/50 [00:00<00:01, 28.68it/s, train_loss=0.0931, val_loss=0.014"
     ]
    },
    {
     "name": "stdout",
     "output_type": "stream",
     "text": [
      "Curent best Test AUC: 0.42780212899185976\n",
      "Its' val AUC : 0.4776403425309229\n",
      "Its external  AUC: 0.5861036710256814\n",
      "Curent best Test AUC: 0.4443331246086412\n",
      "Its' val AUC : 0.41497893162974037\n",
      "Its external  AUC: 0.5717661887505908\n",
      "Curent best Test AUC: 0.4899185973700689\n",
      "Its' val AUC : 0.4336006524398532\n",
      "Its external  AUC: 0.5730266267527966\n"
     ]
    },
    {
     "name": "stderr",
     "output_type": "stream",
     "text": [
      "Epoch 12:  18%|▏| 9/50 [00:00<00:01, 28.63it/s, train_loss=0.00242, val_loss=0.0"
     ]
    },
    {
     "name": "stdout",
     "output_type": "stream",
     "text": [
      "Curent best Test AUC: 0.5878522229179712\n",
      "Its' val AUC : 0.5514476009242898\n",
      "Its external  AUC: 0.5730266267527966\n",
      "Curent best Test AUC: 0.6121477770820288\n",
      "Its' val AUC : 0.5973902405871959"
     ]
    },
    {
     "name": "stderr",
     "output_type": "stream",
     "text": [
      "Epoch 18:  32%|▎| 16/50 [00:00<00:01, 29.08it/s, train_loss=0.00428, val_loss=0."
     ]
    },
    {
     "name": "stdout",
     "output_type": "stream",
     "text": [
      "\n",
      "Its external  AUC: 0.5646762249881834\n",
      "Curent best Test AUC: 0.6286787726988102\n",
      "Its' val AUC : 0.6403425309229306\n",
      "Its external  AUC: 0.5500236332125413\n"
     ]
    },
    {
     "name": "stderr",
     "output_type": "stream",
     "text": [
      "Epoch 42:  80%|▊| 40/50 [00:01<00:00, 29.25it/s, train_loss=0.000411, val_loss=5"
     ]
    },
    {
     "name": "stdout",
     "output_type": "stream",
     "text": [
      "Epoch    37: reducing learning rate of group 0 to 5.0000e-04.\n"
     ]
    },
    {
     "name": "stderr",
     "output_type": "stream",
     "text": [
      "Epoch 49: 100%|█| 50/50 [00:01<00:00, 29.25it/s, train_loss=0.000362, val_loss=4\n",
      "Epoch 8:  16%|▏| 8/50 [00:00<00:01, 35.44it/s, train_loss=2.68, val_loss=0.628, "
     ]
    },
    {
     "name": "stdout",
     "output_type": "stream",
     "text": [
      "Curent best Test AUC: 0.5784596117720726\n",
      "Its' val AUC : 0.6169634361832269\n",
      "Its external  AUC: 0.521978887663463\n",
      "Curent best Test AUC: 0.6082654978083908\n",
      "Its' val AUC : 0.6039146391192062\n",
      "Its external  AUC: 0.45911454230345045\n"
     ]
    },
    {
     "name": "stderr",
     "output_type": "stream",
     "text": [
      "Epoch 22:  40%|▍| 20/50 [00:00<00:00, 34.68it/s, train_loss=0.442, val_loss=0.04"
     ]
    },
    {
     "name": "stdout",
     "output_type": "stream",
     "text": [
      "Curent best Test AUC: 0.6313087038196619\n",
      "Its' val AUC : 0.6729645235829822\n",
      "Its external  AUC: 0.49566724436741766\n",
      "Curent best Test AUC: 0.6319348778960551\n",
      "Its' val AUC : 0.6453717547913552\n",
      "Its external  AUC: 0.4731369150779896\n"
     ]
    },
    {
     "name": "stderr",
     "output_type": "stream",
     "text": [
      "Epoch 49: 100%|█| 50/50 [00:01<00:00, 35.37it/s, train_loss=0.0342, val_loss=0.0"
     ]
    },
    {
     "name": "stdout",
     "output_type": "stream",
     "text": [
      "Epoch    43: reducing learning rate of group 0 to 5.0000e-04.\n"
     ]
    },
    {
     "name": "stderr",
     "output_type": "stream",
     "text": [
      "\n",
      "Epoch 7:   8%| | 4/50 [00:00<00:01, 34.29it/s, train_loss=0.039, val_loss=0.0146"
     ]
    },
    {
     "name": "stdout",
     "output_type": "stream",
     "text": [
      "Curent best Test AUC: 0.3949906073888541\n",
      "Its' val AUC : 0.4321054777762675\n",
      "Its external  AUC: 0.5481329762092327\n",
      "Curent best Test AUC: 0.49542892924232934\n",
      "Its' val AUC : 0.4118526573331521\n",
      "Its external  AUC: 0.4504490310382858\n",
      "Curent best Test AUC: 0.500187852222918\n",
      "Its' val AUC : 0.6245752344705723\n",
      "Its external  AUC: 0.5215062234126359\n",
      "Curent best Test AUC: 0.5302442078897933\n",
      "Its' val AUC : 0.46296044583389967\n",
      "Its external  AUC: 0.5427761146998582\n"
     ]
    },
    {
     "name": "stderr",
     "output_type": "stream",
     "text": [
      "Epoch 15:  24%|▏| 12/50 [00:00<00:01, 34.88it/s, train_loss=0.0195, val_loss=0.0"
     ]
    },
    {
     "name": "stdout",
     "output_type": "stream",
     "text": [
      "Curent best Test AUC: 0.5780839073262367\n",
      "Its' val AUC : 0.6402066059535136\n",
      "Its external  AUC: 0.596502284543879\n",
      "Curent best Test AUC: 0.5924859110832812\n",
      "Its' val AUC : 0.6234878347152372\n",
      "Its external  AUC: 0.6121002048211753\n"
     ]
    },
    {
     "name": "stderr",
     "output_type": "stream",
     "text": [
      "Epoch 28:  56%|▌| 28/50 [00:00<00:00, 35.74it/s, train_loss=0.00416, val_loss=0."
     ]
    },
    {
     "name": "stdout",
     "output_type": "stream",
     "text": [
      "Curent best Test AUC: 0.5976205385097056\n",
      "Its' val AUC : 0.5424765529427756\n",
      "Its external  AUC: 0.5016543248778951\n"
     ]
    },
    {
     "name": "stderr",
     "output_type": "stream",
     "text": [
      "Epoch 40:  80%|▊| 40/50 [00:01<00:00, 34.90it/s, train_loss=0.0065, val_loss=0.0"
     ]
    },
    {
     "name": "stdout",
     "output_type": "stream",
     "text": [
      "Curent best Test AUC: 0.6046336881653099\n",
      "Its' val AUC : 0.5700693217344026\n",
      "Its external  AUC: 0.5319048369308335\n"
     ]
    },
    {
     "name": "stderr",
     "output_type": "stream",
     "text": [
      "Epoch 48:  96%|▉| 48/50 [00:01<00:00, 34.80it/s, train_loss=0.00445, val_loss=0."
     ]
    },
    {
     "name": "stdout",
     "output_type": "stream",
     "text": [
      "Curent best Test AUC: 0.6185347526612398\n",
      "Its' val AUC : 0.5816229441348376\n",
      "Its external  AUC: 0.5325350559319364\n",
      "Curent best Test AUC: 0.6219160926737634\n",
      "Its' val AUC : 0.5703411716732364\n",
      "Its external  AUC: 0.5391523554435166\n"
     ]
    },
    {
     "name": "stderr",
     "output_type": "stream",
     "text": [
      "Epoch 49: 100%|█| 50/50 [00:01<00:00, 34.92it/s, train_loss=0.00659, val_loss=0.\n",
      "Epoch 8:  16%|▏| 8/50 [00:00<00:01, 36.69it/s, train_loss=5.39, val_loss=0.372, "
     ]
    },
    {
     "name": "stdout",
     "output_type": "stream",
     "text": [
      "Curent best Test AUC: 0.41828428303068255\n",
      "Its' val AUC : 0.348647546554302\n",
      "Its external  AUC: 0.5095320623916811\n",
      "Curent best Test AUC: 0.5267376330619913\n",
      "Its' val AUC : 0.6128856871007204\n",
      "Its external  AUC: 0.49251614936190324\n",
      "Curent best Test AUC: 0.5683155917345022\n",
      "Its' val AUC : 0.6622264509990485\n",
      "Its external  AUC: 0.4836930833464629\n"
     ]
    },
    {
     "name": "stderr",
     "output_type": "stream",
     "text": [
      "Epoch 17:  32%|▎| 16/50 [00:00<00:00, 37.02it/s, train_loss=0.508, val_loss=0.02"
     ]
    },
    {
     "name": "stdout",
     "output_type": "stream",
     "text": [
      "Curent best Test AUC: 0.5770820288040075\n",
      "Its' val AUC : 0.6724208237053146\n",
      "Its external  AUC: 0.49188593036080036\n"
     ]
    },
    {
     "name": "stderr",
     "output_type": "stream",
     "text": [
      "Epoch 49: 100%|█| 50/50 [00:01<00:00, 37.61it/s, train_loss=0.0209, val_loss=0.0\n",
      "Epoch 8:  16%|▏| 8/50 [00:00<00:01, 36.76it/s, train_loss=0.665, val_loss=0.14, "
     ]
    },
    {
     "name": "stdout",
     "output_type": "stream",
     "text": [
      "Curent best Test AUC: 0.5430181590482154\n",
      "Its' val AUC : 0.5252140818268316\n",
      "Its external  AUC: 0.4066488104616354\n",
      "Curent best Test AUC: 0.57407639323732\n",
      "Its' val AUC : 0.6566535272529563\n",
      "Its external  AUC: 0.4836930833464629\n",
      "Curent best Test AUC: 0.5815904821540389\n",
      "Its' val AUC : 0.6092157129264646\n",
      "Its external  AUC: 0.44461950527808414\n",
      "Curent best Test AUC: 0.5991233562930495\n",
      "Its' val AUC : 0.6158760364278918\n",
      "Its external  AUC: 0.45375768079407597\n"
     ]
    },
    {
     "name": "stderr",
     "output_type": "stream",
     "text": [
      "Epoch 18:  32%|▎| 16/50 [00:00<00:00, 37.70it/s, train_loss=0.298, val_loss=0.01"
     ]
    },
    {
     "name": "stdout",
     "output_type": "stream",
     "text": [
      "Curent best Test AUC: 0.6132748904195366\n",
      "Its' val AUC : 0.5718363463368221\n",
      "Its external  AUC: 0.442413738774224\n",
      "Curent best Test AUC: 0.643331246086412\n",
      "Its' val AUC : 0.6198178605409814\n",
      "Its external  AUC: 0.4400504175200882\n"
     ]
    },
    {
     "name": "stderr",
     "output_type": "stream",
     "text": [
      "Epoch 26:  48%|▍| 24/50 [00:00<00:00, 37.52it/s, train_loss=0.157, val_loss=0.00"
     ]
    },
    {
     "name": "stdout",
     "output_type": "stream",
     "text": [
      "Curent best Test AUC: 0.6455854727614276\n",
      "Its' val AUC : 0.6298763082778306\n",
      "Its external  AUC: 0.4359539940129195\n",
      "Curent best Test AUC: 0.6584846587351284\n",
      "Its' val AUC : 0.6001087399755335\n",
      "Its external  AUC: 0.4465101622813928\n"
     ]
    },
    {
     "name": "stderr",
     "output_type": "stream",
     "text": [
      "Epoch 49: 100%|█| 50/50 [00:01<00:00, 36.65it/s, train_loss=0.0204, val_loss=0.0\n",
      "Epoch 7:   8%| | 4/50 [00:00<00:01, 34.13it/s, train_loss=0.312, val_loss=0.0369"
     ]
    },
    {
     "name": "stdout",
     "output_type": "stream",
     "text": [
      "Curent best Test AUC: 0.5823418910457107\n",
      "Its' val AUC : 0.6483621041185266\n",
      "Its external  AUC: 0.47959665983929417\n",
      "Curent best Test AUC: 0.5967438948027551\n",
      "Its' val AUC : 0.6728285986135654\n",
      "Its external  AUC: 0.6321096581061919\n",
      "Curent best Test AUC: 0.6166562304320601\n",
      "Its' val AUC : 0.6736441484300666\n"
     ]
    },
    {
     "name": "stderr",
     "output_type": "stream",
     "text": [
      "Epoch 15:  24%|▏| 12/50 [00:00<00:01, 35.04it/s, train_loss=0.197, val_loss=0.03"
     ]
    },
    {
     "name": "stdout",
     "output_type": "stream",
     "text": [
      "Its external  AUC: 0.5345832676855207\n",
      "Curent best Test AUC: 0.6437069505322479\n",
      "Its' val AUC : 0.6523039282316161\n",
      "Its external  AUC: 0.4775484480857098\n",
      "Curent best Test AUC: 0.6459611772072636\n",
      "Its' val AUC : 0.6224004349599022\n",
      "Its external  AUC: 0.4468252717819442\n"
     ]
    },
    {
     "name": "stderr",
     "output_type": "stream",
     "text": [
      "Epoch 24:  48%|▍| 24/50 [00:00<00:00, 34.24it/s, train_loss=0.0546, val_loss=0.0"
     ]
    },
    {
     "name": "stdout",
     "output_type": "stream",
     "text": [
      "Curent best Test AUC: 0.6627426424546023\n",
      "Its' val AUC : 0.6717411988582302\n",
      "Its external  AUC: 0.5230817709153931\n"
     ]
    },
    {
     "name": "stderr",
     "output_type": "stream",
     "text": [
      "Epoch 42:  80%|▊| 40/50 [00:01<00:00, 33.64it/s, train_loss=0.00764, val_loss=0."
     ]
    },
    {
     "name": "stdout",
     "output_type": "stream",
     "text": [
      "Epoch    36: reducing learning rate of group 0 to 5.0000e-04.\n"
     ]
    },
    {
     "name": "stderr",
     "output_type": "stream",
     "text": [
      "Epoch 49: 100%|█| 50/50 [00:01<00:00, 33.81it/s, train_loss=0.0045, val_loss=0.0\n",
      "Epoch 2:   0%| | 0/50 [00:00<?, ?it/s, train_loss=1.85, val_loss=2.62, train_cin"
     ]
    },
    {
     "name": "stdout",
     "output_type": "stream",
     "text": [
      "Curent best Test AUC: 0.6711333750782718\n",
      "Its' val AUC : 0.6287889085224956\n",
      "Its external  AUC: 0.574444619505278\n",
      "Epoch    50: reducing learning rate of group 0 to 2.5000e-04.\n",
      "Curent best Test AUC: 0.36869129618033814\n",
      "Its' val AUC : 0.4380861764306103\n",
      "Its external  AUC: 0.4761304553332283\n",
      "Curent best Test AUC: 0.6172824045084534\n",
      "Its' val AUC : 0.6334103574826696\n",
      "Its external  AUC: 0.461635418307862\n"
     ]
    },
    {
     "name": "stderr",
     "output_type": "stream",
     "text": [
      "Epoch 20:  40%|▍| 20/50 [00:00<00:00, 33.08it/s, train_loss=0.00957, val_loss=0."
     ]
    },
    {
     "name": "stdout",
     "output_type": "stream",
     "text": [
      "Curent best Test AUC: 0.6228553537883532\n",
      "Its' val AUC : 0.5023786869647955\n",
      "Its external  AUC: 0.4359539940129195\n",
      "Curent best Test AUC: 0.6439574201628052\n",
      "Its' val AUC : 0.5610982737528885\n",
      "Its external  AUC: 0.44808570978414997\n"
     ]
    },
    {
     "name": "stderr",
     "output_type": "stream",
     "text": [
      "Epoch 49: 100%|█| 50/50 [00:01<00:00, 33.94it/s, train_loss=0.000527, val_loss=7\n",
      "Epoch 7:   8%| | 4/50 [00:00<00:01, 31.71it/s, train_loss=2.02, val_loss=0.0893,"
     ]
    },
    {
     "name": "stdout",
     "output_type": "stream",
     "text": [
      "Curent best Test AUC: 0.4113963681903569\n",
      "Its' val AUC : 0.3559874949028137\n",
      "Its external  AUC: 0.5293839609264219\n",
      "Curent best Test AUC: 0.5030682529743269\n",
      "Its' val AUC : 0.4015223596574691\n",
      "Its external  AUC: 0.4337482275090594\n",
      "Curent best Test AUC: 0.6187852222917971\n",
      "Its' val AUC : 0.6317792578496669\n",
      "Its external  AUC: 0.4822750905939814\n"
     ]
    },
    {
     "name": "stderr",
     "output_type": "stream",
     "text": [
      "Epoch 22:  40%|▍| 20/50 [00:00<00:00, 34.55it/s, train_loss=0.212, val_loss=0.06"
     ]
    },
    {
     "name": "stdout",
     "output_type": "stream",
     "text": [
      "Curent best Test AUC: 0.6256731371321227\n",
      "Its' val AUC : 0.6525757781704499\n",
      "Its external  AUC: 0.47660311958405543\n",
      "Curent best Test AUC: 0.6265497808390733\n",
      "Its' val AUC : 0.6546146527117032\n",
      "Its external  AUC: 0.47707578383488264\n",
      "Epoch    21: reducing learning rate of group 0 to 5.0000e-04.\n"
     ]
    },
    {
     "name": "stderr",
     "output_type": "stream",
     "text": [
      "Epoch 34:  64%|▋| 32/50 [00:01<00:00, 34.96it/s, train_loss=0.033, val_loss=0.00"
     ]
    },
    {
     "name": "stdout",
     "output_type": "stream",
     "text": [
      "Curent best Test AUC: 0.6439574201628052\n",
      "Its' val AUC : 0.641022155770015\n",
      "Its external  AUC: 0.5106349456436111\n"
     ]
    },
    {
     "name": "stderr",
     "output_type": "stream",
     "text": [
      "Epoch 49: 100%|█| 50/50 [00:01<00:00, 35.04it/s, train_loss=0.02, val_loss=0.003\n",
      "Epoch 7:   8%| | 4/50 [00:00<00:01, 32.18it/s, train_loss=0.0821, val_loss=0.001"
     ]
    },
    {
     "name": "stdout",
     "output_type": "stream",
     "text": [
      "Curent best Test AUC: 0.5058234189104571\n",
      "Its' val AUC : 0.5968465407095284\n",
      "Its external  AUC: 0.5456121002048212\n",
      "Curent best Test AUC: 0.6001252348152787\n",
      "Its' val AUC : 0.5706130216120702\n",
      "Its external  AUC: 0.4474554907830471\n",
      "Curent best Test AUC: 0.6026299311208516\n",
      "Its' val AUC : 0.5836618186760908\n",
      "Its external  AUC: 0.4558058925476603\n"
     ]
    },
    {
     "name": "stderr",
     "output_type": "stream",
     "text": [
      "Epoch 25:  48%|▍| 24/50 [00:00<00:00, 36.17it/s, train_loss=0.00264, val_loss=0."
     ]
    },
    {
     "name": "stdout",
     "output_type": "stream",
     "text": [
      "Epoch    18: reducing learning rate of group 0 to 5.0000e-04.\n"
     ]
    },
    {
     "name": "stderr",
     "output_type": "stream",
     "text": [
      "Epoch 49: 100%|█| 50/50 [00:01<00:00, 36.34it/s, train_loss=0.000396, val_loss=6\n",
      "Epoch 8:  16%|▏| 8/50 [00:00<00:01, 35.96it/s, train_loss=0.111, val_loss=0.0263"
     ]
    },
    {
     "name": "stdout",
     "output_type": "stream",
     "text": [
      "Curent best Test AUC: 0.42993112085159674\n",
      "Its' val AUC : 0.4705722441212451\n",
      "Its external  AUC: 0.48117220734205135\n",
      "Curent best Test AUC: 0.5749530369442705\n",
      "Its' val AUC : 0.6377599565040097\n",
      "Its external  AUC: 0.4914132661099732\n",
      "Curent best Test AUC: 0.6045084533500313\n",
      "Its' val AUC : 0.653527252956368\n",
      "Its external  AUC: 0.5048054198834094\n"
     ]
    },
    {
     "name": "stderr",
     "output_type": "stream",
     "text": [
      "Epoch 18:  32%|▎| 16/50 [00:00<00:00, 36.23it/s, train_loss=0.119, val_loss=0.02"
     ]
    },
    {
     "name": "stdout",
     "output_type": "stream",
     "text": [
      "Curent best Test AUC: 0.6056355666875392\n",
      "Its' val AUC : 0.6192741606633139\n",
      "Its external  AUC: 0.4472979360327714\n",
      "Curent best Test AUC: 0.6086412022542267\n",
      "Its' val AUC : 0.6194100856327307\n",
      "Its external  AUC: 0.44871592878525285\n",
      "Curent best Test AUC: 0.6092673763306199\n",
      "Its' val AUC : 0.6191382356938969\n",
      "Its external  AUC: 0.4474554907830471\n"
     ]
    },
    {
     "name": "stderr",
     "output_type": "stream",
     "text": [
      "Epoch 27:  48%|▍| 24/50 [00:00<00:00, 36.82it/s, train_loss=0.0671, val_loss=0.0"
     ]
    },
    {
     "name": "stdout",
     "output_type": "stream",
     "text": [
      "Epoch    20: reducing learning rate of group 0 to 5.0000e-04.\n"
     ]
    },
    {
     "name": "stderr",
     "output_type": "stream",
     "text": [
      "Epoch 49: 100%|█| 50/50 [00:01<00:00, 36.59it/s, train_loss=0.0192, val_loss=0.0\n",
      "Epoch 8:  16%|▏| 8/50 [00:00<00:01, 35.93it/s, train_loss=0.00398, val_loss=0.00"
     ]
    },
    {
     "name": "stdout",
     "output_type": "stream",
     "text": [
      "Curent best Test AUC: 0.4052598622417032\n",
      "Its' val AUC : 0.4038330841375561\n",
      "Its external  AUC: 0.5826374665196156\n",
      "Curent best Test AUC: 0.5152160300563556\n",
      "Its' val AUC : 0.4490960989533777\n",
      "Its external  AUC: 0.42807625649913345\n",
      "Curent best Test AUC: 0.5159674389480275\n",
      "Its' val AUC : 0.5435639526981106\n",
      "Its external  AUC: 0.6056404600598708\n",
      "Curent best Test AUC: 0.5259862241703194\n",
      "Its' val AUC : 0.5567486747315482\n",
      "Its external  AUC: 0.6097368835670396\n",
      "Curent best Test AUC: 0.5430181590482154\n",
      "Its' val AUC : 0.5597390240587196\n",
      "Its external  AUC: 0.6124153143217268\n",
      "Curent best Test AUC: 0.5511584220413275\n",
      "Its' val AUC : 0.5669430474378143\n",
      "Its external  AUC: 0.6122577595714511\n"
     ]
    },
    {
     "name": "stderr",
     "output_type": "stream",
     "text": [
      "Epoch 15:  24%|▏| 12/50 [00:00<00:01, 35.55it/s, train_loss=0.00394, val_loss=0."
     ]
    },
    {
     "name": "stdout",
     "output_type": "stream",
     "text": [
      "Curent best Test AUC: 0.5552911709455228\n",
      "Its' val AUC : 0.5725159711839065\n",
      "Its external  AUC: 0.6117850953206239\n",
      "Curent best Test AUC: 0.5585472761427677\n",
      "Its' val AUC : 0.5803996194100857\n",
      "Its external  AUC: 0.6135181975736569\n",
      "Curent best Test AUC: 0.5603005635566688\n",
      "Its' val AUC : 0.5884191926056817\n",
      "Its external  AUC: 0.6130455333228297\n",
      "Curent best Test AUC: 0.5623043206011271\n",
      "Its' val AUC : 0.5956232159847764\n",
      "Its external  AUC: 0.6154088545769655\n",
      "Curent best Test AUC: 0.5684408265497808\n",
      "Its' val AUC : 0.6022835394862036\n",
      "Its external  AUC: 0.6095793288167638\n",
      "Curent best Test AUC: 0.5795867251095804\n",
      "Its' val AUC : 0.6119342123148023\n",
      "Its external  AUC: 0.610051993067591\n",
      "Curent best Test AUC: 0.5896055103318723\n",
      "Its' val AUC : 0.6192741606633139\n",
      "Its external  AUC: 0.5974476130455333\n"
     ]
    },
    {
     "name": "stderr",
     "output_type": "stream",
     "text": [
      "Epoch 22:  40%|▍| 20/50 [00:00<00:00, 34.20it/s, train_loss=0.0034, val_loss=0.0"
     ]
    },
    {
     "name": "stdout",
     "output_type": "stream",
     "text": [
      "Curent best Test AUC: 0.5983719474013776\n",
      "Its' val AUC : 0.6244393095011553\n",
      "Its external  AUC: 0.5851583425240271\n",
      "Curent best Test AUC: 0.6015028177833438\n",
      "Its' val AUC : 0.6245752344705723\n",
      "Its external  AUC: 0.5990231605482905\n",
      "Curent best Test AUC: 0.6082654978083908\n",
      "Its' val AUC : 0.623759684654071\n",
      "Its external  AUC: 0.6020167008035292\n",
      "Curent best Test AUC: 0.6132748904195366\n",
      "Its' val AUC : 0.6234878347152372\n",
      "Its external  AUC: 0.5919331967858831\n",
      "Curent best Test AUC: 0.6190356919223544\n",
      "Its' val AUC : 0.6185945358162295\n",
      "Its external  AUC: 0.5850007877737514\n",
      "Curent best Test AUC: 0.6251721978710082\n",
      "Its' val AUC : 0.6101671877123828\n",
      "Its external  AUC: 0.5769654955096896\n",
      "Curent best Test AUC: 0.6296806512210394\n",
      "Its' val AUC : 0.6039146391192062\n",
      "Its external  AUC: 0.5712935244997637\n"
     ]
    },
    {
     "name": "stderr",
     "output_type": "stream",
     "text": [
      "Epoch 30:  56%|▌| 28/50 [00:00<00:00, 34.61it/s, train_loss=0.00189, val_loss=0."
     ]
    },
    {
     "name": "stdout",
     "output_type": "stream",
     "text": [
      "Curent best Test AUC: 0.6350657482780213\n",
      "Its' val AUC : 0.5950795161071089\n",
      "Its external  AUC: 0.5653064439892863\n",
      "Curent best Test AUC: 0.6353162179085786\n",
      "Its' val AUC : 0.5893706673915998\n",
      "Its external  AUC: 0.558689144477706\n",
      "Curent best Test AUC: 0.6366938008766437\n",
      "Its' val AUC : 0.583389968737257\n",
      "Its external  AUC: 0.5517567354655742\n"
     ]
    },
    {
     "name": "stderr",
     "output_type": "stream",
     "text": [
      "Epoch 49: 100%|█| 50/50 [00:01<00:00, 35.73it/s, train_loss=0.000751, val_loss=0\n",
      "Epoch 8:  16%|▏| 8/50 [00:00<00:01, 36.57it/s, train_loss=0.0483, val_loss=0.039"
     ]
    },
    {
     "name": "stdout",
     "output_type": "stream",
     "text": [
      "Curent best Test AUC: 0.6070131496556043\n",
      "Its' val AUC : 0.6209052602963164\n",
      "Its external  AUC: 0.4458799432802899\n"
     ]
    },
    {
     "name": "stderr",
     "output_type": "stream",
     "text": [
      "Epoch 34:  64%|▋| 32/50 [00:00<00:00, 37.29it/s, train_loss=0.0054, val_loss=0.0"
     ]
    },
    {
     "name": "stdout",
     "output_type": "stream",
     "text": [
      "Epoch    27: reducing learning rate of group 0 to 5.0000e-04.\n"
     ]
    },
    {
     "name": "stderr",
     "output_type": "stream",
     "text": [
      "Epoch 49: 100%|█| 50/50 [00:01<00:00, 37.21it/s, train_loss=0.00357, val_loss=0.\n",
      "Epoch 8:  16%|▏| 8/50 [00:00<00:01, 37.58it/s, train_loss=2.98, val_loss=0.21, t"
     ]
    },
    {
     "name": "stdout",
     "output_type": "stream",
     "text": [
      "Curent best Test AUC: 0.5229805886036318\n",
      "Its' val AUC : 0.6255267092564905\n",
      "Its external  AUC: 0.5268630849220104\n",
      "Curent best Test AUC: 0.5757044458359424\n",
      "Its' val AUC : 0.6249830093788229\n",
      "Its external  AUC: 0.47439735308019537\n"
     ]
    },
    {
     "name": "stderr",
     "output_type": "stream",
     "text": [
      "Epoch 16:  32%|▎| 16/50 [00:00<00:00, 36.48it/s, train_loss=0.988, val_loss=0.16"
     ]
    },
    {
     "name": "stdout",
     "output_type": "stream",
     "text": [
      "Curent best Test AUC: 0.5882279273638071\n",
      "Its' val AUC : 0.6449639798831045\n",
      "Its external  AUC: 0.5430912242004097\n",
      "Curent best Test AUC: 0.6080150281778335\n",
      "Its' val AUC : 0.6252548593176567\n",
      "Its external  AUC: 0.4879470616039074\n",
      "Curent best Test AUC: 0.6329367564182843\n",
      "Its' val AUC : 0.6191382356938969\n",
      "Its external  AUC: 0.4879470616039074\n",
      "Curent best Test AUC: 0.6407013149655604\n",
      "Its' val AUC : 0.5941280413211907\n",
      "Its external  AUC: 0.4852686308492201\n"
     ]
    },
    {
     "name": "stderr",
     "output_type": "stream",
     "text": [
      "Epoch 27:  48%|▍| 24/50 [00:00<00:00, 36.97it/s, train_loss=0.279, val_loss=0.02"
     ]
    },
    {
     "name": "stdout",
     "output_type": "stream",
     "text": [
      "Curent best Test AUC: 0.650093926111459\n",
      "Its' val AUC : 0.603099089302705\n",
      "Its external  AUC: 0.48605640460059873\n"
     ]
    },
    {
     "name": "stderr",
     "output_type": "stream",
     "text": [
      "Epoch 35:  64%|▋| 32/50 [00:00<00:00, 37.41it/s, train_loss=0.0561, val_loss=0.0"
     ]
    },
    {
     "name": "stdout",
     "output_type": "stream",
     "text": [
      "Epoch    28: reducing learning rate of group 0 to 5.0000e-04.\n"
     ]
    },
    {
     "name": "stderr",
     "output_type": "stream",
     "text": [
      "Epoch 49: 100%|█| 50/50 [00:01<00:00, 37.11it/s, train_loss=0.042, val_loss=0.00\n",
      "Epoch 8:  16%|▏| 8/50 [00:00<00:01, 36.48it/s, train_loss=0.0751, val_loss=0.009"
     ]
    },
    {
     "name": "stdout",
     "output_type": "stream",
     "text": [
      "Curent best Test AUC: 0.5764558547276143\n",
      "Its' val AUC : 0.5010194372706266\n",
      "Its external  AUC: 0.3934142114384749\n",
      "Curent best Test AUC: 0.5964934251721978\n",
      "Its' val AUC : 0.600652439853201\n",
      "Its external  AUC: 0.5909878682842288\n",
      "Curent best Test AUC: 0.6310582341891046\n",
      "Its' val AUC : 0.6310996330025825\n",
      "Its external  AUC: 0.5898849850322987\n",
      "Curent best Test AUC: 0.638697557921102\n",
      "Its' val AUC : 0.6459154546690227\n",
      "Its external  AUC: 0.5640460059870805\n"
     ]
    },
    {
     "name": "stderr",
     "output_type": "stream",
     "text": [
      "Epoch 28:  56%|▌| 28/50 [00:00<00:00, 34.76it/s, train_loss=0.014, val_loss=0.00"
     ]
    },
    {
     "name": "stdout",
     "output_type": "stream",
     "text": [
      "Epoch    22: reducing learning rate of group 0 to 5.0000e-04.\n"
     ]
    },
    {
     "name": "stderr",
     "output_type": "stream",
     "text": [
      "Epoch 40:  80%|▊| 40/50 [00:01<00:00, 35.65it/s, train_loss=0.00628, val_loss=0."
     ]
    },
    {
     "name": "stdout",
     "output_type": "stream",
     "text": [
      "Epoch    33: reducing learning rate of group 0 to 2.5000e-04.\n"
     ]
    },
    {
     "name": "stderr",
     "output_type": "stream",
     "text": [
      "Epoch 49: 100%|█| 50/50 [00:01<00:00, 35.40it/s, train_loss=0.00496, val_loss=0.\n",
      "Epoch 0:   0%|                                           | 0/50 [00:00<?, ?it/s]"
     ]
    },
    {
     "name": "stdout",
     "output_type": "stream",
     "text": [
      "Epoch    44: reducing learning rate of group 0 to 1.2500e-04.\n"
     ]
    },
    {
     "name": "stderr",
     "output_type": "stream",
     "text": [
      "Epoch 8:  16%|▏| 8/50 [00:00<00:01, 35.21it/s, train_loss=1.11, val_loss=0.0601,"
     ]
    },
    {
     "name": "stdout",
     "output_type": "stream",
     "text": [
      "Curent best Test AUC: 0.5601753287413901\n",
      "Its' val AUC : 0.6679352997145576\n",
      "Its external  AUC: 0.49220103986135183\n",
      "Curent best Test AUC: 0.6120225422667501\n",
      "Its' val AUC : 0.6890036699741743\n",
      "Its external  AUC: 0.5333228296833149\n"
     ]
    },
    {
     "name": "stderr",
     "output_type": "stream",
     "text": [
      "Epoch 23:  40%|▍| 20/50 [00:00<00:00, 35.37it/s, train_loss=0.162, val_loss=0.02"
     ]
    },
    {
     "name": "stdout",
     "output_type": "stream",
     "text": [
      "Curent best Test AUC: 0.6495929868503444\n",
      "Its' val AUC : 0.6247111594399891\n",
      "Its external  AUC: 0.5656215534898377\n",
      "Curent best Test AUC: 0.6609893550407013\n",
      "Its' val AUC : 0.5982057904036971\n",
      "Its external  AUC: 0.5378919174413108\n"
     ]
    },
    {
     "name": "stderr",
     "output_type": "stream",
     "text": [
      "Epoch 49: 100%|█| 50/50 [00:01<00:00, 35.91it/s, train_loss=0.024, val_loss=0.00\n",
      "Epoch 7:   8%| | 4/50 [00:00<00:01, 34.57it/s, train_loss=0.0868, val_loss=0.018"
     ]
    },
    {
     "name": "stdout",
     "output_type": "stream",
     "text": [
      "Curent best Test AUC: 0.5564182842830306\n",
      "Its' val AUC : 0.6446921299442707\n",
      "Its external  AUC: 0.4841657475972901\n",
      "Curent best Test AUC: 0.5859737006887915\n",
      "Its' val AUC : 0.5673508223460649\n",
      "Its external  AUC: 0.55081140696392\n",
      "Curent best Test AUC: 0.6020037570444584\n",
      "Its' val AUC : 0.5239907571020797\n",
      "Its external  AUC: 0.5193004569087758\n",
      "Curent best Test AUC: 0.6474639949906074\n",
      "Its' val AUC : 0.5941280413211907\n",
      "Its external  AUC: 0.5523869544666772\n",
      "Curent best Test AUC: 0.650093926111459\n",
      "Its' val AUC : 0.6518961533233655\n",
      "Its external  AUC: 0.599338270048842\n",
      "Curent best Test AUC: 0.6528490920475892\n",
      "Its' val AUC : 0.6733722984912328\n",
      "Its external  AUC: 0.6138333070742082\n"
     ]
    },
    {
     "name": "stderr",
     "output_type": "stream",
     "text": [
      "Epoch 15:  24%|▏| 12/50 [00:00<00:01, 35.60it/s, train_loss=0.0298, val_loss=0.0"
     ]
    },
    {
     "name": "stdout",
     "output_type": "stream",
     "text": [
      "Curent best Test AUC: 0.6815278647463995\n",
      "Its' val AUC : 0.6487698790267772\n",
      "Its external  AUC: 0.5873641090278872\n"
     ]
    },
    {
     "name": "stderr",
     "output_type": "stream",
     "text": [
      "Epoch 33:  64%|▋| 32/50 [00:00<00:00, 36.00it/s, train_loss=0.00847, val_loss=0."
     ]
    },
    {
     "name": "stdout",
     "output_type": "stream",
     "text": [
      "Curent best Test AUC: 0.6943018159048215\n",
      "Its' val AUC : 0.711159439989126\n",
      "Its external  AUC: 0.5063809673861667\n"
     ]
    },
    {
     "name": "stderr",
     "output_type": "stream",
     "text": [
      "Epoch 49: 100%|█| 50/50 [00:01<00:00, 36.19it/s, train_loss=0.00661, val_loss=0.\n",
      "Epoch 8:  16%|▏| 8/50 [00:00<00:01, 35.97it/s, train_loss=0.581, val_loss=0.177,"
     ]
    },
    {
     "name": "stdout",
     "output_type": "stream",
     "text": [
      "Curent best Test AUC: 0.48904195366311837\n",
      "Its' val AUC : 0.42571700421367403\n",
      "Its external  AUC: 0.3675752323932567\n",
      "Curent best Test AUC: 0.5535378835316218\n",
      "Its' val AUC : 0.5634089982329754\n",
      "Its external  AUC: 0.4910981566094218\n",
      "Curent best Test AUC: 0.5725735754539762\n",
      "Its' val AUC : 0.5446513524534456\n",
      "Its external  AUC: 0.4783362218370884\n"
     ]
    },
    {
     "name": "stderr",
     "output_type": "stream",
     "text": [
      "Epoch 22:  40%|▍| 20/50 [00:00<00:00, 36.40it/s, train_loss=0.139, val_loss=0.05"
     ]
    },
    {
     "name": "stdout",
     "output_type": "stream",
     "text": [
      "Curent best Test AUC: 0.615654351909831\n",
      "Its' val AUC : 0.6234878347152372\n",
      "Its external  AUC: 0.5013392153773436\n"
     ]
    },
    {
     "name": "stderr",
     "output_type": "stream",
     "text": [
      "Epoch 49: 100%|█| 50/50 [00:01<00:00, 36.39it/s, train_loss=0.0876, val_loss=0.0\n",
      "Epoch 3:   0%| | 0/50 [00:00<?, ?it/s, train_loss=9.33, val_loss=0.271, train_ci"
     ]
    },
    {
     "name": "stdout",
     "output_type": "stream",
     "text": [
      "Epoch    47: reducing learning rate of group 0 to 5.0000e-04.\n",
      "Curent best Test AUC: 0.5390106449592987\n",
      "Its' val AUC : 0.6063612885687101\n",
      "Its external  AUC: 0.6363636363636364\n",
      "Curent best Test AUC: 0.6310582341891046\n",
      "Its' val AUC : 0.647818404240859\n",
      "Its external  AUC: 0.46525917756420354\n"
     ]
    },
    {
     "name": "stderr",
     "output_type": "stream",
     "text": [
      "Epoch 43:  80%|▊| 40/50 [00:01<00:00, 36.53it/s, train_loss=0.0264, val_loss=0.0"
     ]
    },
    {
     "name": "stdout",
     "output_type": "stream",
     "text": [
      "Epoch    36: reducing learning rate of group 0 to 5.0000e-04.\n"
     ]
    },
    {
     "name": "stderr",
     "output_type": "stream",
     "text": [
      "Epoch 49: 100%|█| 50/50 [00:01<00:00, 36.50it/s, train_loss=0.0213, val_loss=0.0\n",
      "Epoch 8:  16%|▏| 8/50 [00:00<00:01, 36.19it/s, train_loss=0.024, val_loss=0.0043"
     ]
    },
    {
     "name": "stdout",
     "output_type": "stream",
     "text": [
      "Curent best Test AUC: 0.5742016280525987\n",
      "Its' val AUC : 0.623759684654071\n",
      "Its external  AUC: 0.454860564046006\n",
      "Curent best Test AUC: 0.6010018785222292\n",
      "Its' val AUC : 0.5798559195324181\n",
      "Its external  AUC: 0.41956829998424455\n"
     ]
    },
    {
     "name": "stderr",
     "output_type": "stream",
     "text": [
      "Epoch 28:  56%|▌| 28/50 [00:00<00:00, 36.00it/s, train_loss=0.00302, val_loss=0."
     ]
    },
    {
     "name": "stdout",
     "output_type": "stream",
     "text": [
      "Curent best Test AUC: 0.6075140889167189\n",
      "Its' val AUC : 0.5723800462144896\n",
      "Its external  AUC: 0.4665196155664093\n"
     ]
    },
    {
     "name": "stderr",
     "output_type": "stream",
     "text": [
      "Epoch 49: 100%|█| 50/50 [00:01<00:00, 35.88it/s, train_loss=0.00069, val_loss=6.\n",
      "Epoch 8:  16%|▏| 8/50 [00:00<00:01, 35.45it/s, train_loss=1.74, val_loss=0.568, "
     ]
    },
    {
     "name": "stdout",
     "output_type": "stream",
     "text": [
      "Curent best Test AUC: 0.5894802755165937\n",
      "Its' val AUC : 0.5963028408318608\n",
      "Its external  AUC: 0.44777060028359855\n"
     ]
    },
    {
     "name": "stderr",
     "output_type": "stream",
     "text": [
      "Epoch 23:  40%|▍| 20/50 [00:00<00:00, 36.17it/s, train_loss=0.172, val_loss=0.06"
     ]
    },
    {
     "name": "stdout",
     "output_type": "stream",
     "text": [
      "Curent best Test AUC: 0.6033813400125235\n",
      "Its' val AUC : 0.5987494902813647\n",
      "Its external  AUC: 0.515204033401607\n"
     ]
    },
    {
     "name": "stderr",
     "output_type": "stream",
     "text": [
      "Epoch 32:  64%|▋| 32/50 [00:00<00:00, 36.08it/s, train_loss=0.0781, val_loss=0.0"
     ]
    },
    {
     "name": "stdout",
     "output_type": "stream",
     "text": [
      "Curent best Test AUC: 0.6051346274264245\n",
      "Its' val AUC : 0.5998368900366997\n",
      "Its external  AUC: 0.5079565148889239\n"
     ]
    },
    {
     "name": "stderr",
     "output_type": "stream",
     "text": [
      "Epoch 49: 100%|█| 50/50 [00:01<00:00, 36.29it/s, train_loss=0.0375, val_loss=0.0\n",
      "Epoch 8:  16%|▏| 8/50 [00:00<00:01, 35.88it/s, train_loss=0.0291, val_loss=0.009"
     ]
    },
    {
     "name": "stdout",
     "output_type": "stream",
     "text": [
      "Curent best Test AUC: 0.42592360676268004\n",
      "Its' val AUC : 0.4696207693353269\n",
      "Its external  AUC: 0.5070111863872696\n",
      "Curent best Test AUC: 0.5046963055729493\n",
      "Its' val AUC : 0.46336822074215034\n",
      "Its external  AUC: 0.5838979045218213\n",
      "Curent best Test AUC: 0.5287413901064496\n",
      "Its' val AUC : 0.5151556340899823\n",
      "Its external  AUC: 0.5998109342996691\n"
     ]
    },
    {
     "name": "stderr",
     "output_type": "stream",
     "text": [
      "Epoch 20:  40%|▍| 20/50 [00:00<00:00, 36.34it/s, train_loss=0.0494, val_loss=0.0"
     ]
    },
    {
     "name": "stdout",
     "output_type": "stream",
     "text": [
      "Epoch    13: reducing learning rate of group 0 to 5.0000e-04.\n"
     ]
    },
    {
     "name": "stderr",
     "output_type": "stream",
     "text": [
      "Epoch 31:  56%|▌| 28/50 [00:00<00:00, 36.33it/s, train_loss=0.0262, val_loss=0.0"
     ]
    },
    {
     "name": "stdout",
     "output_type": "stream",
     "text": [
      "Epoch    24: reducing learning rate of group 0 to 2.5000e-04.\n"
     ]
    },
    {
     "name": "stderr",
     "output_type": "stream",
     "text": [
      "Epoch 42:  80%|▊| 40/50 [00:01<00:00, 36.41it/s, train_loss=0.0157, val_loss=0.0"
     ]
    },
    {
     "name": "stdout",
     "output_type": "stream",
     "text": [
      "Epoch    35: reducing learning rate of group 0 to 1.2500e-04.\n"
     ]
    },
    {
     "name": "stderr",
     "output_type": "stream",
     "text": [
      "Epoch 49: 100%|█| 50/50 [00:01<00:00, 36.20it/s, train_loss=0.0116, val_loss=0.0\n",
      "Epoch 2:   0%| | 0/50 [00:00<?, ?it/s, train_loss=41.7, val_loss=9.49, train_cin"
     ]
    },
    {
     "name": "stdout",
     "output_type": "stream",
     "text": [
      "Epoch    46: reducing learning rate of group 0 to 1.0000e-04.\n",
      "Curent best Test AUC: 0.3963681903569192\n",
      "Its' val AUC : 0.36971591681391874\n",
      "Its external  AUC: 0.5336379391838664\n"
     ]
    },
    {
     "name": "stderr",
     "output_type": "stream",
     "text": [
      "Epoch 9:  16%|▏| 8/50 [00:00<00:01, 35.70it/s, train_loss=2.77, val_loss=0.993, "
     ]
    },
    {
     "name": "stdout",
     "output_type": "stream",
     "text": [
      "Curent best Test AUC: 0.5347526612398247\n",
      "Its' val AUC : 0.6509446785374473\n",
      "Its external  AUC: 0.4799117693398456\n",
      "Curent best Test AUC: 0.5699436443331246\n",
      "Its' val AUC : 0.5718363463368221\n",
      "Its external  AUC: 0.4203560737356231\n",
      "Curent best Test AUC: 0.5923606762680025\n",
      "Its' val AUC : 0.6320511077885007\n",
      "Its external  AUC: 0.4806995430912242\n",
      "Curent best Test AUC: 0.6197871008140263\n",
      "Its' val AUC : 0.5878754927280141\n"
     ]
    },
    {
     "name": "stderr",
     "output_type": "stream",
     "text": [
      "Epoch 17:  32%|▎| 16/50 [00:00<00:00, 35.69it/s, train_loss=1.62, val_loss=0.476"
     ]
    },
    {
     "name": "stdout",
     "output_type": "stream",
     "text": [
      "Its external  AUC: 0.4669922798172365\n"
     ]
    },
    {
     "name": "stderr",
     "output_type": "stream",
     "text": [
      "Epoch 49: 100%|█| 50/50 [00:01<00:00, 36.11it/s, train_loss=0.0935, val_loss=0.0\n",
      "Epoch 8:  16%|▏| 8/50 [00:00<00:01, 36.42it/s, train_loss=0.679, val_loss=0.568,"
     ]
    },
    {
     "name": "stdout",
     "output_type": "stream",
     "text": [
      "Curent best Test AUC: 0.6033813400125235\n",
      "Its' val AUC : 0.6476824792714422\n",
      "Its external  AUC: 0.4580116590515204\n"
     ]
    },
    {
     "name": "stderr",
     "output_type": "stream",
     "text": [
      "Epoch 18:  32%|▎| 16/50 [00:00<00:00, 36.74it/s, train_loss=1.33, val_loss=0.072"
     ]
    },
    {
     "name": "stdout",
     "output_type": "stream",
     "text": [
      "Curent best Test AUC: 0.610644959298685\n",
      "Its' val AUC : 0.5958950659236102\n",
      "Its external  AUC: 0.4224042854892075\n"
     ]
    },
    {
     "name": "stderr",
     "output_type": "stream",
     "text": [
      "Epoch 47:  88%|▉| 44/50 [00:01<00:00, 36.55it/s, train_loss=0.0503, val_loss=0.0"
     ]
    },
    {
     "name": "stdout",
     "output_type": "stream",
     "text": [
      "Epoch    40: reducing learning rate of group 0 to 5.0000e-04.\n"
     ]
    },
    {
     "name": "stderr",
     "output_type": "stream",
     "text": [
      "Epoch 49: 100%|█| 50/50 [00:01<00:00, 36.66it/s, train_loss=0.0451, val_loss=0.0\n",
      "Epoch 8:  16%|▏| 8/50 [00:00<00:01, 35.96it/s, train_loss=0.00303, val_loss=0.00"
     ]
    },
    {
     "name": "stdout",
     "output_type": "stream",
     "text": [
      "Curent best Test AUC: 0.40300563556668756\n",
      "Its' val AUC : 0.37950251461193424\n",
      "Its external  AUC: 0.5104773908933354\n",
      "Curent best Test AUC: 0.421665623043206\n",
      "Its' val AUC : 0.4005708848715509\n",
      "Its external  AUC: 0.41972585473452023\n",
      "Curent best Test AUC: 0.47726988102692547\n",
      "Its' val AUC : 0.4732907435095827\n",
      "Its external  AUC: 0.41736253348038443\n"
     ]
    },
    {
     "name": "stderr",
     "output_type": "stream",
     "text": [
      "Epoch 15:  24%|▏| 12/50 [00:00<00:01, 35.43it/s, train_loss=0.00175, val_loss=0."
     ]
    },
    {
     "name": "stdout",
     "output_type": "stream",
     "text": [
      "Curent best Test AUC: 0.5402629931120851\n",
      "Its' val AUC : 0.5616419736305559\n",
      "Its external  AUC: 0.46982826532219946\n",
      "Curent best Test AUC: 0.5481527864746399\n",
      "Its' val AUC : 0.6166915862443931\n",
      "Its external  AUC: 0.6180872853316528\n",
      "Curent best Test AUC: 0.5599248591108328\n",
      "Its' val AUC : 0.5759140954193285\n",
      "Its external  AUC: 0.5881518827792658\n",
      "Curent best Test AUC: 0.6353162179085786\n",
      "Its' val AUC : 0.647818404240859\n",
      "Its external  AUC: 0.5802741452654797\n",
      "Curent best Test AUC: 0.6364433312460864\n",
      "Its' val AUC : 0.6816637216256627\n",
      "Its external  AUC: 0.5900425397825745\n"
     ]
    },
    {
     "name": "stderr",
     "output_type": "stream",
     "text": [
      "Epoch 48:  96%|▉| 48/50 [00:01<00:00, 36.57it/s, train_loss=0.000244, val_loss=0"
     ]
    },
    {
     "name": "stdout",
     "output_type": "stream",
     "text": [
      "Curent best Test AUC: 0.6457107075767063\n",
      "Its' val AUC : 0.6986543428027728\n",
      "Its external  AUC: 0.5919331967858831\n"
     ]
    },
    {
     "name": "stderr",
     "output_type": "stream",
     "text": [
      "Epoch 49: 100%|█| 50/50 [00:01<00:00, 36.28it/s, train_loss=0.000201, val_loss=5\n",
      "Epoch 8:  16%|▏| 8/50 [00:00<00:01, 36.24it/s, train_loss=0.11, val_loss=0.061, "
     ]
    },
    {
     "name": "stdout",
     "output_type": "stream",
     "text": [
      "Curent best Test AUC: 0.5872260488415779\n",
      "Its' val AUC : 0.4860676906347696\n",
      "Its external  AUC: 0.4307546872538207\n"
     ]
    },
    {
     "name": "stderr",
     "output_type": "stream",
     "text": [
      "Epoch 26:  48%|▍| 24/50 [00:00<00:00, 36.58it/s, train_loss=0.0404, val_loss=0.0"
     ]
    },
    {
     "name": "stdout",
     "output_type": "stream",
     "text": [
      "Curent best Test AUC: 0.6102692548528491\n",
      "Its' val AUC : 0.6103031126817996\n",
      "Its external  AUC: 0.5211911139120845\n"
     ]
    },
    {
     "name": "stderr",
     "output_type": "stream",
     "text": [
      "Epoch 39:  72%|▋| 36/50 [00:01<00:00, 36.21it/s, train_loss=0.02, val_loss=0.002"
     ]
    },
    {
     "name": "stdout",
     "output_type": "stream",
     "text": [
      "Epoch    32: reducing learning rate of group 0 to 5.0000e-04.\n"
     ]
    },
    {
     "name": "stderr",
     "output_type": "stream",
     "text": [
      "Epoch 49: 100%|█| 50/50 [00:01<00:00, 36.30it/s, train_loss=0.0126, val_loss=0.0\n",
      "Epoch 8:  16%|▏| 8/50 [00:00<00:01, 36.50it/s, train_loss=1.28, val_loss=0.349, "
     ]
    },
    {
     "name": "stdout",
     "output_type": "stream",
     "text": [
      "Curent best Test AUC: 0.5728240450845336\n",
      "Its' val AUC : 0.6550224276199538\n",
      "Its external  AUC: 0.4866866236017016\n"
     ]
    },
    {
     "name": "stderr",
     "output_type": "stream",
     "text": [
      "Epoch 17:  32%|▎| 16/50 [00:00<00:00, 36.31it/s, train_loss=0.569, val_loss=0.02"
     ]
    },
    {
     "name": "stdout",
     "output_type": "stream",
     "text": [
      "Curent best Test AUC: 0.593237319974953\n",
      "Its' val AUC : 0.6638575506320511\n",
      "Its external  AUC: 0.5605798014810146\n",
      "Curent best Test AUC: 0.5979962429555417\n",
      "Its' val AUC : 0.6654886502650537\n",
      "Its external  AUC: 0.558689144477706\n"
     ]
    },
    {
     "name": "stderr",
     "output_type": "stream",
     "text": [
      "Epoch 33:  64%|▋| 32/50 [00:00<00:00, 36.18it/s, train_loss=0.14, val_loss=0.007"
     ]
    },
    {
     "name": "stdout",
     "output_type": "stream",
     "text": [
      "Curent best Test AUC: 0.619160926737633\n",
      "Its' val AUC : 0.6344977572380046\n",
      "Its external  AUC: 0.4997636678745864\n",
      "Curent best Test AUC: 0.6383218534752662\n",
      "Its' val AUC : 0.6127497621313035\n",
      "Its external  AUC: 0.4466677170316685\n"
     ]
    },
    {
     "name": "stderr",
     "output_type": "stream",
     "text": [
      "Epoch 49:  96%|▉| 48/50 [00:01<00:00, 36.22it/s, train_loss=0.0189, val_loss=0.0"
     ]
    },
    {
     "name": "stdout",
     "output_type": "stream",
     "text": [
      "Curent best Test AUC: 0.6419536631183469\n",
      "Its' val AUC : 0.6128856871007204\n",
      "Its external  AUC: 0.44257129352449975\n",
      "Curent best Test AUC: 0.6464621164683783\n",
      "Its' val AUC : 0.563816773141226\n",
      "Its external  AUC: 0.48479596659839297\n"
     ]
    },
    {
     "name": "stderr",
     "output_type": "stream",
     "text": [
      "Epoch 49: 100%|█| 50/50 [00:01<00:00, 36.26it/s, train_loss=0.0389, val_loss=0.0\n",
      "Epoch 8:  16%|▏| 8/50 [00:00<00:01, 35.79it/s, train_loss=0.41, val_loss=0.0767,"
     ]
    },
    {
     "name": "stdout",
     "output_type": "stream",
     "text": [
      "Curent best Test AUC: 0.521853475266124\n",
      "Its' val AUC : 0.4325132526845181\n",
      "Its external  AUC: 0.399558846699228\n",
      "Curent best Test AUC: 0.5526612398246713\n",
      "Its' val AUC : 0.6391192061981786\n",
      "Its external  AUC: 0.5706633054986607\n",
      "Curent best Test AUC: 0.5749530369442705\n",
      "Its' val AUC : 0.6078564632322958\n",
      "Its external  AUC: 0.4438317315267055\n"
     ]
    },
    {
     "name": "stderr",
     "output_type": "stream",
     "text": [
      "Epoch 18:  32%|▎| 16/50 [00:00<00:00, 36.24it/s, train_loss=0.0843, val_loss=0.0"
     ]
    },
    {
     "name": "stdout",
     "output_type": "stream",
     "text": [
      "Curent best Test AUC: 0.5790857858484659\n",
      "Its' val AUC : 0.589234742422183\n",
      "Its external  AUC: 0.5104773908933354\n",
      "Curent best Test AUC: 0.5867251095804634\n",
      "Its' val AUC : 0.5982057904036971\n",
      "Its external  AUC: 0.4403655270206397\n",
      "Curent best Test AUC: 0.5877269881026925\n",
      "Its' val AUC : 0.562729373385891\n",
      "Its external  AUC: 0.44178351977312114\n"
     ]
    },
    {
     "name": "stderr",
     "output_type": "stream",
     "text": [
      "Epoch 49:  96%|▉| 48/50 [00:01<00:00, 35.85it/s, train_loss=0.0165, val_loss=0.0"
     ]
    },
    {
     "name": "stdout",
     "output_type": "stream",
     "text": [
      "Curent best Test AUC: 0.6186599874765185\n",
      "Its' val AUC : 0.5677585972543157\n",
      "Its external  AUC: 0.5207184496612572\n",
      "Curent best Test AUC: 0.6246712586098936\n",
      "Its' val AUC : 0.6101671877123828\n",
      "Its external  AUC: 0.4827477548448086\n",
      "Curent best Test AUC: 0.634815278647464\n",
      "Its' val AUC : 0.6094875628652984\n",
      "Its external  AUC: 0.5010241058767921\n"
     ]
    },
    {
     "name": "stderr",
     "output_type": "stream",
     "text": [
      "Epoch 49: 100%|█| 50/50 [00:01<00:00, 35.85it/s, train_loss=0.0165, val_loss=0.0\n",
      "Epoch 7:   8%| | 4/50 [00:00<00:01, 33.39it/s, train_loss=1.09, val_loss=0.0885,"
     ]
    },
    {
     "name": "stdout",
     "output_type": "stream",
     "text": [
      "Curent best Test AUC: 0.42680025046963055\n",
      "Its' val AUC : 0.36699741742558106\n",
      "Its external  AUC: 0.5418307861982039\n",
      "Curent best Test AUC: 0.5319974953036944\n",
      "Its' val AUC : 0.5927687916270219\n",
      "Its external  AUC: 0.6188750590830313\n",
      "Curent best Test AUC: 0.5926111458985598\n",
      "Its' val AUC : 0.6468669294549408\n",
      "Its external  AUC: 0.49677012761934775\n",
      "Curent best Test AUC: 0.6073888541014402\n",
      "Its' val AUC : 0.6160119613973087\n",
      "Its external  AUC: 0.4458799432802899\n"
     ]
    },
    {
     "name": "stderr",
     "output_type": "stream",
     "text": [
      "Epoch 43:  80%|▊| 40/50 [00:01<00:00, 36.73it/s, train_loss=0.039, val_loss=0.00"
     ]
    },
    {
     "name": "stdout",
     "output_type": "stream",
     "text": [
      "Epoch    36: reducing learning rate of group 0 to 5.0000e-04.\n"
     ]
    },
    {
     "name": "stderr",
     "output_type": "stream",
     "text": [
      "Epoch 49: 100%|█| 50/50 [00:01<00:00, 36.43it/s, train_loss=0.0287, val_loss=0.0\n",
      "Epoch 8:  16%|▏| 8/50 [00:00<00:01, 36.22it/s, train_loss=0.671, val_loss=0.41, "
     ]
    },
    {
     "name": "stdout",
     "output_type": "stream",
     "text": [
      "Curent best Test AUC: 0.44633688165309954\n",
      "Its' val AUC : 0.4236781296724208\n",
      "Its external  AUC: 0.3587521663778163\n",
      "Curent best Test AUC: 0.554164057608015\n",
      "Its' val AUC : 0.6468669294549408\n",
      "Its external  AUC: 0.46746494406806366\n",
      "Curent best Test AUC: 0.5774577332498435\n",
      "Its' val AUC : 0.5280685061845861\n",
      "Its external  AUC: 0.3913659996848905\n"
     ]
    },
    {
     "name": "stderr",
     "output_type": "stream",
     "text": [
      "Epoch 47:  88%|▉| 44/50 [00:01<00:00, 36.79it/s, train_loss=0.0308, val_loss=0.0"
     ]
    },
    {
     "name": "stdout",
     "output_type": "stream",
     "text": [
      "Curent best Test AUC: 0.5929868503443957\n",
      "Its' val AUC : 0.6654886502650537\n",
      "Its external  AUC: 0.403497715456121\n"
     ]
    },
    {
     "name": "stderr",
     "output_type": "stream",
     "text": [
      "Epoch 49: 100%|█| 50/50 [00:01<00:00, 36.78it/s, train_loss=0.0279, val_loss=0.0\n",
      "Epoch 8:  16%|▏| 8/50 [00:00<00:01, 35.81it/s, train_loss=0.0163, val_loss=0.002"
     ]
    },
    {
     "name": "stdout",
     "output_type": "stream",
     "text": [
      "Curent best Test AUC: 0.47451471509079524\n",
      "Its' val AUC : 0.5059127361696344\n",
      "Its external  AUC: 0.5955569560422247\n",
      "Curent best Test AUC: 0.5810895428929242\n",
      "Its' val AUC : 0.636400706809841\n",
      "Its external  AUC: 0.610051993067591\n",
      "Curent best Test AUC: 0.5865998747651847\n",
      "Its' val AUC : 0.6309637080331657\n",
      "Its external  AUC: 0.5393099101937924\n",
      "Curent best Test AUC: 0.5887288666249217\n",
      "Its' val AUC : 0.6332744325132527\n",
      "Its external  AUC: 0.5251299826689775\n"
     ]
    },
    {
     "name": "stderr",
     "output_type": "stream",
     "text": [
      "Epoch 38:  72%|▋| 36/50 [00:01<00:00, 36.66it/s, train_loss=0.000298, val_loss=6"
     ]
    },
    {
     "name": "stdout",
     "output_type": "stream",
     "text": [
      "Curent best Test AUC: 0.5947401377582968\n",
      "Its' val AUC : 0.6199537855103983\n",
      "Its external  AUC: 0.5341106034346935\n"
     ]
    },
    {
     "name": "stderr",
     "output_type": "stream",
     "text": [
      "Epoch 49: 100%|█| 50/50 [00:01<00:00, 36.35it/s, train_loss=0.000316, val_loss=4\n",
      "Epoch 8:  16%|▏| 8/50 [00:00<00:01, 36.19it/s, train_loss=1.07, val_loss=0.177, "
     ]
    },
    {
     "name": "stdout",
     "output_type": "stream",
     "text": [
      "Curent best Test AUC: 0.5840951784596118\n",
      "Its' val AUC : 0.5945358162294413\n",
      "Its external  AUC: 0.4565936662990389\n",
      "Curent best Test AUC: 0.5873512836568566\n",
      "Its' val AUC : 0.5711567214897376\n",
      "Its external  AUC: 0.44335906727587837\n"
     ]
    },
    {
     "name": "stderr",
     "output_type": "stream",
     "text": [
      "Epoch 18:  32%|▎| 16/50 [00:00<00:00, 36.31it/s, train_loss=0.806, val_loss=0.19"
     ]
    },
    {
     "name": "stdout",
     "output_type": "stream",
     "text": [
      "Curent best Test AUC: 0.591484032561052\n",
      "Its' val AUC : 0.6044583389968737\n",
      "Its external  AUC: 0.4639987395619978\n",
      "Curent best Test AUC: 0.6078897933625548\n",
      "Its' val AUC : 0.6634497757238005\n",
      "Its external  AUC: 0.48857728060501027\n"
     ]
    },
    {
     "name": "stderr",
     "output_type": "stream",
     "text": [
      "Epoch 33:  64%|▋| 32/50 [00:00<00:00, 36.16it/s, train_loss=0.127, val_loss=0.01"
     ]
    },
    {
     "name": "stdout",
     "output_type": "stream",
     "text": [
      "Epoch    27: reducing learning rate of group 0 to 5.0000e-04.\n"
     ]
    },
    {
     "name": "stderr",
     "output_type": "stream",
     "text": [
      "Epoch 49: 100%|█| 50/50 [00:01<00:00, 36.62it/s, train_loss=0.0389, val_loss=0.0\n",
      "Epoch 8:  16%|▏| 8/50 [00:00<00:01, 35.77it/s, train_loss=4.98, val_loss=0.589, "
     ]
    },
    {
     "name": "stdout",
     "output_type": "stream",
     "text": [
      "Curent best Test AUC: 0.43418910457107074\n",
      "Its' val AUC : 0.35517194508631234\n",
      "Its external  AUC: 0.430597132503545\n",
      "Curent best Test AUC: 0.5674389480275517\n",
      "Its' val AUC : 0.6331385075438358\n",
      "Its external  AUC: 0.46809516306916654\n",
      "Curent best Test AUC: 0.5765810895428929\n",
      "Its' val AUC : 0.6474106293326084\n",
      "Its external  AUC: 0.5156766976524342\n"
     ]
    },
    {
     "name": "stderr",
     "output_type": "stream",
     "text": [
      "Epoch 25:  48%|▍| 24/50 [00:00<00:00, 36.41it/s, train_loss=0.482, val_loss=0.16"
     ]
    },
    {
     "name": "stdout",
     "output_type": "stream",
     "text": [
      "Curent best Test AUC: 0.5840951784596118\n",
      "Its' val AUC : 0.5736033709392415\n",
      "Its external  AUC: 0.5596344729793603\n",
      "Curent best Test AUC: 0.606011271133375\n",
      "Its' val AUC : 0.6378958814734267\n",
      "Its external  AUC: 0.5319048369308335\n"
     ]
    },
    {
     "name": "stderr",
     "output_type": "stream",
     "text": [
      "Epoch 49: 100%|█| 50/50 [00:01<00:00, 36.45it/s, train_loss=0.0812, val_loss=0.0\n",
      "Epoch 8:  16%|▏| 8/50 [00:00<00:01, 36.14it/s, train_loss=0.41, val_loss=0.0857,"
     ]
    },
    {
     "name": "stdout",
     "output_type": "stream",
     "text": [
      "Curent best Test AUC: 0.43443957420162804\n",
      "Its' val AUC : 0.47573739295908657\n",
      "Its external  AUC: 0.5645186702379077\n",
      "Curent best Test AUC: 0.6160300563556669\n",
      "Its' val AUC : 0.5954872910153596\n",
      "Its external  AUC: 0.4397353080195368\n"
     ]
    },
    {
     "name": "stderr",
     "output_type": "stream",
     "text": [
      "Epoch 27:  48%|▍| 24/50 [00:00<00:00, 36.40it/s, train_loss=0.251, val_loss=0.06"
     ]
    },
    {
     "name": "stdout",
     "output_type": "stream",
     "text": [
      "Curent best Test AUC: 0.6281778334376957\n",
      "Its' val AUC : 0.6633138507543835\n",
      "Its external  AUC: 0.5049629746336852\n"
     ]
    },
    {
     "name": "stderr",
     "output_type": "stream",
     "text": [
      "Epoch 44:  88%|▉| 44/50 [00:01<00:00, 35.78it/s, train_loss=0.0441, val_loss=0.0"
     ]
    },
    {
     "name": "stdout",
     "output_type": "stream",
     "text": [
      "Curent best Test AUC: 0.6313087038196619\n",
      "Its' val AUC : 0.5237189071632459\n",
      "Its external  AUC: 0.47534268158184967\n"
     ]
    },
    {
     "name": "stderr",
     "output_type": "stream",
     "text": [
      "Epoch 49: 100%|█| 50/50 [00:01<00:00, 35.92it/s, train_loss=0.151, val_loss=0.00\n",
      "Epoch 3:   0%| | 0/50 [00:00<?, ?it/s, train_loss=115, val_loss=3.34, train_cind"
     ]
    },
    {
     "name": "stdout",
     "output_type": "stream",
     "text": [
      "Epoch    47: reducing learning rate of group 0 to 5.0000e-04.\n",
      "Curent best Test AUC: 0.5988728866624922\n",
      "Its' val AUC : 0.6207693353268996\n",
      "Its external  AUC: 0.5337954939341422\n"
     ]
    },
    {
     "name": "stderr",
     "output_type": "stream",
     "text": [
      "Epoch 13:  24%|▏| 12/50 [00:00<00:01, 34.55it/s, train_loss=0.228, val_loss=0.01"
     ]
    },
    {
     "name": "stdout",
     "output_type": "stream",
     "text": [
      "Curent best Test AUC: 0.62592360676268\n",
      "Its' val AUC : 0.6690226994698926\n",
      "Its external  AUC: 0.5147313691507799\n"
     ]
    },
    {
     "name": "stderr",
     "output_type": "stream",
     "text": [
      "Epoch 22:  40%|▍| 20/50 [00:00<00:00, 34.91it/s, train_loss=0.0744, val_loss=0.0"
     ]
    },
    {
     "name": "stdout",
     "output_type": "stream",
     "text": [
      "Curent best Test AUC: 0.653976205385097\n",
      "Its' val AUC : 0.6094875628652984\n",
      "Its external  AUC: 0.4172049787301087\n",
      "Curent best Test AUC: 0.6659987476518472\n",
      "Its' val AUC : 0.6218567350822346\n",
      "Its external  AUC: 0.475185126831574\n"
     ]
    },
    {
     "name": "stderr",
     "output_type": "stream",
     "text": [
      "Epoch 34:  64%|▋| 32/50 [00:00<00:00, 35.53it/s, train_loss=0.0349, val_loss=0.0"
     ]
    },
    {
     "name": "stdout",
     "output_type": "stream",
     "text": [
      "Curent best Test AUC: 0.6820288040075141\n",
      "Its' val AUC : 0.6077205382628789\n",
      "Its external  AUC: 0.47975421458956985\n"
     ]
    },
    {
     "name": "stderr",
     "output_type": "stream",
     "text": [
      "Epoch 49: 100%|█| 50/50 [00:01<00:00, 35.46it/s, train_loss=0.0182, val_loss=0.0\n",
      "Epoch 7:   8%| | 4/50 [00:00<00:01, 33.36it/s, train_loss=0.0103, val_loss=0.002"
     ]
    },
    {
     "name": "stdout",
     "output_type": "stream",
     "text": [
      "Curent best Test AUC: 0.5572949279899813\n",
      "Its' val AUC : 0.4098137827918989\n",
      "Its external  AUC: 0.5763352765085867\n",
      "Curent best Test AUC: 0.571571696931747\n",
      "Its' val AUC : 0.6013320647002854\n",
      "Its external  AUC: 0.4989758941232078\n",
      "Curent best Test AUC: 0.6604884157795867\n",
      "Its' val AUC : 0.6203615604186489\n",
      "Its external  AUC: 0.48038443359067273\n",
      "Curent best Test AUC: 0.6686286787726988\n",
      "Its' val AUC : 0.6437406551583525\n",
      "Its external  AUC: 0.5147313691507799\n"
     ]
    },
    {
     "name": "stderr",
     "output_type": "stream",
     "text": [
      "Epoch 49: 100%|█| 50/50 [00:01<00:00, 35.46it/s, train_loss=0.000446, val_loss=3\n",
      "Epoch 4:   8%| | 4/50 [00:00<00:01, 35.25it/s, train_loss=0.293, val_loss=0.0598"
     ]
    },
    {
     "name": "stdout",
     "output_type": "stream",
     "text": [
      "Curent best Test AUC: 0.669630557294928\n",
      "Its' val AUC : 0.4965339132798695\n",
      "Its external  AUC: 0.5618402394832204\n",
      "Curent best Test AUC: 0.5691922354414527\n",
      "Its' val AUC : 0.6465950795161071\n",
      "Its external  AUC: 0.4758153458326769\n"
     ]
    },
    {
     "name": "stderr",
     "output_type": "stream",
     "text": [
      "Epoch 23:  40%|▍| 20/50 [00:00<00:00, 36.55it/s, train_loss=0.0142, val_loss=0.0"
     ]
    },
    {
     "name": "stdout",
     "output_type": "stream",
     "text": [
      "Curent best Test AUC: 0.5709455228553538\n",
      "Its' val AUC : 0.5782248198994155\n",
      "Its external  AUC: 0.4368993225145738\n"
     ]
    },
    {
     "name": "stderr",
     "output_type": "stream",
     "text": [
      "Epoch 49: 100%|█| 50/50 [00:01<00:00, 36.75it/s, train_loss=0.00172, val_loss=0.\n",
      "Epoch 8:  16%|▏| 8/50 [00:00<00:01, 35.88it/s, train_loss=0.0606, val_loss=0.004"
     ]
    },
    {
     "name": "stdout",
     "output_type": "stream",
     "text": [
      "Curent best Test AUC: 0.3928616155291171\n",
      "Its' val AUC : 0.4045127089846405\n",
      "Its external  AUC: 0.5667244367417678\n",
      "Curent best Test AUC: 0.6465873512836569\n",
      "Its' val AUC : 0.5061845861084682\n",
      "Its external  AUC: 0.5700330864975579\n"
     ]
    },
    {
     "name": "stderr",
     "output_type": "stream",
     "text": [
      "Epoch 49: 100%|█| 50/50 [00:01<00:00, 36.58it/s, train_loss=0.00143, val_loss=0.\n",
      "Epoch 7:   8%| | 4/50 [00:00<00:01, 32.96it/s, train_loss=0.234, val_loss=0.033,"
     ]
    },
    {
     "name": "stdout",
     "output_type": "stream",
     "text": [
      "Curent best Test AUC: 0.40676268002504695\n",
      "Its' val AUC : 0.33886094875628653\n",
      "Its external  AUC: 0.49298881361273045\n",
      "Curent best Test AUC: 0.40814026299311207\n",
      "Its' val AUC : 0.5014272121788773\n",
      "Its external  AUC: 0.42256184023948323\n",
      "Curent best Test AUC: 0.48490920475892296\n",
      "Its' val AUC : 0.5412532282180237\n",
      "Its external  AUC: 0.4386324247676067\n"
     ]
    },
    {
     "name": "stderr",
     "output_type": "stream",
     "text": [
      "Epoch 17:  32%|▎| 16/50 [00:00<00:01, 33.47it/s, train_loss=0.0423, val_loss=0.0"
     ]
    },
    {
     "name": "stdout",
     "output_type": "stream",
     "text": [
      "Curent best Test AUC: 0.5827175954915467\n",
      "Its' val AUC : 0.6128856871007204\n",
      "Its external  AUC: 0.4778635575862612\n",
      "Curent best Test AUC: 0.5977457733249844\n",
      "Its' val AUC : 0.6354492320239228\n",
      "Its external  AUC: 0.4822750905939814\n"
     ]
    },
    {
     "name": "stderr",
     "output_type": "stream",
     "text": [
      "Epoch 36:  72%|▋| 36/50 [00:01<00:00, 33.29it/s, train_loss=0.00836, val_loss=0."
     ]
    },
    {
     "name": "stdout",
     "output_type": "stream",
     "text": [
      "Curent best Test AUC: 0.6048841577958672\n",
      "Its' val AUC : 0.6122060622536359\n",
      "Its external  AUC: 0.5326926106822121\n",
      "Curent best Test AUC: 0.6063869755792111\n",
      "Its' val AUC : 0.6120701372842191\n",
      "Its external  AUC: 0.5369465889396565\n"
     ]
    },
    {
     "name": "stderr",
     "output_type": "stream",
     "text": [
      "Epoch 49: 100%|█| 50/50 [00:01<00:00, 33.59it/s, train_loss=0.00359, val_loss=0.\n",
      "Epoch 7:   8%| | 4/50 [00:00<00:01, 33.29it/s, train_loss=0.242, val_loss=0.0897"
     ]
    },
    {
     "name": "stdout",
     "output_type": "stream",
     "text": [
      "Curent best Test AUC: 0.5003130870381967\n",
      "Its' val AUC : 0.3982601603914639\n",
      "Its external  AUC: 0.4000315109500551\n",
      "Curent best Test AUC: 0.6279273638071384\n",
      "Its' val AUC : 0.5517194508631236\n",
      "Its external  AUC: 0.4444619505278084\n"
     ]
    },
    {
     "name": "stderr",
     "output_type": "stream",
     "text": [
      "Epoch 17:  32%|▎| 16/50 [00:00<00:00, 34.20it/s, train_loss=0.125, val_loss=0.01"
     ]
    },
    {
     "name": "stdout",
     "output_type": "stream",
     "text": [
      "Curent best Test AUC: 0.6611145898559799\n",
      "Its' val AUC : 0.6093516378958814\n",
      "Its external  AUC: 0.47817866708681267\n",
      "Curent best Test AUC: 0.6752661239824671\n",
      "Its' val AUC : 0.6567894522223733\n",
      "Its external  AUC: 0.49677012761934775\n"
     ]
    },
    {
     "name": "stderr",
     "output_type": "stream",
     "text": [
      "Epoch 49: 100%|█| 50/50 [00:01<00:00, 35.77it/s, train_loss=0.00806, val_loss=0.\n",
      "Epoch 8:  16%|▏| 8/50 [00:00<00:01, 35.90it/s, train_loss=0.131, val_loss=0.016,"
     ]
    },
    {
     "name": "stdout",
     "output_type": "stream",
     "text": [
      "Curent best Test AUC: 0.5954915466499687\n",
      "Its' val AUC : 0.6437406551583525\n",
      "Its external  AUC: 0.4662045060658579\n",
      "Curent best Test AUC: 0.6360676268002504\n",
      "Its' val AUC : 0.6014679896697023\n",
      "Its external  AUC: 0.4693556010713723\n"
     ]
    },
    {
     "name": "stderr",
     "output_type": "stream",
     "text": [
      "Epoch 29:  56%|▌| 28/50 [00:00<00:00, 36.99it/s, train_loss=0.0265, val_loss=0.0"
     ]
    },
    {
     "name": "stdout",
     "output_type": "stream",
     "text": [
      "Epoch    22: reducing learning rate of group 0 to 5.0000e-04.\n"
     ]
    },
    {
     "name": "stderr",
     "output_type": "stream",
     "text": [
      "Epoch 40:  80%|▊| 40/50 [00:01<00:00, 37.29it/s, train_loss=0.0154, val_loss=0.0"
     ]
    },
    {
     "name": "stdout",
     "output_type": "stream",
     "text": [
      "Epoch    33: reducing learning rate of group 0 to 2.5000e-04.\n"
     ]
    },
    {
     "name": "stderr",
     "output_type": "stream",
     "text": [
      "Epoch 49: 100%|█| 50/50 [00:01<00:00, 36.58it/s, train_loss=0.0104, val_loss=0.0\n",
      "Epoch 7:   8%| | 4/50 [00:00<00:01, 32.51it/s, train_loss=0.00594, val_loss=0.00"
     ]
    },
    {
     "name": "stdout",
     "output_type": "stream",
     "text": [
      "Curent best Test AUC: 0.42930494677520353\n",
      "Its' val AUC : 0.5309229305423406\n",
      "Its external  AUC: 0.5621553489837718\n",
      "Curent best Test AUC: 0.5351283656856606\n",
      "Its' val AUC : 0.641022155770015\n",
      "Its external  AUC: 0.5281235229242162\n"
     ]
    },
    {
     "name": "stderr",
     "output_type": "stream",
     "text": [
      "Epoch 27:  48%|▍| 24/50 [00:00<00:00, 33.87it/s, train_loss=0.000631, val_loss=0"
     ]
    },
    {
     "name": "stdout",
     "output_type": "stream",
     "text": [
      "Curent best Test AUC: 0.5393863494051346\n",
      "Its' val AUC : 0.632866657605002\n",
      "Its external  AUC: 0.4786513313376398\n"
     ]
    },
    {
     "name": "stderr",
     "output_type": "stream",
     "text": [
      "Epoch 45:  88%|▉| 44/50 [00:01<00:00, 34.11it/s, train_loss=6.37e-5, val_loss=2."
     ]
    },
    {
     "name": "stdout",
     "output_type": "stream",
     "text": [
      "Curent best Test AUC: 0.5452723857232311\n",
      "Its' val AUC : 0.6123419872230529\n",
      "Its external  AUC: 0.4490310382858043\n"
     ]
    },
    {
     "name": "stderr",
     "output_type": "stream",
     "text": [
      "Epoch 49: 100%|█| 50/50 [00:01<00:00, 33.91it/s, train_loss=7.37e-5, val_loss=1.\n",
      "Epoch 3:   0%| | 0/50 [00:00<?, ?it/s, train_loss=12.6, val_loss=1.55, train_cin"
     ]
    },
    {
     "name": "stdout",
     "output_type": "stream",
     "text": [
      "Curent best Test AUC: 0.5716969317470256\n",
      "Its' val AUC : 0.615740111458475\n",
      "Its external  AUC: 0.4512368047896644\n",
      "Curent best Test AUC: 0.5718221665623043\n",
      "Its' val AUC : 0.5957591409541932\n",
      "Its external  AUC: 0.4400504175200882\n",
      "Curent best Test AUC: 0.534627426424546\n",
      "Its' val AUC : 0.49578632594807664\n",
      "Its external  AUC: 0.41358121947376714\n"
     ]
    },
    {
     "name": "stderr",
     "output_type": "stream",
     "text": [
      "Epoch 12:  24%|▏| 12/50 [00:00<00:01, 36.05it/s, train_loss=1.28, val_loss=0.057"
     ]
    },
    {
     "name": "stdout",
     "output_type": "stream",
     "text": [
      "Curent best Test AUC: 0.5881026925485285\n",
      "Its' val AUC : 0.59154546690227\n",
      "Its external  AUC: 0.48463841184811723\n",
      "Curent best Test AUC: 0.5909830932999374\n",
      "Its' val AUC : 0.5759140954193285\n",
      "Its external  AUC: 0.4641562943122735\n"
     ]
    },
    {
     "name": "stderr",
     "output_type": "stream",
     "text": [
      "Epoch 49: 100%|█| 50/50 [00:01<00:00, 36.26it/s, train_loss=0.0428, val_loss=0.0\n",
      "Epoch 7:   8%| | 4/50 [00:00<00:01, 32.95it/s, train_loss=2.31, val_loss=0.729, "
     ]
    },
    {
     "name": "stdout",
     "output_type": "stream",
     "text": [
      "Curent best Test AUC: 0.40613650594865375\n",
      "Its' val AUC : 0.4164741062933261\n",
      "Its external  AUC: 0.5125256026469198\n",
      "Curent best Test AUC: 0.5956167814652473\n",
      "Its' val AUC : 0.6558379774364551\n",
      "Its external  AUC: 0.4910981566094218\n",
      "Curent best Test AUC: 0.6151534126487164\n",
      "Its' val AUC : 0.6452358298219383\n",
      "Its external  AUC: 0.4630534110603435\n"
     ]
    },
    {
     "name": "stderr",
     "output_type": "stream",
     "text": [
      "Epoch 49: 100%|█| 50/50 [00:01<00:00, 36.45it/s, train_loss=0.0388, val_loss=0.0\n",
      "Epoch 8:  16%|▏| 8/50 [00:00<00:01, 35.04it/s, train_loss=0.777, val_loss=0.0397"
     ]
    },
    {
     "name": "stdout",
     "output_type": "stream",
     "text": [
      "Curent best Test AUC: 0.569818409517846\n",
      "Its' val AUC : 0.6509446785374473\n",
      "Its external  AUC: 0.48432330234756577\n",
      "Curent best Test AUC: 0.606762680025047\n",
      "Its' val AUC : 0.635313307054506\n",
      "Its external  AUC: 0.4799117693398456\n"
     ]
    },
    {
     "name": "stderr",
     "output_type": "stream",
     "text": [
      "Epoch 20:  40%|▍| 20/50 [00:00<00:00, 36.00it/s, train_loss=0.0984, val_loss=0.0"
     ]
    },
    {
     "name": "stdout",
     "output_type": "stream",
     "text": [
      "Curent best Test AUC: 0.6093926111458986\n",
      "Its' val AUC : 0.5920891667799375\n",
      "Its external  AUC: 0.4882621711044588\n",
      "Curent best Test AUC: 0.6438321853475266\n",
      "Its' val AUC : 0.5544379502514611\n",
      "Its external  AUC: 0.4693556010713723\n"
     ]
    },
    {
     "name": "stderr",
     "output_type": "stream",
     "text": [
      "Epoch 33:  64%|▋| 32/50 [00:00<00:00, 35.95it/s, train_loss=0.107, val_loss=0.00"
     ]
    },
    {
     "name": "stdout",
     "output_type": "stream",
     "text": [
      "Curent best Test AUC: 0.6544771446462117\n",
      "Its' val AUC : 0.4703003941824113\n",
      "Its external  AUC: 0.496612572869072\n",
      "Curent best Test AUC: 0.6740137758296807\n",
      "Its' val AUC : 0.6404784558923474\n",
      "Its external  AUC: 0.4978730108712778\n"
     ]
    },
    {
     "name": "stderr",
     "output_type": "stream",
     "text": [
      "Epoch 44:  88%|▉| 44/50 [00:01<00:00, 36.24it/s, train_loss=0.111, val_loss=0.00"
     ]
    },
    {
     "name": "stdout",
     "output_type": "stream",
     "text": [
      "Epoch    37: reducing learning rate of group 0 to 5.0000e-04.\n"
     ]
    },
    {
     "name": "stderr",
     "output_type": "stream",
     "text": [
      "Epoch 49: 100%|█| 50/50 [00:01<00:00, 35.95it/s, train_loss=0.0661, val_loss=0.0\n",
      "Epoch 8:  16%|▏| 8/50 [00:00<00:01, 36.18it/s, train_loss=3.64, val_loss=0.719, "
     ]
    },
    {
     "name": "stdout",
     "output_type": "stream",
     "text": [
      "Curent best Test AUC: 0.5956167814652473\n",
      "Its' val AUC : 0.6457795296996058\n",
      "Its external  AUC: 0.47707578383488264\n",
      "Curent best Test AUC: 0.6080150281778335\n",
      "Its' val AUC : 0.6105749626206334\n",
      "Its external  AUC: 0.45375768079407597\n"
     ]
    },
    {
     "name": "stderr",
     "output_type": "stream",
     "text": [
      "Epoch 37:  72%|▋| 36/50 [00:01<00:00, 36.38it/s, train_loss=0.159, val_loss=0.02"
     ]
    },
    {
     "name": "stdout",
     "output_type": "stream",
     "text": [
      "Curent best Test AUC: 0.6083907326236694\n",
      "Its' val AUC : 0.6494495038738616\n",
      "Its external  AUC: 0.48700173310225303\n"
     ]
    },
    {
     "name": "stderr",
     "output_type": "stream",
     "text": [
      "Epoch 49: 100%|█| 50/50 [00:01<00:00, 36.33it/s, train_loss=0.0496, val_loss=0.0\n",
      "Epoch 5:   8%| | 4/50 [00:00<00:01, 36.43it/s, train_loss=0.876, val_loss=0.716,"
     ]
    },
    {
     "name": "stdout",
     "output_type": "stream",
     "text": [
      "Curent best Test AUC: 0.6113963681903569\n",
      "Its' val AUC : 0.597254315617779\n",
      "Its external  AUC: 0.4389475342681582\n",
      "Curent best Test AUC: 0.5713212273011897\n",
      "Its' val AUC : 0.6403425309229306\n",
      "Its external  AUC: 0.4745549078304711\n",
      "Curent best Test AUC: 0.6123982467125861\n",
      "Its' val AUC : 0.6302840831860813\n",
      "Its external  AUC: 0.4777060028359855\n"
     ]
    },
    {
     "name": "stderr",
     "output_type": "stream",
     "text": [
      "Epoch 22:  40%|▍| 20/50 [00:00<00:00, 37.09it/s, train_loss=0.279, val_loss=0.08"
     ]
    },
    {
     "name": "stdout",
     "output_type": "stream",
     "text": [
      "Curent best Test AUC: 0.6166562304320601\n",
      "Its' val AUC : 0.615740111458475\n",
      "Its external  AUC: 0.46084764455648336\n",
      "Epoch    22: reducing learning rate of group 0 to 5.0000e-04.\n"
     ]
    },
    {
     "name": "stderr",
     "output_type": "stream",
     "text": [
      "Epoch 49: 100%|█| 50/50 [00:01<00:00, 36.91it/s, train_loss=0.0215, val_loss=0.0\n",
      "Epoch 4:   8%| | 4/50 [00:00<00:01, 34.61it/s, train_loss=0.483, val_loss=0.0553"
     ]
    },
    {
     "name": "stdout",
     "output_type": "stream",
     "text": [
      "Epoch    48: reducing learning rate of group 0 to 2.5000e-04.\n",
      "Curent best Test AUC: 0.6230432060112712\n",
      "Its' val AUC : 0.6637216256626343\n",
      "Its external  AUC: 0.5364739246888294\n",
      "Curent best Test AUC: 0.6336881653099562\n",
      "Its' val AUC : 0.5653119478048118\n",
      "Its external  AUC: 0.44320151252560264\n"
     ]
    },
    {
     "name": "stderr",
     "output_type": "stream",
     "text": [
      "Epoch 16:  32%|▎| 16/50 [00:00<00:00, 36.29it/s, train_loss=0.233, val_loss=0.05"
     ]
    },
    {
     "name": "stdout",
     "output_type": "stream",
     "text": [
      "Curent best Test AUC: 0.6484658735128366\n",
      "Its' val AUC : 0.628381133614245\n",
      "Its external  AUC: 0.43674176776429807\n",
      "Epoch    15: reducing learning rate of group 0 to 5.0000e-04.\n"
     ]
    },
    {
     "name": "stderr",
     "output_type": "stream",
     "text": [
      "Epoch 49: 100%|█| 50/50 [00:01<00:00, 36.30it/s, train_loss=0.0238, val_loss=0.0\n",
      "Epoch 8:  16%|▏| 8/50 [00:00<00:01, 35.36it/s, train_loss=6.98, val_loss=0.553, "
     ]
    },
    {
     "name": "stdout",
     "output_type": "stream",
     "text": [
      "Curent best Test AUC: 0.5700688791484032\n",
      "Its' val AUC : 0.5806714693489194\n",
      "Its external  AUC: 0.45454545454545453\n",
      "Curent best Test AUC: 0.5981214777708203\n",
      "Its' val AUC : 0.6165556612749762\n",
      "Its external  AUC: 0.4569087757995904\n"
     ]
    },
    {
     "name": "stderr",
     "output_type": "stream",
     "text": [
      "Epoch 17:  32%|▎| 16/50 [00:00<00:00, 35.55it/s, train_loss=0.997, val_loss=0.30"
     ]
    },
    {
     "name": "stdout",
     "output_type": "stream",
     "text": [
      "Curent best Test AUC: 0.614527238572323\n",
      "Its' val AUC : 0.6024194644556204\n",
      "Its external  AUC: 0.45974476130455333\n",
      "Curent best Test AUC: 0.6286787726988102\n",
      "Its' val AUC : 0.6183226858773957\n",
      "Its external  AUC: 0.4562785567984875\n"
     ]
    },
    {
     "name": "stderr",
     "output_type": "stream",
     "text": [
      "Epoch 34:  64%|▋| 32/50 [00:00<00:00, 35.51it/s, train_loss=0.227, val_loss=0.05"
     ]
    },
    {
     "name": "stdout",
     "output_type": "stream",
     "text": [
      "Curent best Test AUC: 0.6487163431433939\n",
      "Its' val AUC : 0.5019709120565448\n",
      "Its external  AUC: 0.5783834882621711\n"
     ]
    },
    {
     "name": "stderr",
     "output_type": "stream",
     "text": [
      "Epoch 45:  88%|▉| 44/50 [00:01<00:00, 35.79it/s, train_loss=0.0355, val_loss=0.0"
     ]
    },
    {
     "name": "stdout",
     "output_type": "stream",
     "text": [
      "Epoch    38: reducing learning rate of group 0 to 5.0000e-04.\n"
     ]
    },
    {
     "name": "stderr",
     "output_type": "stream",
     "text": [
      "Epoch 49: 100%|█| 50/50 [00:01<00:00, 35.47it/s, train_loss=0.0408, val_loss=0.0\n",
      "Epoch 5:   8%| | 4/50 [00:00<00:01, 35.39it/s, train_loss=3.49, val_loss=0.191, "
     ]
    },
    {
     "name": "stdout",
     "output_type": "stream",
     "text": [
      "Curent best Test AUC: 0.6502191609267376\n",
      "Its' val AUC : 0.5896425173304336\n",
      "Its external  AUC: 0.5148889239010556\n",
      "Curent best Test AUC: 0.6639949906073889\n",
      "Its' val AUC : 0.5718363463368221\n",
      "Its external  AUC: 0.5022845438789979\n",
      "Curent best Test AUC: 0.603882279273638\n",
      "Its' val AUC : 0.6493135789044447\n",
      "Its external  AUC: 0.48810461635418306\n"
     ]
    },
    {
     "name": "stderr",
     "output_type": "stream",
     "text": [
      "Epoch 33:  64%|▋| 32/50 [00:00<00:00, 36.07it/s, train_loss=0.0582, val_loss=0.0"
     ]
    },
    {
     "name": "stdout",
     "output_type": "stream",
     "text": [
      "Curent best Test AUC: 0.6175328741390106\n",
      "Its' val AUC : 0.6430610303112682\n",
      "Its external  AUC: 0.5690877579959036\n"
     ]
    },
    {
     "name": "stderr",
     "output_type": "stream",
     "text": [
      "Epoch 49: 100%|█| 50/50 [00:01<00:00, 36.12it/s, train_loss=0.0103, val_loss=0.0\n",
      "Epoch 2:   0%| | 0/50 [00:00<?, ?it/s, train_loss=36.4, val_loss=7.8, train_cind"
     ]
    },
    {
     "name": "stdout",
     "output_type": "stream",
     "text": [
      "Epoch    46: reducing learning rate of group 0 to 5.0000e-04.\n",
      "Curent best Test AUC: 0.39824671258609895\n",
      "Its' val AUC : 0.3547641701780617\n",
      "Its external  AUC: 0.505593193634788\n",
      "Curent best Test AUC: 0.5172197871008141\n",
      "Its' val AUC : 0.6153323365502242\n",
      "Its external  AUC: 0.4868441783519773\n"
     ]
    },
    {
     "name": "stderr",
     "output_type": "stream",
     "text": [
      "Epoch 12:  24%|▏| 12/50 [00:00<00:01, 32.96it/s, train_loss=0.826, val_loss=0.22"
     ]
    },
    {
     "name": "stdout",
     "output_type": "stream",
     "text": [
      "Curent best Test AUC: 0.6475892298058861\n",
      "Its' val AUC : 0.5953513660459426\n",
      "Its external  AUC: 0.5292264061761462\n"
     ]
    },
    {
     "name": "stderr",
     "output_type": "stream",
     "text": [
      "Epoch 49: 100%|█| 50/50 [00:01<00:00, 35.32it/s, train_loss=0.13, val_loss=0.009\n",
      "Epoch 5:   8%| | 4/50 [00:00<00:01, 35.10it/s, train_loss=1.79, val_loss=0.398, "
     ]
    },
    {
     "name": "stdout",
     "output_type": "stream",
     "text": [
      "Epoch    49: reducing learning rate of group 0 to 5.0000e-04.\n",
      "Curent best Test AUC: 0.600375704445836\n",
      "Its' val AUC : 0.6582846268859589\n",
      "Its external  AUC: 0.47707578383488264\n"
     ]
    },
    {
     "name": "stderr",
     "output_type": "stream",
     "text": [
      "Epoch 48:  96%|▉| 48/50 [00:01<00:00, 35.93it/s, train_loss=0.0166, val_loss=0.0"
     ]
    },
    {
     "name": "stdout",
     "output_type": "stream",
     "text": [
      "Epoch    42: reducing learning rate of group 0 to 5.0000e-04.\n"
     ]
    },
    {
     "name": "stderr",
     "output_type": "stream",
     "text": [
      "Epoch 49: 100%|█| 50/50 [00:01<00:00, 36.06it/s, train_loss=0.0227, val_loss=0.0\n",
      "Epoch 7:   8%| | 4/50 [00:00<00:01, 33.94it/s, train_loss=0.868, val_loss=0.249,"
     ]
    },
    {
     "name": "stdout",
     "output_type": "stream",
     "text": [
      "Curent best Test AUC: 0.5928616155291171\n",
      "Its' val AUC : 0.6255267092564905\n",
      "Its external  AUC: 0.5128407121474713\n"
     ]
    },
    {
     "name": "stderr",
     "output_type": "stream",
     "text": [
      "Epoch 16:  32%|▎| 16/50 [00:00<00:00, 35.12it/s, train_loss=0.138, val_loss=0.06"
     ]
    },
    {
     "name": "stdout",
     "output_type": "stream",
     "text": [
      "Curent best Test AUC: 0.6117720726361928\n",
      "Its' val AUC : 0.6108468125594672\n",
      "Its external  AUC: 0.4989758941232078\n"
     ]
    },
    {
     "name": "stderr",
     "output_type": "stream",
     "text": [
      "Epoch 31:  56%|▌| 28/50 [00:00<00:00, 35.91it/s, train_loss=0.0324, val_loss=0.0"
     ]
    },
    {
     "name": "stdout",
     "output_type": "stream",
     "text": [
      "Curent best Test AUC: 0.6350657482780213\n",
      "Its' val AUC : 0.5827103438901726\n",
      "Its external  AUC: 0.507326295887821\n"
     ]
    },
    {
     "name": "stderr",
     "output_type": "stream",
     "text": [
      "Epoch 49: 100%|█| 50/50 [00:01<00:00, 35.89it/s, train_loss=0.023, val_loss=0.00\n",
      "Epoch 7:   8%| | 4/50 [00:00<00:01, 32.36it/s, train_loss=0.524, val_loss=0.0543"
     ]
    },
    {
     "name": "stdout",
     "output_type": "stream",
     "text": [
      "Curent best Test AUC: 0.42542266750156543\n",
      "Its' val AUC : 0.3553078700557292\n",
      "Its external  AUC: 0.46809516306916654\n",
      "Curent best Test AUC: 0.6175328741390106\n",
      "Its' val AUC : 0.6463232295772734\n",
      "Its external  AUC: 0.5597920277296361\n"
     ]
    },
    {
     "name": "stderr",
     "output_type": "stream",
     "text": [
      "Epoch 17:  32%|▎| 16/50 [00:00<00:00, 35.10it/s, train_loss=0.0922, val_loss=0.0"
     ]
    },
    {
     "name": "stdout",
     "output_type": "stream",
     "text": [
      "Curent best Test AUC: 0.6206637445209768\n",
      "Its' val AUC : 0.660459426396629\n",
      "Its external  AUC: 0.5024420986292737\n",
      "Curent best Test AUC: 0.6316844082654978\n",
      "Its' val AUC : 0.608807938018214\n",
      "Its external  AUC: 0.518670237907673\n"
     ]
    },
    {
     "name": "stderr",
     "output_type": "stream",
     "text": [
      "Epoch 49: 100%|█| 50/50 [00:01<00:00, 35.99it/s, train_loss=0.0126, val_loss=0.0\n",
      "Epoch 7:   8%| | 4/50 [00:00<00:01, 33.38it/s, train_loss=1.46, val_loss=1.72, t"
     ]
    },
    {
     "name": "stdout",
     "output_type": "stream",
     "text": [
      "Curent best Test AUC: 0.5074514715090795\n",
      "Its' val AUC : 0.5336414299306783\n",
      "Its external  AUC: 0.6180872853316528\n",
      "Curent best Test AUC: 0.5912335629304947\n",
      "Its' val AUC : 0.644420280005437\n",
      "Its external  AUC: 0.46982826532219946\n"
     ]
    },
    {
     "name": "stderr",
     "output_type": "stream",
     "text": [
      "Epoch 36:  72%|▋| 36/50 [00:01<00:00, 34.69it/s, train_loss=0.126, val_loss=0.05"
     ]
    },
    {
     "name": "stdout",
     "output_type": "stream",
     "text": [
      "Curent best Test AUC: 0.604257983719474\n",
      "Its' val AUC : 0.6544787277422862\n",
      "Its external  AUC: 0.4731369150779896\n",
      "Epoch    31: reducing learning rate of group 0 to 5.0000e-04.\n"
     ]
    },
    {
     "name": "stderr",
     "output_type": "stream",
     "text": [
      "Epoch 49: 100%|█| 50/50 [00:01<00:00, 34.95it/s, train_loss=0.072, val_loss=0.01\n",
      "Epoch 8:  16%|▏| 8/50 [00:00<00:01, 35.23it/s, train_loss=2.53, val_loss=0.276, "
     ]
    },
    {
     "name": "stdout",
     "output_type": "stream",
     "text": [
      "Curent best Test AUC: 0.6073888541014402\n",
      "Its' val AUC : 0.6460513796384396\n",
      "Its external  AUC: 0.47423979832991964\n"
     ]
    },
    {
     "name": "stderr",
     "output_type": "stream",
     "text": [
      "Epoch 35:  64%|▋| 32/50 [00:00<00:00, 35.61it/s, train_loss=0.0563, val_loss=0.0"
     ]
    },
    {
     "name": "stdout",
     "output_type": "stream",
     "text": [
      "Epoch    29: reducing learning rate of group 0 to 5.0000e-04.\n"
     ]
    },
    {
     "name": "stderr",
     "output_type": "stream",
     "text": [
      "Epoch 49: 100%|█| 50/50 [00:01<00:00, 35.08it/s, train_loss=0.0256, val_loss=0.0\n",
      "Epoch 7:  14%|▏| 7/50 [00:00<00:01, 31.93it/s, train_loss=0.0484, val_loss=0.009"
     ]
    },
    {
     "name": "stdout",
     "output_type": "stream",
     "text": [
      "Curent best Test AUC: 0.48854101440200376\n",
      "Its' val AUC : 0.4193285306510806\n",
      "Its external  AUC: 0.5205608949109816\n",
      "Curent best Test AUC: 0.5025673137132123\n",
      "Its' val AUC : 0.4058719586788093\n",
      "Its external  AUC: 0.5193004569087758\n",
      "Curent best Test AUC: 0.574452097683156\n",
      "Its' val AUC : 0.47532961805083596\n",
      "Its external  AUC: 0.5147313691507799\n"
     ]
    },
    {
     "name": "stderr",
     "output_type": "stream",
     "text": [
      "Epoch 31:  62%|▌| 31/50 [00:00<00:00, 34.28it/s, train_loss=0.0834, val_loss=0.0"
     ]
    },
    {
     "name": "stdout",
     "output_type": "stream",
     "text": [
      "Epoch    25: reducing learning rate of group 0 to 5.0000e-04.\n"
     ]
    },
    {
     "name": "stderr",
     "output_type": "stream",
     "text": [
      "Epoch 42:  78%|▊| 39/50 [00:01<00:00, 34.19it/s, train_loss=0.0341, val_loss=0.0"
     ]
    },
    {
     "name": "stdout",
     "output_type": "stream",
     "text": [
      "Epoch    36: reducing learning rate of group 0 to 2.5000e-04.\n"
     ]
    },
    {
     "name": "stderr",
     "output_type": "stream",
     "text": [
      "Epoch 49: 100%|█| 50/50 [00:01<00:00, 34.26it/s, train_loss=0.018, val_loss=0.00\n",
      "Epoch 3:   0%| | 0/50 [00:00<?, ?it/s, train_loss=0.12, val_loss=0.0108, train_c"
     ]
    },
    {
     "name": "stdout",
     "output_type": "stream",
     "text": [
      "Epoch    47: reducing learning rate of group 0 to 1.2500e-04.\n",
      "Curent best Test AUC: 0.3817157169693175\n",
      "Its' val AUC : 0.365910017670246\n",
      "Its external  AUC: 0.5319048369308335\n",
      "Curent best Test AUC: 0.4435817157169693\n",
      "Its' val AUC : 0.4172896561098274\n",
      "Its external  AUC: 0.5274933039231133\n",
      "Curent best Test AUC: 0.521477770820288\n",
      "Its' val AUC : 0.5824384939513388\n",
      "Its external  AUC: 0.5643611154876319\n"
     ]
    },
    {
     "name": "stderr",
     "output_type": "stream",
     "text": [
      "Epoch 11:  16%|▏| 8/50 [00:00<00:01, 36.25it/s, train_loss=0.0133, val_loss=0.00"
     ]
    },
    {
     "name": "stdout",
     "output_type": "stream",
     "text": [
      "Curent best Test AUC: 0.5879774577332498\n",
      "Its' val AUC : 0.6270218839200761\n",
      "Its external  AUC: 0.6091066645659367\n",
      "Curent best Test AUC: 0.6015028177833438\n",
      "Its' val AUC : 0.6687508495310589\n",
      "Its external  AUC: 0.5916180872853316\n",
      "Curent best Test AUC: 0.6271759549154665\n",
      "Its' val AUC : 0.6817996465950795\n",
      "Its external  AUC: 0.536631479439105\n"
     ]
    },
    {
     "name": "stderr",
     "output_type": "stream",
     "text": [
      "Epoch 27:  48%|▍| 24/50 [00:00<00:00, 38.14it/s, train_loss=0.00178, val_loss=0."
     ]
    },
    {
     "name": "stdout",
     "output_type": "stream",
     "text": [
      "Epoch    20: reducing learning rate of group 0 to 5.0000e-04.\n"
     ]
    },
    {
     "name": "stderr",
     "output_type": "stream",
     "text": [
      "Epoch 49: 100%|█| 50/50 [00:01<00:00, 38.12it/s, train_loss=0.000871, val_loss=9\n",
      "Epoch 8:  16%|▏| 8/50 [00:00<00:01, 38.07it/s, train_loss=0.653, val_loss=0.309,"
     ]
    },
    {
     "name": "stdout",
     "output_type": "stream",
     "text": [
      "Curent best Test AUC: 0.46149029430181593\n",
      "Its' val AUC : 0.3570748946581487\n",
      "Its external  AUC: 0.4580116590515204\n",
      "Curent best Test AUC: 0.5822166562304321\n",
      "Its' val AUC : 0.6667119749898056\n",
      "Its external  AUC: 0.5059083031353395\n",
      "Curent best Test AUC: 0.5984971822166563\n",
      "Its' val AUC : 0.6620905260296317\n",
      "Its external  AUC: 0.4851110760989444\n"
     ]
    },
    {
     "name": "stderr",
     "output_type": "stream",
     "text": [
      "Epoch 49: 100%|█| 50/50 [00:01<00:00, 38.80it/s, train_loss=0.0102, val_loss=0.0\n",
      "Epoch 8:  16%|▏| 8/50 [00:00<00:01, 37.96it/s, train_loss=0.00425, val_loss=0.00"
     ]
    },
    {
     "name": "stdout",
     "output_type": "stream",
     "text": [
      "Curent best Test AUC: 0.44308077645585475\n",
      "Its' val AUC : 0.4747859181731684\n",
      "Its external  AUC: 0.46368363006144636\n",
      "Curent best Test AUC: 0.5487789605510331\n",
      "Its' val AUC : 0.5521272257713742\n",
      "Its external  AUC: 0.452024578541043\n"
     ]
    },
    {
     "name": "stderr",
     "output_type": "stream",
     "text": [
      "Epoch 23:  40%|▍| 20/50 [00:00<00:00, 37.69it/s, train_loss=0.00539, val_loss=0."
     ]
    },
    {
     "name": "stdout",
     "output_type": "stream",
     "text": [
      "Curent best Test AUC: 0.5516593613024421\n",
      "Its' val AUC : 0.4679896697023243\n",
      "Its external  AUC: 0.5593193634788088\n",
      "Curent best Test AUC: 0.5855979962429555\n",
      "Its' val AUC : 0.5113497349463096\n",
      "Its external  AUC: 0.5678273199936978\n",
      "Epoch    18: reducing learning rate of group 0 to 5.0000e-04.\n",
      "Curent best Test AUC: 0.5874765184721352\n",
      "Its' val AUC : 0.5551175750985456\n",
      "Its external  AUC: 0.5716086340003151\n",
      "Curent best Test AUC: 0.6092673763306199\n",
      "Its' val AUC : 0.5600108739975533\n",
      "Its external  AUC: 0.5749172837561053\n",
      "Curent best Test AUC: 0.6107701941139637\n",
      "Its' val AUC : 0.5717004213674052\n",
      "Its external  AUC: 0.5760201670080353\n",
      "Curent best Test AUC: 0.6123982467125861\n",
      "Its' val AUC : 0.5742829957863259\n",
      "Its external  AUC: 0.5771230502599654\n"
     ]
    },
    {
     "name": "stderr",
     "output_type": "stream",
     "text": [
      "Epoch 49: 100%|█| 50/50 [00:01<00:00, 38.13it/s, train_loss=0.0014, val_loss=0.0\n",
      "Epoch 8:  16%|▏| 8/50 [00:00<00:01, 37.60it/s, train_loss=0.0566, val_loss=0.012"
     ]
    },
    {
     "name": "stdout",
     "output_type": "stream",
     "text": [
      "Curent best Test AUC: 0.45072010018785225\n",
      "Its' val AUC : 0.40927008291423134\n",
      "Its external  AUC: 0.3573341736253348\n",
      "Curent best Test AUC: 0.5537883531621791\n",
      "Its' val AUC : 0.639798831045263\n",
      "Its external  AUC: 0.5388372459429652\n",
      "Curent best Test AUC: 0.593613024420789\n",
      "Its' val AUC : 0.5920891667799375\n",
      "Its external  AUC: 0.4381597605167796\n",
      "Curent best Test AUC: 0.5987476518472136\n",
      "Its' val AUC : 0.5931765665352725\n",
      "Its external  AUC: 0.4540727902946274\n"
     ]
    },
    {
     "name": "stderr",
     "output_type": "stream",
     "text": [
      "Epoch 22:  40%|▍| 20/50 [00:00<00:00, 38.32it/s, train_loss=0.0375, val_loss=0.0"
     ]
    },
    {
     "name": "stdout",
     "output_type": "stream",
     "text": [
      "Epoch    15: reducing learning rate of group 0 to 5.0000e-04.\n"
     ]
    },
    {
     "name": "stderr",
     "output_type": "stream",
     "text": [
      "Epoch 49: 100%|█| 50/50 [00:01<00:00, 38.40it/s, train_loss=0.00652, val_loss=0.\n",
      "Epoch 8:  16%|▏| 8/50 [00:00<00:01, 37.22it/s, train_loss=3.07, val_loss=0.463, "
     ]
    },
    {
     "name": "stdout",
     "output_type": "stream",
     "text": [
      "Curent best Test AUC: 0.4557294927989981\n",
      "Its' val AUC : 0.35394862036156044\n",
      "Its external  AUC: 0.4420986292736726\n",
      "Curent best Test AUC: 0.47138384470882905\n",
      "Its' val AUC : 0.3690362919668343\n",
      "Its external  AUC: 0.4028674964550181\n",
      "Curent best Test AUC: 0.6196618659987476\n",
      "Its' val AUC : 0.6187304607856463\n",
      "Its external  AUC: 0.4348511107609894\n",
      "Curent best Test AUC: 0.6391984971822167\n",
      "Its' val AUC : 0.6502650536903629\n",
      "Its external  AUC: 0.4799117693398456\n"
     ]
    },
    {
     "name": "stderr",
     "output_type": "stream",
     "text": [
      "Epoch 49: 100%|█| 50/50 [00:01<00:00, 36.87it/s, train_loss=0.0272, val_loss=0.0\n",
      "Epoch 8:  16%|▏| 8/50 [00:00<00:01, 36.91it/s, train_loss=0.426, val_loss=0.0631"
     ]
    },
    {
     "name": "stdout",
     "output_type": "stream",
     "text": [
      "Curent best Test AUC: 0.577958672510958\n",
      "Its' val AUC : 0.6562457523447057\n",
      "Its external  AUC: 0.4882621711044588\n"
     ]
    },
    {
     "name": "stderr",
     "output_type": "stream",
     "text": [
      "Epoch 37:  72%|▋| 36/50 [00:00<00:00, 36.67it/s, train_loss=0.00176, val_loss=0."
     ]
    },
    {
     "name": "stdout",
     "output_type": "stream",
     "text": [
      "Epoch    31: reducing learning rate of group 0 to 5.0000e-04.\n"
     ]
    },
    {
     "name": "stderr",
     "output_type": "stream",
     "text": [
      "Epoch 49: 100%|█| 50/50 [00:01<00:00, 36.80it/s, train_loss=0.000299, val_loss=5\n",
      "Epoch 8:  16%|▏| 8/50 [00:00<00:01, 35.46it/s, train_loss=0.827, val_loss=0.379,"
     ]
    },
    {
     "name": "stdout",
     "output_type": "stream",
     "text": [
      "Curent best Test AUC: 0.5709455228553538\n",
      "Its' val AUC : 0.6506728285986135\n",
      "Its external  AUC: 0.4761304553332283\n",
      "Curent best Test AUC: 0.5852222917971196\n",
      "Its' val AUC : 0.65475057768112\n",
      "Its external  AUC: 0.5014967701276194\n",
      "Curent best Test AUC: 0.6115216030056355\n",
      "Its' val AUC : 0.6285170585836618\n",
      "Its external  AUC: 0.4725066960768867\n"
     ]
    },
    {
     "name": "stderr",
     "output_type": "stream",
     "text": [
      "Epoch 39:  80%|▊| 40/50 [00:01<00:00, 35.53it/s, train_loss=0.0745, val_loss=0.0"
     ]
    },
    {
     "name": "stdout",
     "output_type": "stream",
     "text": [
      "Curent best Test AUC: 0.6186599874765185\n",
      "Its' val AUC : 0.6005165148837841\n",
      "Its external  AUC: 0.5668819914920434\n",
      "Curent best Test AUC: 0.6197871008140263\n",
      "Its' val AUC : 0.5056408862308006\n",
      "Its external  AUC: 0.5475027572081298\n",
      "Curent best Test AUC: 0.6612398246712586\n",
      "Its' val AUC : 0.5499524262607041\n",
      "Its external  AUC: 0.5670395462423192\n"
     ]
    },
    {
     "name": "stderr",
     "output_type": "stream",
     "text": [
      "Epoch 49: 100%|█| 50/50 [00:01<00:00, 35.85it/s, train_loss=0.0257, val_loss=0.0\n",
      "Epoch 3:   0%| | 0/50 [00:00<?, ?it/s, train_loss=2.44, val_loss=1.15, train_cin"
     ]
    },
    {
     "name": "stdout",
     "output_type": "stream",
     "text": [
      "Epoch    47: reducing learning rate of group 0 to 5.0000e-04.\n",
      "Curent best Test AUC: 0.4859110832811522\n",
      "Its' val AUC : 0.40831860812831317\n",
      "Its external  AUC: 0.3672601228927052\n",
      "Curent best Test AUC: 0.5894802755165937\n",
      "Its' val AUC : 0.6385075438358027\n",
      "Its external  AUC: 0.49850322987238066\n"
     ]
    },
    {
     "name": "stderr",
     "output_type": "stream",
     "text": [
      "Epoch 32:  64%|▋| 32/50 [00:00<00:00, 37.83it/s, train_loss=0.0725, val_loss=0.0"
     ]
    },
    {
     "name": "stdout",
     "output_type": "stream",
     "text": [
      "Epoch    25: reducing learning rate of group 0 to 5.0000e-04.\n",
      "Curent best Test AUC: 0.6022542266750156\n",
      "Its' val AUC : 0.576593720266413\n",
      "Its external  AUC: 0.5999684890499448\n"
     ]
    },
    {
     "name": "stderr",
     "output_type": "stream",
     "text": [
      "Epoch 46:  88%|▉| 44/50 [00:01<00:00, 38.60it/s, train_loss=0.0263, val_loss=0.0"
     ]
    },
    {
     "name": "stdout",
     "output_type": "stream",
     "text": [
      "Curent best Test AUC: 0.6162805259862242\n",
      "Its' val AUC : 0.5559331249150469\n",
      "Its external  AUC: 0.6169844020797227\n",
      "Epoch    41: reducing learning rate of group 0 to 2.5000e-04.\n"
     ]
    },
    {
     "name": "stderr",
     "output_type": "stream",
     "text": [
      "Epoch 49: 100%|█| 50/50 [00:01<00:00, 37.71it/s, train_loss=0.0217, val_loss=0.0\n",
      "Epoch 8:  16%|▏| 8/50 [00:00<00:01, 36.09it/s, train_loss=0.0076, val_loss=0.003"
     ]
    },
    {
     "name": "stdout",
     "output_type": "stream",
     "text": [
      "Curent best Test AUC: 0.4005009392611146\n",
      "Its' val AUC : 0.4109011825472339\n",
      "Its external  AUC: 0.536631479439105\n",
      "Curent best Test AUC: 0.42654978083907324\n",
      "Its' val AUC : 0.3706673915998369\n",
      "Its external  AUC: 0.5285961871750433\n",
      "Curent best Test AUC: 0.42730118973074516\n",
      "Its' val AUC : 0.4456979747179557\n",
      "Its external  AUC: 0.41878052623286594\n",
      "Curent best Test AUC: 0.4288040075140889\n",
      "Its' val AUC : 0.45276607312763356\n",
      "Its external  AUC: 0.41878052623286594\n"
     ]
    },
    {
     "name": "stderr",
     "output_type": "stream",
     "text": [
      "Epoch 21:  40%|▍| 20/50 [00:00<00:00, 38.07it/s, train_loss=0.00384, val_loss=0."
     ]
    },
    {
     "name": "stdout",
     "output_type": "stream",
     "text": [
      "Epoch    14: reducing learning rate of group 0 to 5.0000e-04.\n"
     ]
    },
    {
     "name": "stderr",
     "output_type": "stream",
     "text": [
      "Epoch 36:  72%|▋| 36/50 [00:00<00:00, 37.73it/s, train_loss=0.000711, val_loss=0"
     ]
    },
    {
     "name": "stdout",
     "output_type": "stream",
     "text": [
      "Curent best Test AUC: 0.4311834690043832\n",
      "Its' val AUC : 0.49463096370803317\n",
      "Its external  AUC: 0.41421143847487\n",
      "Curent best Test AUC: 0.4370695053224796\n",
      "Its' val AUC : 0.49109691450319426\n",
      "Its external  AUC: 0.41232078147156137\n",
      "Curent best Test AUC: 0.44395742016280526\n",
      "Its' val AUC : 0.4804947668886774\n",
      "Its external  AUC: 0.41216322672128564\n",
      "Curent best Test AUC: 0.4452097683155917\n",
      "Its' val AUC : 0.4583389968737257\n",
      "Its external  AUC: 0.4055459272097054\n",
      "Curent best Test AUC: 0.4503443957420163\n",
      "Its' val AUC : 0.45004757373929594\n",
      "Its external  AUC: 0.4033401607058453\n",
      "Curent best Test AUC: 0.45785848465873513\n",
      "Its' val AUC : 0.4523582982193829\n",
      "Its external  AUC: 0.4353237750118166\n",
      "Curent best Test AUC: 0.4624921728240451\n",
      "Its' val AUC : 0.4616011961397309\n",
      "Its external  AUC: 0.4789664408381913\n"
     ]
    },
    {
     "name": "stderr",
     "output_type": "stream",
     "text": [
      "Epoch 44:  88%|▉| 44/50 [00:01<00:00, 37.17it/s, train_loss=0.000607, val_loss=6"
     ]
    },
    {
     "name": "stdout",
     "output_type": "stream",
     "text": [
      "Curent best Test AUC: 0.4688791484032561\n",
      "Its' val AUC : 0.47233926872366455\n",
      "Its external  AUC: 0.5032298723806523\n",
      "Curent best Test AUC: 0.4746399499060739\n",
      "Its' val AUC : 0.48266956639934755\n",
      "Its external  AUC: 0.518670237907673\n",
      "Curent best Test AUC: 0.48854101440200376\n",
      "Its' val AUC : 0.49843686285170585\n",
      "Its external  AUC: 0.5293839609264219\n",
      "Curent best Test AUC: 0.5051972448340639\n",
      "Its' val AUC : 0.5237189071632459\n",
      "Its external  AUC: 0.5320623916811091\n",
      "Curent best Test AUC: 0.5183469004383219\n",
      "Its' val AUC : 0.5430202528204431\n",
      "Its external  AUC: 0.5326926106822121\n",
      "Curent best Test AUC: 0.5296180338134001\n",
      "Its' val AUC : 0.5608264238140547\n",
      "Its external  AUC: 0.530486844178352\n",
      "Curent best Test AUC: 0.5377582968065122\n",
      "Its' val AUC : 0.5723800462144896\n",
      "Its external  AUC: 0.5081140696391996\n",
      "Curent best Test AUC: 0.5446462116468378\n",
      "Its' val AUC : 0.5808073943183363\n",
      "Its external  AUC: 0.4986607846226564\n"
     ]
    },
    {
     "name": "stderr",
     "output_type": "stream",
     "text": [
      "Epoch 49: 100%|█| 50/50 [00:01<00:00, 37.61it/s, train_loss=0.000357, val_loss=5\n",
      "Epoch 2:   0%| | 0/50 [00:00<?, ?it/s, train_loss=0.219, val_loss=0.054, train_c"
     ]
    },
    {
     "name": "stdout",
     "output_type": "stream",
     "text": [
      "Curent best Test AUC: 0.5511584220413275\n",
      "Its' val AUC : 0.5899143672692674\n",
      "Its external  AUC: 0.4914132661099732\n",
      "Curent best Test AUC: 0.552035065748278\n",
      "Its' val AUC : 0.5916813918716868\n",
      "Its external  AUC: 0.4912557113596975\n",
      "Curent best Test AUC: 0.6007514088916719\n",
      "Its' val AUC : 0.47913551719450864\n",
      "Its external  AUC: 0.4328028990074051\n"
     ]
    },
    {
     "name": "stderr",
     "output_type": "stream",
     "text": [
      "Epoch 18:  32%|▎| 16/50 [00:00<00:00, 38.12it/s, train_loss=0.00496, val_loss=0."
     ]
    },
    {
     "name": "stdout",
     "output_type": "stream",
     "text": [
      "Curent best Test AUC: 0.6125234815278647\n",
      "Its' val AUC : 0.5986135653119478\n",
      "Its external  AUC: 0.43784465101622816\n",
      "Curent best Test AUC: 0.6179085785848466\n",
      "Its' val AUC : 0.6179149109691451\n",
      "Its external  AUC: 0.45501811879628173\n",
      "Curent best Test AUC: 0.6221665623043205\n",
      "Its' val AUC : 0.6359929319015903\n",
      "Its external  AUC: 0.5100047266425083\n"
     ]
    },
    {
     "name": "stderr",
     "output_type": "stream",
     "text": [
      "Epoch 49: 100%|█| 50/50 [00:01<00:00, 38.42it/s, train_loss=0.000807, val_loss=0\n",
      "Epoch 8:  16%|▏| 8/50 [00:00<00:01, 35.73it/s, train_loss=0.566, val_loss=0.288,"
     ]
    },
    {
     "name": "stdout",
     "output_type": "stream",
     "text": [
      "Curent best Test AUC: 0.5887288666249217\n",
      "Its' val AUC : 0.5787685197770831\n",
      "Its external  AUC: 0.4359539940129195\n",
      "Curent best Test AUC: 0.6268002504696305\n",
      "Its' val AUC : 0.6463232295772734\n",
      "Its external  AUC: 0.44430439577753267\n"
     ]
    },
    {
     "name": "stderr",
     "output_type": "stream",
     "text": [
      "Epoch 27:  48%|▍| 24/50 [00:00<00:00, 37.12it/s, train_loss=0.142, val_loss=0.01"
     ]
    },
    {
     "name": "stdout",
     "output_type": "stream",
     "text": [
      "Curent best Test AUC: 0.6379461490294301\n",
      "Its' val AUC : 0.6316433328802501\n",
      "Its external  AUC: 0.4321726800063022\n"
     ]
    },
    {
     "name": "stderr",
     "output_type": "stream",
     "text": [
      "Epoch 47:  88%|▉| 44/50 [00:01<00:00, 37.58it/s, train_loss=0.0269, val_loss=0.0"
     ]
    },
    {
     "name": "stdout",
     "output_type": "stream",
     "text": [
      "Epoch    40: reducing learning rate of group 0 to 5.0000e-04.\n"
     ]
    },
    {
     "name": "stderr",
     "output_type": "stream",
     "text": [
      "Epoch 49: 100%|█| 50/50 [00:01<00:00, 37.07it/s, train_loss=0.0239, val_loss=0.0\n",
      "Epoch 8:  16%|▏| 8/50 [00:00<00:01, 36.58it/s, train_loss=2.13, val_loss=0.329, "
     ]
    },
    {
     "name": "stdout",
     "output_type": "stream",
     "text": [
      "Curent best Test AUC: 0.40137758296806514\n",
      "Its' val AUC : 0.33152100040777494\n",
      "Its external  AUC: 0.49298881361273045\n",
      "Curent best Test AUC: 0.5809643080776455\n",
      "Its' val AUC : 0.6620905260296317\n",
      "Its external  AUC: 0.508429179139751\n",
      "Curent best Test AUC: 0.5968691296180338\n",
      "Its' val AUC : 0.6692945494087263\n",
      "Its external  AUC: 0.49188593036080036\n"
     ]
    },
    {
     "name": "stderr",
     "output_type": "stream",
     "text": [
      "Epoch 29:  56%|▌| 28/50 [00:00<00:00, 37.53it/s, train_loss=0.119, val_loss=0.01"
     ]
    },
    {
     "name": "stdout",
     "output_type": "stream",
     "text": [
      "Curent best Test AUC: 0.6011271133375078\n",
      "Its' val AUC : 0.5468261519641158\n",
      "Its external  AUC: 0.4554907830471089\n"
     ]
    },
    {
     "name": "stderr",
     "output_type": "stream",
     "text": [
      "Epoch 43:  80%|▊| 40/50 [00:01<00:00, 36.64it/s, train_loss=0.0233, val_loss=0.0"
     ]
    },
    {
     "name": "stdout",
     "output_type": "stream",
     "text": [
      "Curent best Test AUC: 0.6012523481527865\n",
      "Its' val AUC : 0.5787685197770831\n",
      "Its external  AUC: 0.5049629746336852\n"
     ]
    },
    {
     "name": "stderr",
     "output_type": "stream",
     "text": [
      "Epoch 49: 100%|█| 50/50 [00:01<00:00, 37.06it/s, train_loss=0.0188, val_loss=0.0\n",
      "Epoch 7:   8%| | 4/50 [00:00<00:01, 33.63it/s, train_loss=0.0306, val_loss=0.009"
     ]
    },
    {
     "name": "stdout",
     "output_type": "stream",
     "text": [
      "Curent best Test AUC: 0.43018159048215404\n",
      "Its' val AUC : 0.3421231480222917\n",
      "Its external  AUC: 0.500551441625965\n",
      "Curent best Test AUC: 0.6364433312460864\n",
      "Its' val AUC : 0.551175750985456\n",
      "Its external  AUC: 0.553647392468883\n"
     ]
    },
    {
     "name": "stderr",
     "output_type": "stream",
     "text": [
      "Epoch 21:  40%|▍| 20/50 [00:00<00:00, 35.83it/s, train_loss=0.0253, val_loss=0.0"
     ]
    },
    {
     "name": "stdout",
     "output_type": "stream",
     "text": [
      "Epoch    15: reducing learning rate of group 0 to 5.0000e-04.\n"
     ]
    },
    {
     "name": "stderr",
     "output_type": "stream",
     "text": [
      "Epoch 49: 100%|█| 50/50 [00:01<00:00, 36.25it/s, train_loss=0.00159, val_loss=0."
     ]
    },
    {
     "name": "stdout",
     "output_type": "stream",
     "text": [
      "Epoch    50: reducing learning rate of group 0 to 2.5000e-04.\n"
     ]
    },
    {
     "name": "stderr",
     "output_type": "stream",
     "text": [
      "\n"
     ]
    }
   ],
   "source": [
    "for i in range(100):\n",
    "    save_dic = {\"model\":\"SAGE\", \n",
    "                \"hid_feats\":256, \n",
    "                'out_feats':12, \n",
    "                'reg_l2':0,\n",
    "                \"aggregator_type\":'mean',\n",
    "                \"save_path\":\"/home/jielian/lung-graph-project/Tumor_tranformer/logs/resnet/\"}\n",
    "\n",
    "    model = SAGE(g_sh.ndata['h'].shape[1],hid_feats=save_dic[\"hid_feats\"],out_feats=save_dic['out_feats'], \n",
    "                           activation = F.leaky_relu, aggregator_type=save_dic['aggregator_type'])\n",
    "    train(g_sh, g_external, model, device, save_dic, idx_train, idx_val, idx_test, 50, patience=10, reg_l2=save_dic[\"reg_l2\"])"
   ]
  },
  {
   "cell_type": "code",
   "execution_count": null,
   "id": "33afe77f",
   "metadata": {},
   "outputs": [],
   "source": []
  },
  {
   "cell_type": "markdown",
   "id": "1b3bddd3",
   "metadata": {},
   "source": [
    "# Testing!"
   ]
  },
  {
   "cell_type": "code",
   "execution_count": 24,
   "id": "3fc5b02e",
   "metadata": {},
   "outputs": [
    {
     "name": "stdout",
     "output_type": "stream",
     "text": [
      "Training: 0.6025972673428319\n",
      "Validation: 0.6620905260296317\n",
      "Testing: 0.6351909830932999\n",
      "External: 0.4813297620923271\n",
      "External: 0.4813297620923271\n"
     ]
    }
   ],
   "source": [
    "g = g_sh\n",
    "#test!\n",
    "save_dic = {\"model\":\"SAGE\", \n",
    "            \"hid_feats\":256, \n",
    "            'out_feats':12, \n",
    "            \"aggregator_type\":'mean',\n",
    "            \"save_path\":\"/home/jielian/lung-graph-project/Tumor_tranformer/logs/resnet/\"}\n",
    "features = g.ndata['h']\n",
    "e_feature = g.edata['w']\n",
    "labels = g.ndata['label']\n",
    "events = g.ndata['event']\n",
    "model = SAGE(g.ndata['h'].shape[1],hid_feats=save_dic[\"hid_feats\"],out_feats=save_dic['out_feats'], \n",
    "                   activation = F.relu, aggregator_type=save_dic['aggregator_type'])\n",
    "pre_train='SAGE256120mean_ep20_val0.713_test0.706_exte0.604.pth.gz'\n",
    "state_dict=torch.load(os.path.join(save_dic[\"save_path\"]+pre_train), map_location='cpu')\n",
    "model.load_state_dict(state_dict)\n",
    "model.eval()\n",
    "outputs = model.forward(g, features,e_feature)\n",
    "auc_train = c_index(-outputs[idx_train], g_all.ndata['label'][idx_train],g_all.ndata['event'][idx_train])\n",
    "print(\"Training:\", auc_train)\n",
    "auc_val = c_index(-outputs[idx_val], g_all.ndata['label'][idx_val],g_all.ndata['event'][idx_val])\n",
    "print(\"Validation:\", auc_val)\n",
    "auc_test = c_index(-outputs[idx_test], g_all.ndata['label'][idx_test],g_all.ndata['event'][idx_test])\n",
    "print(\"Testing:\", auc_test)\n",
    "outputs_val= model.forward(g_external, g_external.ndata['h'],g_external.edata['w'])\n",
    "Exter_test = c_index(-outputs_val, g_all.ndata['label'][idx_external_val],g_all.ndata['event'][idx_external_val])\n",
    "print(\"External:\",Exter_test)\n",
    "Exter_test_val = c_index(-outputs_val, g_external.ndata['label'],g_external.ndata['event'])\n",
    "print(\"External:\",Exter_test_val)\n"
   ]
  },
  {
   "cell_type": "code",
   "execution_count": 25,
   "id": "1b57b855",
   "metadata": {},
   "outputs": [
    {
     "name": "stdout",
     "output_type": "stream",
     "text": [
      "0.7061991233562931\n",
      "0.7311726734803657\n",
      "0.6040649125571136\n",
      "0.6267629858961128\n"
     ]
    }
   ],
   "source": [
    "result1, result2 = np.load(\"logs/resnet/SAGE256120mean_ep20_val0.713_test0.706_exte0.604.npy\", allow_pickle=True)\n",
    "auc_test = c_index(-result1[idx_test], g_all.ndata['label'][idx_test],g_all.ndata['event'][idx_test])\n",
    "print(auc_test)\n",
    "print(roc_auc_score(g_all.ndata['event'][idx_test],result1[idx_test]))\n",
    "\n",
    "print(c_index(-result2, g_external.ndata['label'],g_external.ndata['event']))\n",
    "print(roc_auc_score(g_external.ndata['event'],result2))"
   ]
  },
  {
   "cell_type": "code",
   "execution_count": 26,
   "id": "1d91ea89",
   "metadata": {},
   "outputs": [
    {
     "name": "stdout",
     "output_type": "stream",
     "text": [
      "0.6351909830932999\n",
      "0.4813297620923271\n"
     ]
    },
    {
     "name": "stderr",
     "output_type": "stream",
     "text": [
      "/tmp/ipykernel_6264/3655968121.py:5: SettingWithCopyWarning: \n",
      "A value is trying to be set on a copy of a slice from a DataFrame.\n",
      "Try using .loc[row_indexer,col_indexer] = value instead\n",
      "\n",
      "See the caveats in the documentation: https://pandas.pydata.org/pandas-docs/stable/user_guide/indexing.html#returning-a-view-versus-a-copy\n",
      "  patient_info['risk'] = risk_score\n"
     ]
    }
   ],
   "source": [
    "from lifelines.utils import concordance_index\n",
    "risk_score = []\n",
    "for i in range(len(outputs)):\n",
    "    risk_score.append(outputs[i].item())\n",
    "patient_info['risk'] = risk_score\n",
    "test = patient_info.iloc[test_id,:]\n",
    "print(concordance_index(test['OS_Month'], -test['risk'], test['OS_Status']))\n",
    "\n",
    "exter_risk_score = []\n",
    "for i in range(len(outputs_val)):\n",
    "    exter_risk_score.append(outputs_val[i].item())\n",
    "external_info['risk'] = exter_risk_score\n",
    "print(concordance_index(external_info['OS_Month'], -external_info['risk'], external_info['OS_Status']))"
   ]
  },
  {
   "cell_type": "code",
   "execution_count": 26,
   "id": "47a19112",
   "metadata": {},
   "outputs": [],
   "source": [
    "test_result_path = \"/home/jielian/lung-graph-project/Tumor_tranformer/logs/results/\"\n",
    "test_result_name = \"ResNet\"+pre_train[:-7]+\".csv\"\n",
    "test.to_csv(test_result_path+test_result_name, index = False)"
   ]
  },
  {
   "cell_type": "code",
   "execution_count": 27,
   "id": "7655eede",
   "metadata": {},
   "outputs": [],
   "source": [
    "EXTtest_result_path = \"/home/jielian/lung-graph-project/Tumor_tranformer/logs/results/\"\n",
    "EXTtest_result_name = \"ResNet\"+pre_train[:-7]+\"_EXTERNAL.csv\"\n",
    "external_info.to_csv(EXTtest_result_path+EXTtest_result_name, index = False)"
   ]
  },
  {
   "cell_type": "code",
   "execution_count": 28,
   "id": "eba785fb",
   "metadata": {},
   "outputs": [
    {
     "name": "stdout",
     "output_type": "stream",
     "text": [
      "========AUC=========\n",
      "OS on Testing Set: 0.6754975793437332\n",
      "OS on External Set: 0.6314069487444101\n",
      "RFS on Testing Set: 0.6250275148580233\n",
      "RFS on External Set: 0.7073874567141207\n"
     ]
    }
   ],
   "source": [
    "print(\"========AUC=========\")\n",
    "print(\"OS on Testing Set:\", roc_auc_score(test['OS_Status'], test['risk']))\n",
    "print(\"OS on External Set:\",roc_auc_score(external_info['OS_Status'], external_info['risk']))\n",
    "print(\"RFS on Testing Set:\",roc_auc_score(test['RFS_Status'], test['risk']))\n",
    "print(\"RFS on External Set:\",roc_auc_score(external_info['RFS_Status'], external_info['risk']))"
   ]
  },
  {
   "cell_type": "code",
   "execution_count": null,
   "id": "d9ad0a22",
   "metadata": {},
   "outputs": [],
   "source": []
  },
  {
   "cell_type": "code",
   "execution_count": null,
   "id": "b8caa870",
   "metadata": {},
   "outputs": [],
   "source": []
  }
 ],
 "metadata": {
  "kernelspec": {
   "display_name": "Python 3 (ipykernel)",
   "language": "python",
   "name": "python3"
  },
  "language_info": {
   "codemirror_mode": {
    "name": "ipython",
    "version": 3
   },
   "file_extension": ".py",
   "mimetype": "text/x-python",
   "name": "python",
   "nbconvert_exporter": "python",
   "pygments_lexer": "ipython3",
   "version": "3.8.8"
  }
 },
 "nbformat": 4,
 "nbformat_minor": 5
}
